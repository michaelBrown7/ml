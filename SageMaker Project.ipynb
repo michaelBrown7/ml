{
 "cells": [
  {
   "cell_type": "markdown",
   "metadata": {},
   "source": [
    "# Creating a Sentiment Analysis Web App\n",
    "## Using PyTorch and SageMaker\n",
    "\n",
    "_Deep Learning Nanodegree Program | Deployment_\n",
    "\n",
    "---\n",
    "\n",
    "Now that we have a basic understanding of how SageMaker works we will try to use it to construct a complete project from end to end. Our goal will be to have a simple web page which a user can use to enter a movie review. The web page will then send the review off to our deployed model which will predict the sentiment of the entered review.\n",
    "\n",
    "## Instructions\n",
    "\n",
    "Some template code has already been provided for you, and you will need to implement additional functionality to successfully complete this notebook. You will not need to modify the included code beyond what is requested. Sections that begin with '**TODO**' in the header indicate that you need to complete or implement some portion within them. Instructions will be provided for each section and the specifics of the implementation are marked in the code block with a `# TODO: ...` comment. Please be sure to read the instructions carefully!\n",
    "\n",
    "In addition to implementing code, there will be questions for you to answer which relate to the task and your implementation. Each section where you will answer a question is preceded by a '**Question:**' header. Carefully read each question and provide your answer below the '**Answer:**' header by editing the Markdown cell.\n",
    "\n",
    "> **Note**: Code and Markdown cells can be executed using the **Shift+Enter** keyboard shortcut. In addition, a cell can be edited by typically clicking it (double-click for Markdown cells) or by pressing **Enter** while it is highlighted.\n",
    "\n",
    "## General Outline\n",
    "\n",
    "Recall the general outline for SageMaker projects using a notebook instance.\n",
    "\n",
    "1. Download or otherwise retrieve the data.\n",
    "2. Process / Prepare the data.\n",
    "3. Upload the processed data to S3.\n",
    "4. Train a chosen model.\n",
    "5. Test the trained model (typically using a batch transform job).\n",
    "6. Deploy the trained model.\n",
    "7. Use the deployed model.\n",
    "\n",
    "For this project, you will be following the steps in the general outline with some modifications. \n",
    "\n",
    "First, you will not be testing the model in its own step. You will still be testing the model, however, you will do it by deploying your model and then using the deployed model by sending the test data to it. One of the reasons for doing this is so that you can make sure that your deployed model is working correctly before moving forward.\n",
    "\n",
    "In addition, you will deploy and use your trained model a second time. In the second iteration you will customize the way that your trained model is deployed by including some of your own code. In addition, your newly deployed model will be used in the sentiment analysis web app."
   ]
  },
  {
   "cell_type": "markdown",
   "metadata": {},
   "source": [
    "## Step 1: Downloading the data\n",
    "\n",
    "As in the XGBoost in SageMaker notebook, we will be using the [IMDb dataset](http://ai.stanford.edu/~amaas/data/sentiment/)\n",
    "\n",
    "> Maas, Andrew L., et al. [Learning Word Vectors for Sentiment Analysis](http://ai.stanford.edu/~amaas/data/sentiment/). In _Proceedings of the 49th Annual Meeting of the Association for Computational Linguistics: Human Language Technologies_. Association for Computational Linguistics, 2011."
   ]
  },
  {
   "cell_type": "code",
   "execution_count": 2,
   "metadata": {},
   "outputs": [
    {
     "name": "stdout",
     "output_type": "stream",
     "text": [
      "mkdir: cannot create directory ‘../data’: File exists\n",
      "--2019-10-02 12:37:08--  http://ai.stanford.edu/~amaas/data/sentiment/aclImdb_v1.tar.gz\n",
      "Resolving ai.stanford.edu (ai.stanford.edu)... 171.64.68.10\n",
      "Connecting to ai.stanford.edu (ai.stanford.edu)|171.64.68.10|:80... connected.\n",
      "HTTP request sent, awaiting response... 200 OK\n",
      "Length: 84125825 (80M) [application/x-gzip]\n",
      "Saving to: ‘../data/aclImdb_v1.tar.gz’\n",
      "\n",
      "../data/aclImdb_v1. 100%[===================>]  80.23M  10.0MB/s    in 10s     \n",
      "\n",
      "2019-10-02 12:37:18 (8.04 MB/s) - ‘../data/aclImdb_v1.tar.gz’ saved [84125825/84125825]\n",
      "\n"
     ]
    }
   ],
   "source": [
    "%mkdir ../data\n",
    "!wget -O ../data/aclImdb_v1.tar.gz http://ai.stanford.edu/~amaas/data/sentiment/aclImdb_v1.tar.gz\n",
    "!tar -zxf ../data/aclImdb_v1.tar.gz -C ../data"
   ]
  },
  {
   "cell_type": "markdown",
   "metadata": {},
   "source": [
    "## Step 2: Preparing and Processing the data\n",
    "\n",
    "Also, as in the XGBoost notebook, we will be doing some initial data processing. The first few steps are the same as in the XGBoost example. To begin with, we will read in each of the reviews and combine them into a single input structure. Then, we will split the dataset into a training set and a testing set."
   ]
  },
  {
   "cell_type": "code",
   "execution_count": 3,
   "metadata": {},
   "outputs": [],
   "source": [
    "import os\n",
    "import glob\n",
    "\n",
    "def read_imdb_data(data_dir='../data/aclImdb'):\n",
    "    data = {}\n",
    "    labels = {}\n",
    "    \n",
    "    for data_type in ['train', 'test']:\n",
    "        data[data_type] = {}\n",
    "        labels[data_type] = {}\n",
    "        \n",
    "        for sentiment in ['pos', 'neg']:\n",
    "            data[data_type][sentiment] = []\n",
    "            labels[data_type][sentiment] = []\n",
    "            \n",
    "            path = os.path.join(data_dir, data_type, sentiment, '*.txt')\n",
    "            files = glob.glob(path)\n",
    "            \n",
    "            for f in files:\n",
    "                with open(f) as review:\n",
    "                    data[data_type][sentiment].append(review.read())\n",
    "                    # Here we represent a positive review by '1' and a negative review by '0'\n",
    "                    labels[data_type][sentiment].append(1 if sentiment == 'pos' else 0)\n",
    "                    \n",
    "            assert len(data[data_type][sentiment]) == len(labels[data_type][sentiment]), \\\n",
    "                    \"{}/{} data size does not match labels size\".format(data_type, sentiment)\n",
    "                \n",
    "    return data, labels"
   ]
  },
  {
   "cell_type": "code",
   "execution_count": 4,
   "metadata": {},
   "outputs": [
    {
     "name": "stdout",
     "output_type": "stream",
     "text": [
      "IMDB reviews: train = 12500 pos / 12500 neg, test = 12500 pos / 12500 neg\n"
     ]
    }
   ],
   "source": [
    "data, labels = read_imdb_data()\n",
    "print(\"IMDB reviews: train = {} pos / {} neg, test = {} pos / {} neg\".format(\n",
    "            len(data['train']['pos']), len(data['train']['neg']),\n",
    "            len(data['test']['pos']), len(data['test']['neg'])))"
   ]
  },
  {
   "cell_type": "markdown",
   "metadata": {},
   "source": [
    "Now that we've read the raw training and testing data from the downloaded dataset, we will combine the positive and negative reviews and shuffle the resulting records."
   ]
  },
  {
   "cell_type": "code",
   "execution_count": 5,
   "metadata": {},
   "outputs": [],
   "source": [
    "from sklearn.utils import shuffle\n",
    "\n",
    "def prepare_imdb_data(data, labels):\n",
    "    \"\"\"Prepare training and test sets from IMDb movie reviews.\"\"\"\n",
    "    \n",
    "    #Combine positive and negative reviews and labels\n",
    "    data_train = data['train']['pos'] + data['train']['neg']\n",
    "    data_test = data['test']['pos'] + data['test']['neg']\n",
    "    labels_train = labels['train']['pos'] + labels['train']['neg']\n",
    "    labels_test = labels['test']['pos'] + labels['test']['neg']\n",
    "    \n",
    "    #Shuffle reviews and corresponding labels within training and test sets\n",
    "    data_train, labels_train = shuffle(data_train, labels_train)\n",
    "    data_test, labels_test = shuffle(data_test, labels_test)\n",
    "    \n",
    "    # Return a unified training data, test data, training labels, test labets\n",
    "    return data_train, data_test, labels_train, labels_test"
   ]
  },
  {
   "cell_type": "code",
   "execution_count": 6,
   "metadata": {},
   "outputs": [
    {
     "name": "stdout",
     "output_type": "stream",
     "text": [
      "IMDb reviews (combined): train = 25000, test = 25000\n"
     ]
    }
   ],
   "source": [
    "train_X, test_X, train_y, test_y = prepare_imdb_data(data, labels)\n",
    "print(\"IMDb reviews (combined): train = {}, test = {}\".format(len(train_X), len(test_X)))"
   ]
  },
  {
   "cell_type": "markdown",
   "metadata": {},
   "source": [
    "Now that we have our training and testing sets unified and prepared, we should do a quick check and see an example of the data our model will be trained on. This is generally a good idea as it allows you to see how each of the further processing steps affects the reviews and it also ensures that the data has been loaded correctly."
   ]
  },
  {
   "cell_type": "code",
   "execution_count": 7,
   "metadata": {},
   "outputs": [
    {
     "name": "stdout",
     "output_type": "stream",
     "text": [
      "New York, I Love You finally makes it to our shores, but its 10 short stories on love somehow didn't find reason enough to be released over Valentine's, probably due to the fact that this year's festival also falls on Lunar New Year, and with that comes the usual LNY blockbuster films from the likes of Jackie Chan (no, not The Spy Next Door) and local filmmaker Jack Neo who has traditionally released his latest film over that period to resounding success. So why fix a formula that hasn't been broken?<br /><br />Continuing in concept where Paris, Je T'aime had begun in spawning the City of Love Franchise (Shanghai will be next, so says the end of the closing credits here), the buzz here is definitely about the intertwining stories set in one of the cities of the world to allow for various interpretations from filmmakers all over to come up with stories based on love as a theme, although someone probably forgot to tell Scarlett Johansson some of the finer points in the sandbox ground rules, and her short was unceremoniously dropped from the theatrical edition for being unable to fit into everything else (well, it was shot in black and white), but here's hoping that it would make it to the DVD at least.<br /><br />Structurally, this series is less compartmentalized compared to its predecessor, which if memory serves me right had individual stories set within its own confines and never really breaking out of its artificial borders created. Here a little more leeway is given, where characters from various stories interact in short filler segments used to bridge scenes together, and not just solely reliant on pick up shots made up of buildings and landscapes, in hopes of making things look a little bit more serendipitous with the idea of chance encounters amongst strangers, though one story craftily adopted this mindset for its own narrative to deliver a surprise, though already seen in Paris.<br /><br />One of the top draws for sitting through a film like this one, is definitely the creative forces behind the stories, from writers, directors and cinematographers from various geographies and backgrounds mirroring the makeup of the cosmopolitan city, coming together for a concept film. And what more the star-studded cast too, with big names amongst the lesser known ones all upping the ante through picture perfect performances, be it for the entire length of the short, or as a support to build upon. You can't deny the initial star-gazing in recognizing the notables, from Irrfan Khan to Natalie Portman (who also had writing and directing duties), Rachel Bilson (looking quite like Bardot) to Spielberg's blue eye boy Shia LaBeouf, who surprisingly can act, and shows off more in his few minutes here than his entire filmography to date.<br /><br />Story wise, like any anthology, you'll find some which will automatically appeal to you, and with others that don't. Some are straightforward in nature, while others have to come up with gimmicky twists that thankfully worked. But these 10 stories plus 1 (because Randall Balsmeyer was given duties to integrate everything together for a more organic feel instead of just plain pick up shots of lesser known areas and established landmarks) somehow lacked the more \"anything goes\" spirit from its predecessor, with stories more rooted in reality, compared to some fantastical elements in the previous film (Elijah Wood's dalliance with a vampire anyone?), or even less adventurous with its narrative style (Christopher Doyle's, and Tom Tykwer's starring Natalie Portman). Here it seemed that the filmmakers opted very much for safe, with none venturing into that spirit of adventure and experiment.<br /><br />Minor quibbles aside, I still enjoyed almost all the shorts here, contrary to what many others have felt about it. The short film format is still very much alive, and having them strung together into a feature under the City of Love banner works fine, and left me wondering which other cities are or have been included in its lineup. I am hoping that perhaps the franchise will catch on and spread its influence here. We surely have enough prolific filmmakers to be stringing together a Singapore, I Love You, so here's crossing my fingers that maybe something will materialize down the road. Otherwise there's always the Sawasdee Bangkok route of just making it without any attachments to franchise house rules.\n",
      "1\n"
     ]
    }
   ],
   "source": [
    "print(train_X[100])\n",
    "print(train_y[100])"
   ]
  },
  {
   "cell_type": "markdown",
   "metadata": {},
   "source": [
    "The first step in processing the reviews is to make sure that any html tags that appear should be removed. In addition we wish to tokenize our input, that way words such as *entertained* and *entertaining* are considered the same with regard to sentiment analysis."
   ]
  },
  {
   "cell_type": "code",
   "execution_count": 8,
   "metadata": {},
   "outputs": [],
   "source": [
    "import nltk\n",
    "from nltk.corpus import stopwords\n",
    "from nltk.stem.porter import *\n",
    "\n",
    "import re\n",
    "from bs4 import BeautifulSoup\n",
    "\n",
    "def review_to_words(review):\n",
    "    nltk.download(\"stopwords\", quiet=True)\n",
    "    stemmer = PorterStemmer()\n",
    "    \n",
    "    text = BeautifulSoup(review, \"html.parser\").get_text() # Remove HTML tags\n",
    "    text = re.sub(r\"[^a-zA-Z0-9]\", \" \", text.lower()) # Convert to lower case\n",
    "    words = text.split() # Split string into words\n",
    "    words = [w for w in words if w not in stopwords.words(\"english\")] # Remove stopwords\n",
    "    words = [PorterStemmer().stem(w) for w in words] # stem\n",
    "    \n",
    "    return words"
   ]
  },
  {
   "cell_type": "markdown",
   "metadata": {},
   "source": [
    "The `review_to_words` method defined above uses `BeautifulSoup` to remove any html tags that appear and uses the `nltk` package to tokenize the reviews. As a check to ensure we know how everything is working, try applying `review_to_words` to one of the reviews in the training set."
   ]
  },
  {
   "cell_type": "code",
   "execution_count": 9,
   "metadata": {},
   "outputs": [
    {
     "name": "stdout",
     "output_type": "stream",
     "text": [
      "['new', 'york', 'love', 'final', 'make', 'shore', '10', 'short', 'stori', 'love', 'somehow', 'find', 'reason', 'enough', 'releas', 'valentin', 'probabl', 'due', 'fact', 'year', 'festiv', 'also', 'fall', 'lunar', 'new', 'year', 'come', 'usual', 'lni', 'blockbust', 'film', 'like', 'jacki', 'chan', 'spi', 'next', 'door', 'local', 'filmmak', 'jack', 'neo', 'tradit', 'releas', 'latest', 'film', 'period', 'resound', 'success', 'fix', 'formula', 'broken', 'continu', 'concept', 'pari', 'je', 'aim', 'begun', 'spawn', 'citi', 'love', 'franchis', 'shanghai', 'next', 'say', 'end', 'close', 'credit', 'buzz', 'definit', 'intertwin', 'stori', 'set', 'one', 'citi', 'world', 'allow', 'variou', 'interpret', 'filmmak', 'come', 'stori', 'base', 'love', 'theme', 'although', 'someon', 'probabl', 'forgot', 'tell', 'scarlett', 'johansson', 'finer', 'point', 'sandbox', 'ground', 'rule', 'short', 'unceremoni', 'drop', 'theatric', 'edit', 'unabl', 'fit', 'everyth', 'els', 'well', 'shot', 'black', 'white', 'hope', 'would', 'make', 'dvd', 'least', 'structur', 'seri', 'less', 'compartment', 'compar', 'predecessor', 'memori', 'serv', 'right', 'individu', 'stori', 'set', 'within', 'confin', 'never', 'realli', 'break', 'artifici', 'border', 'creat', 'littl', 'leeway', 'given', 'charact', 'variou', 'stori', 'interact', 'short', 'filler', 'segment', 'use', 'bridg', 'scene', 'togeth', 'sole', 'reliant', 'pick', 'shot', 'made', 'build', 'landscap', 'hope', 'make', 'thing', 'look', 'littl', 'bit', 'serendipit', 'idea', 'chanc', 'encount', 'amongst', 'stranger', 'though', 'one', 'stori', 'craftili', 'adopt', 'mindset', 'narr', 'deliv', 'surpris', 'though', 'alreadi', 'seen', 'pari', 'one', 'top', 'draw', 'sit', 'film', 'like', 'one', 'definit', 'creativ', 'forc', 'behind', 'stori', 'writer', 'director', 'cinematograph', 'variou', 'geographi', 'background', 'mirror', 'makeup', 'cosmopolitan', 'citi', 'come', 'togeth', 'concept', 'film', 'star', 'stud', 'cast', 'big', 'name', 'amongst', 'lesser', 'known', 'one', 'up', 'ant', 'pictur', 'perfect', 'perform', 'entir', 'length', 'short', 'support', 'build', 'upon', 'deni', 'initi', 'star', 'gaze', 'recogn', 'notabl', 'irrfan', 'khan', 'natali', 'portman', 'also', 'write', 'direct', 'duti', 'rachel', 'bilson', 'look', 'quit', 'like', 'bardot', 'spielberg', 'blue', 'eye', 'boy', 'shia', 'labeouf', 'surprisingli', 'act', 'show', 'minut', 'entir', 'filmographi', 'date', 'stori', 'wise', 'like', 'antholog', 'find', 'automat', 'appeal', 'other', 'straightforward', 'natur', 'other', 'come', 'gimmicki', 'twist', 'thank', 'work', '10', 'stori', 'plu', '1', 'randal', 'balsmey', 'given', 'duti', 'integr', 'everyth', 'togeth', 'organ', 'feel', 'instead', 'plain', 'pick', 'shot', 'lesser', 'known', 'area', 'establish', 'landmark', 'somehow', 'lack', 'anyth', 'goe', 'spirit', 'predecessor', 'stori', 'root', 'realiti', 'compar', 'fantast', 'element', 'previou', 'film', 'elijah', 'wood', 'dallianc', 'vampir', 'anyon', 'even', 'less', 'adventur', 'narr', 'style', 'christoph', 'doyl', 'tom', 'tykwer', 'star', 'natali', 'portman', 'seem', 'filmmak', 'opt', 'much', 'safe', 'none', 'ventur', 'spirit', 'adventur', 'experi', 'minor', 'quibbl', 'asid', 'still', 'enjoy', 'almost', 'short', 'contrari', 'mani', 'other', 'felt', 'short', 'film', 'format', 'still', 'much', 'aliv', 'strung', 'togeth', 'featur', 'citi', 'love', 'banner', 'work', 'fine', 'left', 'wonder', 'citi', 'includ', 'lineup', 'hope', 'perhap', 'franchis', 'catch', 'spread', 'influenc', 'sure', 'enough', 'prolif', 'filmmak', 'string', 'togeth', 'singapor', 'love', 'cross', 'finger', 'mayb', 'someth', 'materi', 'road', 'otherwis', 'alway', 'sawasde', 'bangkok', 'rout', 'make', 'without', 'attach', 'franchis', 'hous', 'rule']\n"
     ]
    }
   ],
   "source": [
    "# TODO: Apply review_to_words to a review (train_X[100] or any other review)\n",
    "\n",
    "print(review_to_words(train_X[100]))\n"
   ]
  },
  {
   "cell_type": "markdown",
   "metadata": {},
   "source": [
    "**Question:** Above we mentioned that `review_to_words` method removes html formatting and allows us to tokenize the words found in a review, for example, converting *entertained* and *entertaining* into *entertain* so that they are treated as though they are the same word. What else, if anything, does this method do to the input?"
   ]
  },
  {
   "cell_type": "markdown",
   "metadata": {},
   "source": [
    "**Answer:**"
   ]
  },
  {
   "cell_type": "markdown",
   "metadata": {},
   "source": [
    "The method below applies the `review_to_words` method to each of the reviews in the training and testing datasets. In addition it caches the results. This is because performing this processing step can take a long time. This way if you are unable to complete the notebook in the current session, you can come back without needing to process the data a second time."
   ]
  },
  {
   "cell_type": "code",
   "execution_count": 10,
   "metadata": {},
   "outputs": [],
   "source": [
    "import pickle\n",
    "\n",
    "cache_dir = os.path.join(\"../cache\", \"sentiment_analysis\")  # where to store cache files\n",
    "os.makedirs(cache_dir, exist_ok=True)  # ensure cache directory exists\n",
    "\n",
    "def preprocess_data(data_train, data_test, labels_train, labels_test,\n",
    "                    cache_dir=cache_dir, cache_file=\"preprocessed_data.pkl\"):\n",
    "    \"\"\"Convert each review to words; read from cache if available.\"\"\"\n",
    "\n",
    "    # If cache_file is not None, try to read from it first\n",
    "    cache_data = None\n",
    "    if cache_file is not None:\n",
    "        try:\n",
    "            with open(os.path.join(cache_dir, cache_file), \"rb\") as f:\n",
    "                cache_data = pickle.load(f)\n",
    "            print(\"Read preprocessed data from cache file:\", cache_file)\n",
    "        except:\n",
    "            pass  # unable to read from cache, but that's okay\n",
    "    \n",
    "    # If cache is missing, then do the heavy lifting\n",
    "    if cache_data is None:\n",
    "        # Preprocess training and test data to obtain words for each review\n",
    "        #words_train = list(map(review_to_words, data_train))\n",
    "        #words_test = list(map(review_to_words, data_test))\n",
    "        words_train = [review_to_words(review) for review in data_train]\n",
    "        words_test = [review_to_words(review) for review in data_test]\n",
    "        \n",
    "        # Write to cache file for future runs\n",
    "        if cache_file is not None:\n",
    "            cache_data = dict(words_train=words_train, words_test=words_test,\n",
    "                              labels_train=labels_train, labels_test=labels_test)\n",
    "            with open(os.path.join(cache_dir, cache_file), \"wb\") as f:\n",
    "                pickle.dump(cache_data, f)\n",
    "            print(\"Wrote preprocessed data to cache file:\", cache_file)\n",
    "    else:\n",
    "        # Unpack data loaded from cache file\n",
    "        words_train, words_test, labels_train, labels_test = (cache_data['words_train'],\n",
    "                cache_data['words_test'], cache_data['labels_train'], cache_data['labels_test'])\n",
    "    \n",
    "    return words_train, words_test, labels_train, labels_test"
   ]
  },
  {
   "cell_type": "code",
   "execution_count": 11,
   "metadata": {},
   "outputs": [
    {
     "name": "stdout",
     "output_type": "stream",
     "text": [
      "Read preprocessed data from cache file: preprocessed_data.pkl\n"
     ]
    }
   ],
   "source": [
    "# Preprocess data\n",
    "train_X, test_X, train_y, test_y = preprocess_data(train_X, test_X, train_y, test_y)"
   ]
  },
  {
   "cell_type": "markdown",
   "metadata": {},
   "source": [
    "## Transform the data\n",
    "\n",
    "In the XGBoost notebook we transformed the data from its word representation to a bag-of-words feature representation. For the model we are going to construct in this notebook we will construct a feature representation which is very similar. To start, we will represent each word as an integer. Of course, some of the words that appear in the reviews occur very infrequently and so likely don't contain much information for the purposes of sentiment analysis. The way we will deal with this problem is that we will fix the size of our working vocabulary and we will only include the words that appear most frequently. We will then combine all of the infrequent words into a single category and, in our case, we will label it as `1`.\n",
    "\n",
    "Since we will be using a recurrent neural network, it will be convenient if the length of each review is the same. To do this, we will fix a size for our reviews and then pad short reviews with the category 'no word' (which we will label `0`) and truncate long reviews."
   ]
  },
  {
   "cell_type": "markdown",
   "metadata": {},
   "source": [
    "### (TODO) Create a word dictionary\n",
    "\n",
    "To begin with, we need to construct a way to map words that appear in the reviews to integers. Here we fix the size of our vocabulary (including the 'no word' and 'infrequent' categories) to be `5000` but you may wish to change this to see how it affects the model.\n",
    "\n",
    "> **TODO:** Complete the implementation for the `build_dict()` method below. Note that even though the vocab_size is set to `5000`, we only want to construct a mapping for the most frequently appearing `4998` words. This is because we want to reserve the special labels `0` for 'no word' and `1` for 'infrequent word'."
   ]
  },
  {
   "cell_type": "code",
   "execution_count": 12,
   "metadata": {},
   "outputs": [],
   "source": [
    "import numpy as np\n",
    "\n",
    "def build_dict(data, vocab_size = 5000):\n",
    "    \"\"\"Construct and return a dictionary mapping each of the most frequently appearing words to a unique integer.\"\"\"\n",
    "    \n",
    "    word_count = {} \n",
    "    \n",
    "    for sentence in data:\n",
    "        for word in sentence:\n",
    "            if word in word_count:\n",
    "                word_count[word] += 1\n",
    "            else:\n",
    "                word_count[word] = 1\n",
    "    \n",
    "    \n",
    "    sorted_words = []\n",
    "    for i in sorted(word_count.items(), key=lambda x: x[1], reverse=True):\n",
    "        sorted_words.append(i[0])\n",
    "       \n",
    "    word_dict = {} \n",
    "    for idx, word in enumerate(sorted_words[:vocab_size - 2]): # The -2 is so that we save room for the 'no word'\n",
    "        word_dict[word] = idx + 2                              # 'infrequent' labels\n",
    "        \n",
    "    return word_dict"
   ]
  },
  {
   "cell_type": "code",
   "execution_count": 13,
   "metadata": {},
   "outputs": [
    {
     "name": "stdout",
     "output_type": "stream",
     "text": [
      "{'movi': 2, 'film': 3, 'one': 4, 'like': 5, 'time': 6, 'good': 7, 'make': 8, 'charact': 9, 'get': 10, 'see': 11, 'watch': 12, 'stori': 13, 'even': 14, 'would': 15, 'realli': 16, 'well': 17, 'scene': 18, 'look': 19, 'show': 20, 'much': 21, 'end': 22, 'peopl': 23, 'bad': 24, 'go': 25, 'great': 26, 'also': 27, 'first': 28, 'love': 29, 'think': 30, 'way': 31, 'act': 32, 'play': 33, 'made': 34, 'thing': 35, 'could': 36, 'know': 37, 'say': 38, 'seem': 39, 'work': 40, 'plot': 41, 'two': 42, 'actor': 43, 'year': 44, 'come': 45, 'mani': 46, 'seen': 47, 'take': 48, 'want': 49, 'life': 50, 'never': 51, 'littl': 52, 'best': 53, 'tri': 54, 'man': 55, 'ever': 56, 'give': 57, 'better': 58, 'still': 59, 'perform': 60, 'find': 61, 'feel': 62, 'part': 63, 'back': 64, 'use': 65, 'someth': 66, 'director': 67, 'actual': 68, 'interest': 69, 'lot': 70, 'real': 71, 'old': 72, 'cast': 73, 'though': 74, 'live': 75, 'star': 76, 'enjoy': 77, 'guy': 78, 'anoth': 79, 'new': 80, 'role': 81, 'noth': 82, '10': 83, 'funni': 84, 'music': 85, 'point': 86, 'start': 87, 'set': 88, 'girl': 89, 'origin': 90, 'day': 91, 'world': 92, 'everi': 93, 'believ': 94, 'turn': 95, 'quit': 96, 'direct': 97, 'us': 98, 'thought': 99, 'fact': 100, 'minut': 101, 'horror': 102, 'kill': 103, 'action': 104, 'comedi': 105, 'pretti': 106, 'young': 107, 'wonder': 108, 'happen': 109, 'around': 110, 'got': 111, 'effect': 112, 'right': 113, 'long': 114, 'howev': 115, 'big': 116, 'line': 117, 'famili': 118, 'enough': 119, 'seri': 120, 'may': 121, 'need': 122, 'fan': 123, 'bit': 124, 'script': 125, 'beauti': 126, 'person': 127, 'becom': 128, 'without': 129, 'must': 130, 'alway': 131, 'friend': 132, 'tell': 133, 'reason': 134, 'saw': 135, 'last': 136, 'final': 137, 'kid': 138, 'almost': 139, 'put': 140, 'least': 141, 'sure': 142, 'done': 143, 'whole': 144, 'place': 145, 'complet': 146, 'kind': 147, 'expect': 148, 'differ': 149, 'shot': 150, 'far': 151, 'mean': 152, 'anyth': 153, 'book': 154, 'laugh': 155, 'might': 156, 'name': 157, 'sinc': 158, 'begin': 159, '2': 160, 'probabl': 161, 'woman': 162, 'help': 163, 'entertain': 164, 'let': 165, 'screen': 166, 'call': 167, 'tv': 168, 'moment': 169, 'away': 170, 'read': 171, 'yet': 172, 'rather': 173, 'worst': 174, 'run': 175, 'fun': 176, 'lead': 177, 'hard': 178, 'audienc': 179, 'idea': 180, 'anyon': 181, 'episod': 182, 'american': 183, 'found': 184, 'appear': 185, 'bore': 186, 'especi': 187, 'although': 188, 'hope': 189, 'cours': 190, 'keep': 191, 'anim': 192, 'job': 193, 'goe': 194, 'move': 195, 'sens': 196, 'version': 197, 'dvd': 198, 'war': 199, 'money': 200, 'someon': 201, 'mind': 202, 'mayb': 203, 'problem': 204, 'true': 205, 'hous': 206, 'everyth': 207, 'nice': 208, 'second': 209, 'rate': 210, 'three': 211, 'night': 212, 'follow': 213, 'face': 214, 'recommend': 215, 'product': 216, 'main': 217, 'worth': 218, 'leav': 219, 'human': 220, 'special': 221, 'excel': 222, 'togeth': 223, 'wast': 224, 'everyon': 225, 'sound': 226, 'john': 227, 'hand': 228, '1': 229, 'father': 230, 'later': 231, 'eye': 232, 'said': 233, 'view': 234, 'instead': 235, 'review': 236, 'boy': 237, 'high': 238, 'hour': 239, 'miss': 240, 'classic': 241, 'talk': 242, 'wife': 243, 'understand': 244, 'left': 245, 'care': 246, 'black': 247, 'death': 248, 'open': 249, 'murder': 250, 'write': 251, 'half': 252, 'head': 253, 'rememb': 254, 'chang': 255, 'viewer': 256, 'fight': 257, 'gener': 258, 'surpris': 259, 'short': 260, 'includ': 261, 'die': 262, 'fall': 263, 'less': 264, 'els': 265, 'entir': 266, 'piec': 267, 'involv': 268, 'pictur': 269, 'simpli': 270, 'home': 271, 'top': 272, 'power': 273, 'total': 274, 'usual': 275, 'budget': 276, 'attempt': 277, 'suppos': 278, 'releas': 279, 'hollywood': 280, 'terribl': 281, 'song': 282, 'men': 283, 'possibl': 284, 'featur': 285, 'portray': 286, 'disappoint': 287, 'poor': 288, '3': 289, 'coupl': 290, 'stupid': 291, 'camera': 292, 'dead': 293, 'wrong': 294, 'produc': 295, 'low': 296, 'video': 297, 'either': 298, 'aw': 299, 'definit': 300, 'except': 301, 'rest': 302, 'given': 303, 'absolut': 304, 'women': 305, 'lack': 306, 'word': 307, 'writer': 308, 'titl': 309, 'talent': 310, 'decid': 311, 'full': 312, 'perfect': 313, 'along': 314, 'style': 315, 'close': 316, 'truli': 317, 'school': 318, 'emot': 319, 'save': 320, 'age': 321, 'sex': 322, 'next': 323, 'bring': 324, 'mr': 325, 'case': 326, 'killer': 327, 'heart': 328, 'comment': 329, 'sort': 330, 'creat': 331, 'perhap': 332, 'came': 333, 'brother': 334, 'sever': 335, 'joke': 336, 'art': 337, 'dialogu': 338, 'game': 339, 'small': 340, 'base': 341, 'flick': 342, 'written': 343, 'sequenc': 344, 'meet': 345, 'earli': 346, 'often': 347, 'other': 348, 'mother': 349, 'develop': 350, 'humor': 351, 'actress': 352, 'consid': 353, 'dark': 354, 'guess': 355, 'amaz': 356, 'unfortun': 357, 'lost': 358, 'light': 359, 'exampl': 360, 'cinema': 361, 'drama': 362, 'white': 363, 'ye': 364, 'experi': 365, 'imagin': 366, 'mention': 367, 'stop': 368, 'natur': 369, 'forc': 370, 'manag': 371, 'felt': 372, 'present': 373, 'cut': 374, 'children': 375, 'fail': 376, 'son': 377, 'qualiti': 378, 'support': 379, 'car': 380, 'ask': 381, 'hit': 382, 'side': 383, 'voic': 384, 'extrem': 385, 'impress': 386, 'wors': 387, 'evil': 388, 'went': 389, 'stand': 390, 'certainli': 391, 'basic': 392, 'oh': 393, 'overal': 394, 'favorit': 395, 'horribl': 396, 'mysteri': 397, 'number': 398, 'type': 399, 'danc': 400, 'wait': 401, 'hero': 402, 'alreadi': 403, '5': 404, 'learn': 405, 'matter': 406, '4': 407, 'michael': 408, 'genr': 409, 'fine': 410, 'despit': 411, 'throughout': 412, 'walk': 413, 'success': 414, 'histori': 415, 'question': 416, 'zombi': 417, 'town': 418, 'relationship': 419, 'realiz': 420, 'child': 421, 'past': 422, 'daughter': 423, 'late': 424, 'b': 425, 'wish': 426, 'hate': 427, 'credit': 428, 'event': 429, 'theme': 430, 'touch': 431, 'citi': 432, 'today': 433, 'sometim': 434, 'behind': 435, 'god': 436, 'twist': 437, 'sit': 438, 'stay': 439, 'deal': 440, 'annoy': 441, 'abl': 442, 'rent': 443, 'pleas': 444, 'edit': 445, 'blood': 446, 'deserv': 447, 'comic': 448, 'anyway': 449, 'appar': 450, 'soon': 451, 'gave': 452, 'etc': 453, 'level': 454, 'slow': 455, 'chanc': 456, 'score': 457, 'bodi': 458, 'brilliant': 459, 'incred': 460, 'figur': 461, 'situat': 462, 'major': 463, 'self': 464, 'stuff': 465, 'decent': 466, 'element': 467, 'dream': 468, 'return': 469, 'obvious': 470, 'continu': 471, 'order': 472, 'pace': 473, 'ridicul': 474, 'happi': 475, 'highli': 476, 'add': 477, 'group': 478, 'thank': 479, 'ladi': 480, 'novel': 481, 'pain': 482, 'speak': 483, 'career': 484, 'shoot': 485, 'strang': 486, 'heard': 487, 'sad': 488, 'husband': 489, 'polic': 490, 'import': 491, 'break': 492, 'took': 493, 'cannot': 494, 'strong': 495, 'predict': 496, 'robert': 497, 'violenc': 498, 'hilari': 499, 'recent': 500, 'countri': 501, 'known': 502, 'particularli': 503, 'pick': 504, 'documentari': 505, 'season': 506, 'critic': 507, 'jame': 508, 'compar': 509, 'alon': 510, 'obviou': 511, 'told': 512, 'state': 513, 'visual': 514, 'rock': 515, 'theater': 516, 'exist': 517, 'offer': 518, 'opinion': 519, 'gore': 520, 'hold': 521, 'crap': 522, 'result': 523, 'realiti': 524, 'hear': 525, 'room': 526, 'clich': 527, 'effort': 528, 'thriller': 529, 'caus': 530, 'explain': 531, 'serious': 532, 'sequel': 533, 'king': 534, 'local': 535, 'ago': 536, 'none': 537, 'hell': 538, 'note': 539, 'allow': 540, 'david': 541, 'sister': 542, 'simpl': 543, 'femal': 544, 'deliv': 545, 'ok': 546, 'class': 547, 'convinc': 548, 'check': 549, 'suspens': 550, 'win': 551, 'oscar': 552, 'buy': 553, 'huge': 554, 'valu': 555, 'sexual': 556, 'cool': 557, 'scari': 558, 'excit': 559, 'similar': 560, 'exactli': 561, 'apart': 562, 'provid': 563, 'shown': 564, 'avoid': 565, 'seriou': 566, 'english': 567, 'taken': 568, 'whose': 569, 'cinematographi': 570, 'shock': 571, 'polit': 572, 'spoiler': 573, 'offic': 574, 'across': 575, 'middl': 576, 'street': 577, 'pass': 578, 'messag': 579, 'charm': 580, 'somewhat': 581, 'silli': 582, 'modern': 583, 'filmmak': 584, 'confus': 585, 'form': 586, 'tale': 587, 'singl': 588, 'jack': 589, 'mostli': 590, 'carri': 591, 'attent': 592, 'william': 593, 'sing': 594, 'five': 595, 'subject': 596, 'richard': 597, 'prove': 598, 'stage': 599, 'team': 600, 'cop': 601, 'unlik': 602, 'georg': 603, 'monster': 604, 'televis': 605, 'earth': 606, 'cover': 607, 'villain': 608, 'pay': 609, 'marri': 610, 'toward': 611, 'build': 612, 'pull': 613, 'parent': 614, 'due': 615, 'respect': 616, 'fill': 617, 'dialog': 618, 'four': 619, 'remind': 620, 'futur': 621, 'typic': 622, 'weak': 623, '7': 624, 'cheap': 625, 'intellig': 626, 'atmospher': 627, 'british': 628, '80': 629, 'clearli': 630, 'non': 631, 'paul': 632, 'dog': 633, 'knew': 634, 'artist': 635, 'fast': 636, '8': 637, 'crime': 638, 'easili': 639, 'escap': 640, 'adult': 641, 'doubt': 642, 'detail': 643, 'date': 644, 'romant': 645, 'fire': 646, 'member': 647, 'drive': 648, 'gun': 649, 'straight': 650, 'fit': 651, 'beyond': 652, 'attack': 653, 'imag': 654, 'upon': 655, 'posit': 656, 'whether': 657, 'peter': 658, 'fantast': 659, 'appreci': 660, 'captur': 661, 'aspect': 662, 'ten': 663, 'plan': 664, 'discov': 665, 'remain': 666, 'period': 667, 'near': 668, 'realist': 669, 'air': 670, 'mark': 671, 'red': 672, 'dull': 673, 'adapt': 674, 'within': 675, 'lose': 676, 'spend': 677, 'materi': 678, 'color': 679, 'chase': 680, 'mari': 681, 'storylin': 682, 'forget': 683, 'bunch': 684, 'clear': 685, 'lee': 686, 'victim': 687, 'nearli': 688, 'box': 689, 'york': 690, 'inspir': 691, 'match': 692, 'mess': 693, 'finish': 694, 'standard': 695, 'easi': 696, 'truth': 697, 'busi': 698, 'suffer': 699, 'bill': 700, 'dramat': 701, 'space': 702, 'western': 703, 'e': 704, 'list': 705, 'battl': 706, 'notic': 707, 'de': 708, 'french': 709, 'ad': 710, '9': 711, 'tom': 712, 'larg': 713, 'among': 714, 'eventu': 715, 'accept': 716, 'train': 717, 'agre': 718, 'spirit': 719, 'soundtrack': 720, 'third': 721, 'teenag': 722, 'adventur': 723, 'soldier': 724, 'suggest': 725, 'drug': 726, 'famou': 727, 'sorri': 728, 'babi': 729, 'cri': 730, 'normal': 731, 'troubl': 732, 'ultim': 733, 'contain': 734, 'certain': 735, 'cultur': 736, 'romanc': 737, 'rare': 738, 'lame': 739, 'somehow': 740, 'mix': 741, 'disney': 742, 'gone': 743, 'cartoon': 744, 'student': 745, 'fear': 746, 'reveal': 747, 'kept': 748, 'suck': 749, 'attract': 750, 'appeal': 751, 'premis': 752, 'secret': 753, 'greatest': 754, 'design': 755, 'shame': 756, 'throw': 757, 'scare': 758, 'copi': 759, 'wit': 760, 'admit': 761, 'america': 762, 'brought': 763, 'particular': 764, 'relat': 765, 'screenplay': 766, 'whatev': 767, 'pure': 768, '70': 769, 'averag': 770, 'harri': 771, 'master': 772, 'describ': 773, 'male': 774, 'treat': 775, '20': 776, 'issu': 777, 'fantasi': 778, 'warn': 779, 'inde': 780, 'forward': 781, 'background': 782, 'project': 783, 'free': 784, 'japanes': 785, 'memor': 786, 'poorli': 787, 'award': 788, 'locat': 789, 'potenti': 790, 'amus': 791, 'struggl': 792, 'magic': 793, 'weird': 794, 'societi': 795, 'okay': 796, 'doctor': 797, 'accent': 798, 'imdb': 799, 'water': 800, 'hot': 801, 'alien': 802, 'dr': 803, '30': 804, 'express': 805, 'odd': 806, 'choic': 807, 'crazi': 808, 'fiction': 809, 'studio': 810, 'becam': 811, 'control': 812, 'masterpiec': 813, 'fli': 814, 'difficult': 815, 'joe': 816, 'scream': 817, 'costum': 818, 'lover': 819, 'uniqu': 820, 'refer': 821, 'remak': 822, 'vampir': 823, 'girlfriend': 824, 'prison': 825, 'execut': 826, 'wear': 827, 'jump': 828, 'wood': 829, 'unless': 830, 'creepi': 831, 'cheesi': 832, 'superb': 833, 'otherwis': 834, 'parti': 835, 'roll': 836, 'ghost': 837, 'mad': 838, 'public': 839, 'depict': 840, 'week': 841, 'jane': 842, 'badli': 843, 'moral': 844, 'earlier': 845, 'fi': 846, 'dumb': 847, 'grow': 848, 'flaw': 849, 'sci': 850, 'deep': 851, 'maker': 852, 'cat': 853, 'footag': 854, 'connect': 855, 'older': 856, 'bother': 857, 'plenti': 858, 'outsid': 859, 'stick': 860, 'gay': 861, 'catch': 862, 'co': 863, 'plu': 864, 'popular': 865, 'equal': 866, 'social': 867, 'disturb': 868, 'quickli': 869, 'perfectli': 870, 'dress': 871, '90': 872, 'era': 873, 'mistak': 874, 'lie': 875, 'ride': 876, 'previou': 877, 'combin': 878, 'concept': 879, 'band': 880, 'surviv': 881, 'rich': 882, 'answer': 883, 'front': 884, 'sweet': 885, 'christma': 886, 'insid': 887, 'bare': 888, 'eat': 889, 'concern': 890, 'listen': 891, 'beat': 892, 'ben': 893, 'c': 894, 'term': 895, 'serv': 896, 'german': 897, 'meant': 898, 'la': 899, 'stereotyp': 900, 'hardli': 901, 'law': 902, 'innoc': 903, 'desper': 904, 'promis': 905, 'memori': 906, 'cute': 907, 'intent': 908, 'variou': 909, 'inform': 910, 'steal': 911, 'brain': 912, 'post': 913, 'tone': 914, 'island': 915, 'amount': 916, 'track': 917, 'compani': 918, 'nuditi': 919, 'store': 920, 'claim': 921, 'hair': 922, '50': 923, 'flat': 924, 'land': 925, 'univers': 926, 'kick': 927, 'scott': 928, 'danger': 929, 'fairli': 930, 'player': 931, 'crew': 932, 'plain': 933, 'step': 934, 'toni': 935, 'share': 936, 'tast': 937, 'centuri': 938, 'engag': 939, 'achiev': 940, 'travel': 941, 'cold': 942, 'suit': 943, 'rip': 944, 'record': 945, 'manner': 946, 'sadli': 947, 'tension': 948, 'spot': 949, 'wrote': 950, 'fascin': 951, 'intens': 952, 'familiar': 953, 'depth': 954, 'burn': 955, 'remark': 956, 'histor': 957, 'destroy': 958, 'sleep': 959, 'purpos': 960, 'languag': 961, 'ignor': 962, 'ruin': 963, 'delight': 964, 'unbeliev': 965, 'italian': 966, 'collect': 967, 'soul': 968, 'abil': 969, 'detect': 970, 'clever': 971, 'violent': 972, 'rape': 973, 'reach': 974, 'door': 975, 'scienc': 976, 'trash': 977, 'liter': 978, 'commun': 979, 'reveng': 980, 'caught': 981, 'creatur': 982, 'approach': 983, 'trip': 984, 'intrigu': 985, 'fashion': 986, 'skill': 987, 'introduc': 988, 'paint': 989, 'channel': 990, 'complex': 991, 'camp': 992, 'christian': 993, 'hole': 994, 'extra': 995, 'immedi': 996, 'limit': 997, 'ann': 998, 'mental': 999, 'million': 1000, 'comput': 1001, 'slightli': 1002, '6': 1003, 'mere': 1004, 'conclus': 1005, 'slasher': 1006, 'imposs': 1007, 'suddenli': 1008, 'teen': 1009, 'crimin': 1010, 'neither': 1011, 'nation': 1012, 'spent': 1013, 'physic': 1014, 'respons': 1015, 'planet': 1016, 'receiv': 1017, 'fake': 1018, 'blue': 1019, 'sick': 1020, 'bizarr': 1021, 'embarrass': 1022, 'indian': 1023, '15': 1024, 'ring': 1025, 'pop': 1026, 'drop': 1027, 'drag': 1028, 'haunt': 1029, 'suspect': 1030, 'pointless': 1031, 'edg': 1032, 'search': 1033, 'handl': 1034, 'common': 1035, 'biggest': 1036, 'hurt': 1037, 'arriv': 1038, 'faith': 1039, 'technic': 1040, 'angel': 1041, 'dad': 1042, 'genuin': 1043, 'solid': 1044, 'f': 1045, 'awesom': 1046, 'colleg': 1047, 'former': 1048, 'focu': 1049, 'van': 1050, 'count': 1051, 'tear': 1052, 'heavi': 1053, 'rais': 1054, 'wall': 1055, 'visit': 1056, 'younger': 1057, 'laughabl': 1058, 'fair': 1059, 'sign': 1060, 'excus': 1061, 'cult': 1062, 'key': 1063, 'motion': 1064, 'tough': 1065, 'desir': 1066, 'super': 1067, 'stun': 1068, 'addit': 1069, 'exploit': 1070, 'cloth': 1071, 'smith': 1072, 'tortur': 1073, 'race': 1074, 'davi': 1075, 'author': 1076, 'cross': 1077, 'jim': 1078, 'minor': 1079, 'consist': 1080, 'focus': 1081, 'compel': 1082, 'commit': 1083, 'chemistri': 1084, 'pathet': 1085, 'park': 1086, 'tradit': 1087, 'frank': 1088, 'obsess': 1089, 'grade': 1090, '60': 1091, 'asid': 1092, 'brutal': 1093, 'steve': 1094, 'somewher': 1095, 'depress': 1096, 'rule': 1097, 'explor': 1098, 'u': 1099, 'grant': 1100, 'opportun': 1101, 'besid': 1102, 'honest': 1103, 'dub': 1104, 'anti': 1105, 'intend': 1106, 'trailer': 1107, 'bar': 1108, 'longer': 1109, 'west': 1110, 'regard': 1111, 'scientist': 1112, 'judg': 1113, 'decad': 1114, 'silent': 1115, 'creativ': 1116, 'armi': 1117, 'wild': 1118, 'south': 1119, 'stewart': 1120, 'g': 1121, 'draw': 1122, 'road': 1123, 'govern': 1124, 'boss': 1125, 'ex': 1126, 'practic': 1127, 'motiv': 1128, 'surprisingli': 1129, 'club': 1130, 'festiv': 1131, 'gang': 1132, 'redeem': 1133, 'page': 1134, 'london': 1135, 'green': 1136, 'idiot': 1137, 'display': 1138, 'aliv': 1139, 'militari': 1140, 'machin': 1141, 'thrill': 1142, 'repeat': 1143, 'folk': 1144, '100': 1145, 'nobodi': 1146, 'yeah': 1147, '40': 1148, 'journey': 1149, 'garbag': 1150, 'smile': 1151, 'ground': 1152, 'tire': 1153, 'bought': 1154, 'mood': 1155, 'sam': 1156, 'cost': 1157, 'stone': 1158, 'noir': 1159, 'mouth': 1160, 'agent': 1161, 'terrif': 1162, 'utterli': 1163, 'requir': 1164, 'honestli': 1165, 'area': 1166, 'sexi': 1167, 'report': 1168, 'geniu': 1169, 'glad': 1170, 'humour': 1171, 'investig': 1172, 'enter': 1173, 'serial': 1174, 'passion': 1175, 'narr': 1176, 'occasion': 1177, 'climax': 1178, 'marriag': 1179, 'industri': 1180, 'studi': 1181, 'demon': 1182, 'nowher': 1183, 'ship': 1184, 'center': 1185, 'charli': 1186, 'bear': 1187, 'loos': 1188, 'hors': 1189, 'wow': 1190, 'hang': 1191, 'graphic': 1192, 'admir': 1193, 'giant': 1194, 'send': 1195, 'damn': 1196, 'loud': 1197, 'rel': 1198, 'subtl': 1199, 'nake': 1200, 'profession': 1201, 'blow': 1202, 'bottom': 1203, 'batman': 1204, 'insult': 1205, 'kelli': 1206, 'boyfriend': 1207, 'doubl': 1208, 'r': 1209, 'initi': 1210, 'frame': 1211, 'opera': 1212, 'gem': 1213, 'cinemat': 1214, 'affect': 1215, 'drawn': 1216, 'challeng': 1217, 'church': 1218, 'seek': 1219, 'nightmar': 1220, 'evid': 1221, 'j': 1222, 'fulli': 1223, 'l': 1224, 'conflict': 1225, 'essenti': 1226, 'arm': 1227, 'grace': 1228, 'christoph': 1229, 'wind': 1230, 'henri': 1231, 'narrat': 1232, 'assum': 1233, 'witch': 1234, 'push': 1235, 'hunt': 1236, 'chri': 1237, 'wise': 1238, 'repres': 1239, 'month': 1240, 'nomin': 1241, 'sceneri': 1242, 'avail': 1243, 'affair': 1244, 'hide': 1245, 'smart': 1246, 'justic': 1247, 'thu': 1248, 'bond': 1249, 'outstand': 1250, 'interview': 1251, 'flashback': 1252, 'satisfi': 1253, 'presenc': 1254, 'constantli': 1255, 'central': 1256, 'bed': 1257, 'iron': 1258, 'content': 1259, 'sell': 1260, 'everybodi': 1261, 'gag': 1262, 'hotel': 1263, 'slowli': 1264, 'hire': 1265, 'system': 1266, 'adam': 1267, 'hey': 1268, 'thrown': 1269, 'charl': 1270, 'individu': 1271, 'allen': 1272, 'mediocr': 1273, 'jone': 1274, 'lesson': 1275, 'ray': 1276, 'billi': 1277, 'cameo': 1278, 'photographi': 1279, 'fellow': 1280, 'pari': 1281, 'strike': 1282, 'brief': 1283, 'rise': 1284, 'absurd': 1285, 'independ': 1286, 'neg': 1287, 'impact': 1288, 'phone': 1289, 'model': 1290, 'born': 1291, 'ill': 1292, 'fresh': 1293, 'spoil': 1294, 'angl': 1295, 'abus': 1296, 'likabl': 1297, 'discuss': 1298, 'hill': 1299, 'ahead': 1300, 'sight': 1301, 'sent': 1302, 'photograph': 1303, 'occur': 1304, 'shine': 1305, 'logic': 1306, 'blame': 1307, 'bruce': 1308, 'mainli': 1309, 'forev': 1310, 'commerci': 1311, 'skip': 1312, 'segment': 1313, 'held': 1314, 'surround': 1315, 'teacher': 1316, 'blond': 1317, 'zero': 1318, 'trap': 1319, 'satir': 1320, 'summer': 1321, 'resembl': 1322, 'ball': 1323, 'fool': 1324, 'six': 1325, 'queen': 1326, 'tragedi': 1327, 'twice': 1328, 'sub': 1329, 'reaction': 1330, 'pack': 1331, 'bomb': 1332, 'protagonist': 1333, 'hospit': 1334, 'will': 1335, 'mile': 1336, 'sport': 1337, 'drink': 1338, 'vote': 1339, 'trust': 1340, 'mom': 1341, 'jerri': 1342, 'encount': 1343, 'plane': 1344, 'program': 1345, 'station': 1346, 'current': 1347, 'al': 1348, 'choos': 1349, 'celebr': 1350, 'martin': 1351, 'join': 1352, 'tragic': 1353, 'field': 1354, 'favourit': 1355, 'round': 1356, 'lord': 1357, 'jean': 1358, 'vision': 1359, 'robot': 1360, 'tie': 1361, 'arthur': 1362, 'fortun': 1363, 'random': 1364, 'roger': 1365, 'intern': 1366, 'dread': 1367, 'psycholog': 1368, 'nonsens': 1369, 'prefer': 1370, 'epic': 1371, 'improv': 1372, 'pleasur': 1373, 'highlight': 1374, 'formula': 1375, 'legend': 1376, '11': 1377, 'dollar': 1378, 'tape': 1379, 'fox': 1380, 'gorgeou': 1381, 'wide': 1382, 'thin': 1383, 'object': 1384, 'porn': 1385, 'buddi': 1386, 'influenc': 1387, 'ugli': 1388, 'nasti': 1389, 'ii': 1390, 'prepar': 1391, 'warm': 1392, 'supposedli': 1393, 'reflect': 1394, 'progress': 1395, 'youth': 1396, 'worthi': 1397, 'length': 1398, 'unusu': 1399, 'latter': 1400, 'crash': 1401, 'superior': 1402, 'childhood': 1403, 'shop': 1404, 'seven': 1405, 'remot': 1406, 'theatr': 1407, 'paid': 1408, 'funniest': 1409, 'disgust': 1410, 'pilot': 1411, 'trick': 1412, 'fell': 1413, 'convers': 1414, 'castl': 1415, 'establish': 1416, 'gangster': 1417, 'rob': 1418, 'disast': 1419, 'mine': 1420, 'suicid': 1421, 'ident': 1422, 'heaven': 1423, 'disappear': 1424, 'heroin': 1425, 'singer': 1426, 'decis': 1427, 'tend': 1428, 'mask': 1429, 'forgotten': 1430, 'partner': 1431, 'brian': 1432, 'alan': 1433, 'recogn': 1434, 'desert': 1435, 'stuck': 1436, 'p': 1437, 'thoroughli': 1438, 'ms': 1439, 'sky': 1440, 'accur': 1441, 'replac': 1442, 'market': 1443, 'danni': 1444, 'uncl': 1445, 'clue': 1446, 'commentari': 1447, 'seemingli': 1448, 'andi': 1449, 'eddi': 1450, 'jackson': 1451, 'devil': 1452, 'therefor': 1453, 'that': 1454, 'refus': 1455, 'pair': 1456, 'ed': 1457, 'fault': 1458, 'unit': 1459, 'accid': 1460, 'fate': 1461, 'river': 1462, 'tune': 1463, 'afraid': 1464, 'hidden': 1465, 'clean': 1466, 'stephen': 1467, 'russian': 1468, 'irrit': 1469, 'convey': 1470, 'quick': 1471, 'test': 1472, 'readi': 1473, 'captain': 1474, 'instanc': 1475, 'european': 1476, 'frustrat': 1477, 'daniel': 1478, 'insan': 1479, 'wed': 1480, '1950': 1481, 'chines': 1482, 'food': 1483, 'rescu': 1484, 'lock': 1485, 'dirti': 1486, 'angri': 1487, 'joy': 1488, 'steven': 1489, 'price': 1490, 'bland': 1491, 'cage': 1492, 'rang': 1493, 'anymor': 1494, 'wooden': 1495, 'rush': 1496, 'jason': 1497, 'n': 1498, 'news': 1499, '12': 1500, 'worri': 1501, 'martial': 1502, 'twenti': 1503, 'board': 1504, 'led': 1505, 'hunter': 1506, 'symbol': 1507, 'cgi': 1508, 'transform': 1509, 'onto': 1510, 'x': 1511, 'invent': 1512, 'piti': 1513, 'sentiment': 1514, 'johnni': 1515, 'process': 1516, 'attitud': 1517, 'explan': 1518, 'awar': 1519, 'owner': 1520, 'aim': 1521, 'energi': 1522, 'floor': 1523, 'target': 1524, 'favor': 1525, 'necessari': 1526, 'religi': 1527, 'opposit': 1528, 'insight': 1529, 'blind': 1530, 'window': 1531, 'chick': 1532, 'movement': 1533, 'comparison': 1534, 'deepli': 1535, 'possess': 1536, 'research': 1537, 'mountain': 1538, 'comed': 1539, 'rain': 1540, 'grand': 1541, 'whatsoev': 1542, 'began': 1543, 'bank': 1544, 'mid': 1545, 'shadow': 1546, 'princ': 1547, 'parodi': 1548, 'weapon': 1549, 'friendship': 1550, 'taylor': 1551, 'pre': 1552, 'credibl': 1553, 'teach': 1554, 'flesh': 1555, 'dougla': 1556, 'terror': 1557, 'protect': 1558, 'bloodi': 1559, 'hint': 1560, 'marvel': 1561, 'anybodi': 1562, 'watchabl': 1563, 'load': 1564, 'accord': 1565, 'drunk': 1566, 'leader': 1567, 'superman': 1568, 'freddi': 1569, 'brown': 1570, 'seat': 1571, 'tim': 1572, 'jeff': 1573, 'appropri': 1574, 'hitler': 1575, 'charg': 1576, 'knock': 1577, 'unknown': 1578, 'villag': 1579, 'keaton': 1580, 'enemi': 1581, 'england': 1582, 'media': 1583, 'unnecessari': 1584, 'empti': 1585, 'strength': 1586, 'perspect': 1587, 'wave': 1588, 'utter': 1589, 'buck': 1590, 'craft': 1591, 'dare': 1592, 'contrast': 1593, 'nativ': 1594, 'ford': 1595, 'kiss': 1596, 'correct': 1597, 'distract': 1598, 'chill': 1599, 'anywher': 1600, 'magnific': 1601, 'soap': 1602, 'speed': 1603, 'nazi': 1604, 'knowledg': 1605, 'breath': 1606, 'ice': 1607, 'mission': 1608, 'fred': 1609, '1980': 1610, 'jr': 1611, 'moon': 1612, 'crowd': 1613, 'joan': 1614, '000': 1615, 'kate': 1616, 'frighten': 1617, 'soft': 1618, 'nick': 1619, 'dick': 1620, 'hundr': 1621, 'dan': 1622, 'somebodi': 1623, 'dozen': 1624, 'radio': 1625, 'simon': 1626, 'loss': 1627, 'academi': 1628, 'shakespear': 1629, 'andrew': 1630, 'thousand': 1631, 'account': 1632, 'sum': 1633, 'quot': 1634, 'vehicl': 1635, 'root': 1636, '1970': 1637, 'convent': 1638, 'leg': 1639, 'behavior': 1640, 'regular': 1641, 'gold': 1642, 'compet': 1643, 'worker': 1644, 'demand': 1645, 'pretenti': 1646, 'privat': 1647, 'interpret': 1648, 'explos': 1649, 'lynch': 1650, 'stretch': 1651, 'notabl': 1652, 'japan': 1653, 'candi': 1654, 'constant': 1655, 'debut': 1656, 'tarzan': 1657, 'revolv': 1658, 'prais': 1659, 'spi': 1660, 'translat': 1661, 'sea': 1662, 'sat': 1663, 'franc': 1664, 'failur': 1665, 'quiet': 1666, 'technolog': 1667, 'ass': 1668, 'threaten': 1669, 'jesu': 1670, 'toy': 1671, 'higher': 1672, 'punch': 1673, 'met': 1674, 'kevin': 1675, 'aid': 1676, 'interact': 1677, 'vh': 1678, 'mike': 1679, 'abandon': 1680, 'confront': 1681, 'command': 1682, 'separ': 1683, 'bet': 1684, 'techniqu': 1685, 'recal': 1686, 'servic': 1687, 'belong': 1688, 'site': 1689, 'gotten': 1690, 'stunt': 1691, 'bug': 1692, 'foot': 1693, 'cabl': 1694, 'freak': 1695, 'african': 1696, 'fu': 1697, 'capabl': 1698, 'bright': 1699, 'jimmi': 1700, 'stock': 1701, 'succeed': 1702, 'fat': 1703, 'presid': 1704, 'boat': 1705, 'clark': 1706, 'gene': 1707, 'spanish': 1708, 'structur': 1709, 'kidnap': 1710, 'paper': 1711, 'factor': 1712, 'belief': 1713, 'whilst': 1714, 'tree': 1715, 'bob': 1716, 'attend': 1717, 'realism': 1718, 'realis': 1719, 'complic': 1720, 'witti': 1721, 'educ': 1722, 'finest': 1723, 'broken': 1724, 'assist': 1725, 'santa': 1726, 'determin': 1727, 'v': 1728, 'observ': 1729, 'depart': 1730, 'up': 1731, 'smoke': 1732, 'lewi': 1733, 'hat': 1734, 'domin': 1735, 'routin': 1736, 'oper': 1737, 'fame': 1738, 'rubbish': 1739, 'kinda': 1740, 'morgan': 1741, 'hook': 1742, 'safe': 1743, 'foreign': 1744, 'lone': 1745, 'advanc': 1746, 'rank': 1747, 'numer': 1748, 'shallow': 1749, 'vs': 1750, 'washington': 1751, 'rose': 1752, 'civil': 1753, 'shape': 1754, 'werewolf': 1755, 'gari': 1756, 'morn': 1757, 'winner': 1758, 'kong': 1759, 'ordinari': 1760, 'accomplish': 1761, 'virtual': 1762, 'grab': 1763, 'peac': 1764, 'whenev': 1765, 'luck': 1766, 'h': 1767, 'offens': 1768, 'activ': 1769, 'bigger': 1770, 'welcom': 1771, 'contriv': 1772, 'unfunni': 1773, 'complain': 1774, 'patient': 1775, 'pretend': 1776, 'con': 1777, 'dimension': 1778, 'trek': 1779, 'dri': 1780, 'eric': 1781, 'wake': 1782, 'code': 1783, 'flash': 1784, 'lesbian': 1785, 'cain': 1786, 'statu': 1787, 'guard': 1788, 'dancer': 1789, 'corrupt': 1790, 'manipul': 1791, 'albert': 1792, 'awkward': 1793, 'sourc': 1794, 'gain': 1795, 'speech': 1796, 'signific': 1797, 'context': 1798, 'anthoni': 1799, 'psycho': 1800, 'sean': 1801, 'corni': 1802, 'clip': 1803, '13': 1804, 'reli': 1805, 'theatric': 1806, 'advic': 1807, 'curiou': 1808, 'religion': 1809, 'w': 1810, 'priest': 1811, 'addict': 1812, 'flow': 1813, 'secur': 1814, 'howard': 1815, 'specif': 1816, 'skin': 1817, 'jennif': 1818, 'asian': 1819, 'luke': 1820, 'golden': 1821, 'core': 1822, 'promot': 1823, 'organ': 1824, 'comfort': 1825, 'cash': 1826, 'cheat': 1827, 'lucki': 1828, 'lower': 1829, 'dislik': 1830, 'associ': 1831, 'contribut': 1832, 'degre': 1833, 'spell': 1834, 'wing': 1835, 'frequent': 1836, 'balanc': 1837, 'regret': 1838, 'frankli': 1839, 'devic': 1840, 'sake': 1841, 'lake': 1842, 'forgiv': 1843, 'print': 1844, 'thoma': 1845, 'mass': 1846, 'betti': 1847, 'crack': 1848, 'gordon': 1849, 'unexpect': 1850, 'construct': 1851, 'amateur': 1852, 'invit': 1853, 'depend': 1854, 'categori': 1855, 'unfold': 1856, 'grown': 1857, 'grew': 1858, 'walter': 1859, 'honor': 1860, 'matur': 1861, 'condit': 1862, 'anna': 1863, 'intellectu': 1864, 'spectacular': 1865, 'sudden': 1866, 'mirror': 1867, 'veteran': 1868, 'sole': 1869, 'overli': 1870, 'experienc': 1871, 'demonstr': 1872, 'card': 1873, 'liner': 1874, 'robin': 1875, 'meanwhil': 1876, 'freedom': 1877, 'gift': 1878, 'grip': 1879, 'colour': 1880, 'drew': 1881, 'oliv': 1882, 'brilliantli': 1883, 'theori': 1884, 'circumst': 1885, 'sheriff': 1886, 'subtitl': 1887, 'crappi': 1888, 'unabl': 1889, 'section': 1890, 'sheer': 1891, 'path': 1892, 'parker': 1893, 'pile': 1894, 'cook': 1895, 'altern': 1896, 'laughter': 1897, 'matt': 1898, 'wander': 1899, 'lawyer': 1900, 'treatment': 1901, 'defin': 1902, 'relief': 1903, 'accident': 1904, 'hall': 1905, 'sinatra': 1906, 'hank': 1907, 'captiv': 1908, 'dragon': 1909, 'gratuit': 1910, 'moor': 1911, 'halloween': 1912, 'wayn': 1913, 'cowboy': 1914, 'wound': 1915, 'kung': 1916, 'jacki': 1917, 'broadway': 1918, 'k': 1919, 'barbara': 1920, 'unintent': 1921, 'statement': 1922, 'winter': 1923, 'spoof': 1924, 'surreal': 1925, 'canadian': 1926, 'compos': 1927, 'treasur': 1928, 'gonna': 1929, 'cheer': 1930, 'fish': 1931, 'fare': 1932, 'sensit': 1933, 'victor': 1934, 'emerg': 1935, 'unrealist': 1936, 'woodi': 1937, 'neighbor': 1938, 'sympathet': 1939, 'ran': 1940, 'driven': 1941, 'topic': 1942, 'authent': 1943, 'menac': 1944, 'expos': 1945, 'overlook': 1946, 'glass': 1947, 'ancient': 1948, 'gross': 1949, 'handsom': 1950, 'chief': 1951, 'michel': 1952, 'russel': 1953, 'feet': 1954, 'contemporari': 1955, 'stranger': 1956, 'comedian': 1957, 'network': 1958, 'built': 1959, 'cinderella': 1960, 'nevertheless': 1961, 'pleasant': 1962, 'earn': 1963, 'blockbust': 1964, 'miser': 1965, 'letter': 1966, 'consider': 1967, 'endless': 1968, 'gori': 1969, 'underr': 1970, 'switch': 1971, 'solv': 1972, 'brook': 1973, 'virgin': 1974, 'convict': 1975, 'joseph': 1976, 'victoria': 1977, 'edward': 1978, 'bullet': 1979, '0': 1980, 'alex': 1981, 'cynic': 1982, 'scenario': 1983, 'scale': 1984, 'chosen': 1985, 'curs': 1986, 'gut': 1987, 'outrag': 1988, 'sword': 1989, 'com': 1990, 'wrap': 1991, 'screenwrit': 1992, 'monkey': 1993, 'proper': 1994, 'uk': 1995, 'driver': 1996, 'substanc': 1997, 'juli': 1998, 'indic': 1999, 'court': 2000, 'par': 2001, 'bird': 2002, 'remov': 2003, 'inevit': 2004, 'nanci': 2005, 'naiv': 2006, 'consequ': 2007, 'roy': 2008, 'grave': 2009, 'rental': 2010, 'advertis': 2011, 'loser': 2012, 'brave': 2013, 'bridg': 2014, 'le': 2015, 'slap': 2016, 'germani': 2017, 'invis': 2018, 'fatal': 2019, 'ador': 2020, 'anger': 2021, 'provok': 2022, 'footbal': 2023, 'loui': 2024, 'anderson': 2025, 'alcohol': 2026, 'chan': 2027, 'stumbl': 2028, 'ryan': 2029, 'professor': 2030, 'willi': 2031, 'assassin': 2032, '1930': 2033, 'sharp': 2034, 'australian': 2035, 'patrick': 2036, 'bat': 2037, 'eight': 2038, 'ape': 2039, 'liber': 2040, 'heck': 2041, 'strongli': 2042, 'amateurish': 2043, 'trilog': 2044, 'cell': 2045, 'refresh': 2046, 'lousi': 2047, 'saturday': 2048, 'deni': 2049, 'sin': 2050, 'san': 2051, 'justifi': 2052, 'resid': 2053, 'vagu': 2054, 'sympathi': 2055, 'defeat': 2056, 'indi': 2057, 'mini': 2058, 'creator': 2059, 'reput': 2060, 'terrifi': 2061, 'endur': 2062, 'prevent': 2063, 'expert': 2064, 'task': 2065, 'tabl': 2066, 'tediou': 2067, 'trial': 2068, 'basebal': 2069, 'employ': 2070, 'che': 2071, 'imit': 2072, 'offend': 2073, 'rival': 2074, 'max': 2075, 'weekend': 2076, 'dig': 2077, 'europ': 2078, 'pitch': 2079, 'fairi': 2080, 'complaint': 2081, 'beach': 2082, 'format': 2083, 'purchas': 2084, 'risk': 2085, 'murphi': 2086, 'reminisc': 2087, 'bite': 2088, 'harsh': 2089, 'titan': 2090, 'tini': 2091, 'nois': 2092, 'hype': 2093, 'glimps': 2094, 'powel': 2095, 'fals': 2096, 'strip': 2097, 'north': 2098, '14': 2099, 'prime': 2100, 'asleep': 2101, 'till': 2102, 'descript': 2103, 'revel': 2104, 'africa': 2105, 'destruct': 2106, 'texa': 2107, 'semi': 2108, 'uninterest': 2109, 'inner': 2110, 'excess': 2111, 'surfac': 2112, 'sitcom': 2113, 'arrest': 2114, 'spin': 2115, 'makeup': 2116, 'maintain': 2117, 'argu': 2118, 'controversi': 2119, 'massiv': 2120, 'hitchcock': 2121, 'twin': 2122, 'dinosaur': 2123, 'ideal': 2124, 'stare': 2125, 'ludicr': 2126, 'kim': 2127, 'insist': 2128, 'reject': 2129, 'melodrama': 2130, 'expens': 2131, 'supernatur': 2132, 'erot': 2133, 'nail': 2134, 'ga': 2135, 'forest': 2136, 'press': 2137, 'subplot': 2138, 'columbo': 2139, 'atroci': 2140, 'ala': 2141, 'host': 2142, 'identifi': 2143, 'presum': 2144, 'dude': 2145, 'cant': 2146, 'notch': 2147, 'plagu': 2148, 'forgett': 2149, 'closer': 2150, 'method': 2151, 'guest': 2152, 'character': 2153, 'crude': 2154, 'ear': 2155, 'border': 2156, 'landscap': 2157, 'lion': 2158, 'foster': 2159, 'beast': 2160, 'princess': 2161, 'urban': 2162, 'damag': 2163, 'accus': 2164, 'bound': 2165, 'previous': 2166, 'aunt': 2167, 'birth': 2168, 'storytel': 2169, 'pacino': 2170, 'jungl': 2171, 'emma': 2172, 'guid': 2173, 'thirti': 2174, 'jess': 2175, 'propaganda': 2176, 'nude': 2177, 'doll': 2178, 'chose': 2179, '25': 2180, 'mate': 2181, 'pet': 2182, 'whoever': 2183, 'mainstream': 2184, 'warrior': 2185, 'gritti': 2186, 'size': 2187, 'latest': 2188, 'merit': 2189, 'friday': 2190, 'cooper': 2191, 'poster': 2192, 'exact': 2193, 'upset': 2194, 'deadli': 2195, 'blend': 2196, 'corps': 2197, 'rough': 2198, 'ton': 2199, 'warner': 2200, 'buff': 2201, 'contact': 2202, 'contest': 2203, 'citizen': 2204, 'popul': 2205, 'sun': 2206, 'settl': 2207, '1990': 2208, 'wilson': 2209, 'widow': 2210, 'mgm': 2211, 'bu': 2212, 'select': 2213, 'metal': 2214, 'overcom': 2215, 'environ': 2216, 'alic': 2217, 'pitt': 2218, 'rat': 2219, 'particip': 2220, 'link': 2221, 'lift': 2222, 'ted': 2223, 'guilti': 2224, 'revolut': 2225, 'prostitut': 2226, '1960': 2227, 'afternoon': 2228, 'corpor': 2229, 'corner': 2230, 'moron': 2231, 'matrix': 2232, 'exagger': 2233, 'johnson': 2234, 'accompani': 2235, 'multipl': 2236, 'doom': 2237, 'friendli': 2238, 'holm': 2239, 'clair': 2240, 'hood': 2241, 'leagu': 2242, 'instal': 2243, 'sincer': 2244, 'campi': 2245, 'lugosi': 2246, 'advis': 2247, 'aka': 2248, 'sunday': 2249, 'irish': 2250, 'string': 2251, 'examin': 2252, 'defend': 2253, 'junk': 2254, 'hip': 2255, 'grim': 2256, 'blah': 2257, 'shut': 2258, 'tight': 2259, 'icon': 2260, 'shake': 2261, 'rachel': 2262, 'confid': 2263, 'varieti': 2264, 'pro': 2265, 'medic': 2266, 'directli': 2267, 'attach': 2268, 'jaw': 2269, 'denni': 2270, 'goal': 2271, 'mexican': 2272, 'sullivan': 2273, 'courag': 2274, 'sarah': 2275, 'duke': 2276, 'breast': 2277, 'vietnam': 2278, 'truck': 2279, 'dean': 2280, 'sentenc': 2281, 'legendari': 2282, 'prior': 2283, 'terrorist': 2284, 'bourn': 2285, 'proceed': 2286, 'donald': 2287, 'yell': 2288, 'nose': 2289, 'hong': 2290, 'behav': 2291, 'un': 2292, 'entri': 2293, 'split': 2294, 'buri': 2295, 'everywher': 2296, 'confess': 2297, 'crush': 2298, 'forth': 2299, 'gather': 2300, 'borrow': 2301, 'unconvinc': 2302, 'lifetim': 2303, 'stolen': 2304, 'concentr': 2305, 'jerk': 2306, 'swim': 2307, 'spite': 2308, 'california': 2309, 'pan': 2310, 'deliveri': 2311, 'turkey': 2312, 'julia': 2313, 'lip': 2314, 'reward': 2315, 'hoffman': 2316, 'flight': 2317, 'offici': 2318, 'freeman': 2319, 'downright': 2320, 'quest': 2321, 'proud': 2322, 'china': 2323, 'encourag': 2324, 'worthwhil': 2325, 'sink': 2326, 'jail': 2327, 'fabul': 2328, 'inept': 2329, 'lazi': 2330, 'betray': 2331, 'jon': 2332, 'notori': 2333, 'fade': 2334, 'sir': 2335, 'storm': 2336, 'imageri': 2337, 'cousin': 2338, 'bell': 2339, 'retard': 2340, 'bag': 2341, 'relev': 2342, 'teeth': 2343, 'shower': 2344, 'survivor': 2345, 'lisa': 2346, 'susan': 2347, 'branagh': 2348, 'hugh': 2349, 'summari': 2350, 'mexico': 2351, 'finger': 2352, 'facial': 2353, 'alright': 2354, 'tremend': 2355, 'trade': 2356, 'bride': 2357, 'toler': 2358, 'stab': 2359, 'shark': 2360, 'quirki': 2361, 'hyster': 2362, 'bitter': 2363, 'blown': 2364, 'ha': 2365, 'pose': 2366, 'von': 2367, 'ron': 2368, 'christ': 2369, 'scheme': 2370, 'bone': 2371, 'address': 2372, 'cruel': 2373, 'larri': 2374, 'ned': 2375, 'afterward': 2376, 'screw': 2377, 'feed': 2378, 'thumb': 2379, 'pursu': 2380, 'distinct': 2381, 'swear': 2382, 'beg': 2383, 'tour': 2384, 'snake': 2385, 'traci': 2386, 'raw': 2387, 'stomach': 2388, 'occas': 2389, 'photo': 2390, 'chair': 2391, 'obscur': 2392, 'mechan': 2393, 'gruesom': 2394, 'southern': 2395, 'necessarili': 2396, 'sidney': 2397, 'chain': 2398, 'resist': 2399, 'argument': 2400, 'render': 2401, 'holiday': 2402, 'cabin': 2403, 'heavili': 2404, 'hardi': 2405, 'understood': 2406, 'philip': 2407, 'india': 2408, 'satan': 2409, 'indulg': 2410, 'racist': 2411, 'forgot': 2412, 'integr': 2413, 'belov': 2414, 'obnoxi': 2415, 'stalk': 2416, 'fourth': 2417, 'midnight': 2418, 'pregnant': 2419, 'tongu': 2420, 'outfit': 2421, 'lay': 2422, 'restor': 2423, 'deeper': 2424, 'ticket': 2425, 'magazin': 2426, '17': 2427, 'garden': 2428, 'slapstick': 2429, 'carol': 2430, 'inhabit': 2431, 'incid': 2432, 'shoe': 2433, 'devot': 2434, 'brad': 2435, 'lincoln': 2436, 'elizabeth': 2437, 'guarante': 2438, 'disbelief': 2439, 'anticip': 2440, 'lili': 2441, 'maria': 2442, 'divorc': 2443, 'benefit': 2444, 'underground': 2445, 'sandler': 2446, 'mildli': 2447, 'princip': 2448, 'explod': 2449, 'capit': 2450, 'greater': 2451, 'creation': 2452, 'cring': 2453, 'slave': 2454, 'amazingli': 2455, 'bbc': 2456, 'halfway': 2457, 'introduct': 2458, 'lesli': 2459, 'funnier': 2460, 'extraordinari': 2461, 'extent': 2462, 'overwhelm': 2463, 'tap': 2464, 'transfer': 2465, 'punish': 2466, 'wreck': 2467, 'advantag': 2468, 'text': 2469, 'enhanc': 2470, 'deliber': 2471, 'lo': 2472, 'jessica': 2473, 'horrif': 2474, 'lane': 2475, 'error': 2476, 'east': 2477, 'plant': 2478, 'preview': 2479, 'dynam': 2480, 'vincent': 2481, 'miller': 2482, 'sophist': 2483, 'homosexu': 2484, 'appli': 2485, 'ensu': 2486, '2000': 2487, 'miscast': 2488, 'vacat': 2489, 'basi': 2490, 'measur': 2491, 'reed': 2492, 'spoken': 2493, 'extend': 2494, 'elev': 2495, 'via': 2496, 'steel': 2497, 'sleazi': 2498, 'bollywood': 2499, 'mansion': 2500, 'uncomfort': 2501, 'hippi': 2502, 'conceiv': 2503, 'cathol': 2504, 'savag': 2505, 'alter': 2506, 'goofi': 2507, 'melt': 2508, 'beer': 2509, 'breathtak': 2510, 'fix': 2511, 'mous': 2512, 'stanley': 2513, 'daili': 2514, 'assign': 2515, 'overact': 2516, 'blair': 2517, 'dentist': 2518, 'sacrific': 2519, 'carpent': 2520, 'subsequ': 2521, 'oppos': 2522, 'properli': 2523, 'succe': 2524, 'nowaday': 2525, 'burt': 2526, 'everyday': 2527, 'inspector': 2528, 'neck': 2529, 'circl': 2530, 'block': 2531, 'laura': 2532, 'massacr': 2533, 'christi': 2534, 'lesser': 2535, 'fallen': 2536, 'concert': 2537, 'access': 2538, 'pool': 2539, 'mob': 2540, 'fay': 2541, 'portrait': 2542, 'seagal': 2543, 'grey': 2544, 'sinist': 2545, 'competit': 2546, 'chees': 2547, 'jewish': 2548, 'relax': 2549, 'usa': 2550, 'jake': 2551, 'isol': 2552, 'react': 2553, 'lyric': 2554, 'suitabl': 2555, 'chop': 2556, 'nonetheless': 2557, 'stink': 2558, 'appal': 2559, 'spiritu': 2560, 'nine': 2561, 'immens': 2562, 'creep': 2563, '2006': 2564, 'ironi': 2565, 'showcas': 2566, 'rage': 2567, 'adopt': 2568, 'nut': 2569, 'sold': 2570, 'spring': 2571, 'franchis': 2572, 'navi': 2573, 'user': 2574, 'reduc': 2575, 'needless': 2576, 'shirt': 2577, 'retir': 2578, 'luci': 2579, 'zone': 2580, 'jay': 2581, 'per': 2582, 'bulli': 2583, 'asham': 2584, 'nurs': 2585, 'stanwyck': 2586, 'uninspir': 2587, 'bath': 2588, 'digit': 2589, 'sutherland': 2590, 'laid': 2591, 'amongst': 2592, '2001': 2593, 'upper': 2594, '1940': 2595, 'oddli': 2596, 'illustr': 2597, 'broadcast': 2598, 'baker': 2599, 'throat': 2600, 'fulfil': 2601, 'disguis': 2602, 'brando': 2603, 'stylish': 2604, 'aspir': 2605, 'neighborhood': 2606, 'nobl': 2607, 'pride': 2608, '18': 2609, 'pound': 2610, 'endear': 2611, 'em': 2612, 'impli': 2613, 'wwii': 2614, 'wanna': 2615, 'thief': 2616, 'cinematograph': 2617, 'dinner': 2618, 'albeit': 2619, '16': 2620, 'shoulder': 2621, 'dawn': 2622, 'tens': 2623, 'bett': 2624, 'distribut': 2625, 'prop': 2626, 'diseas': 2627, 'coher': 2628, 'shift': 2629, 'bo': 2630, 'rochest': 2631, 'forti': 2632, 'shout': 2633, 'snow': 2634, 'wash': 2635, 'silenc': 2636, 'rebel': 2637, 'surf': 2638, 'poignant': 2639, 'function': 2640, 'contract': 2641, 'matthau': 2642, 'knife': 2643, 'silver': 2644, 'derek': 2645, 'elvira': 2646, 'eeri': 2647, 'duti': 2648, 'reunion': 2649, 'cannib': 2650, 'cancel': 2651, 'instinct': 2652, 'horrend': 2653, 'proof': 2654, 'heat': 2655, 'chuck': 2656, 'henc': 2657, 'height': 2658, 'internet': 2659, 'mindless': 2660, 'widmark': 2661, 'alik': 2662, 'incoher': 2663, 'innov': 2664, 'musician': 2665, 'glori': 2666, 'elvi': 2667, 'repetit': 2668, 'neat': 2669, 'absorb': 2670, 'pie': 2671, 'mill': 2672, 'premier': 2673, 'etern': 2674, 'torn': 2675, 'greatli': 2676, 'spielberg': 2677, 'racism': 2678, 'redempt': 2679, 'lovabl': 2680, 'diamond': 2681, 'wealthi': 2682, 'trite': 2683, 'infam': 2684, 'horrifi': 2685, 'blank': 2686, 'homag': 2687, 'nelson': 2688, 'fbi': 2689, 'bang': 2690, 'crisi': 2691, 'announc': 2692, 'britain': 2693, 'itali': 2694, 'precis': 2695, 'burton': 2696, 'resolut': 2697, 'pat': 2698, 'hammer': 2699, 'happili': 2700, 'parallel': 2701, 'dedic': 2702, 'ensembl': 2703, 'flop': 2704, 'chaplin': 2705, 'helen': 2706, 'streisand': 2707, 'wilder': 2708, 'triumph': 2709, 'conclud': 2710, 'mar': 2711, 'disagre': 2712, 'plastic': 2713, 'st': 2714, 'carter': 2715, 'oil': 2716, 'broke': 2717, 'factori': 2718, 'cube': 2719, 'own': 2720, 'fighter': 2721, 'weight': 2722, 'row': 2723, 'rocket': 2724, 'climb': 2725, 'vega': 2726, 'bush': 2727, 'chuckl': 2728, 'march': 2729, 'unforgett': 2730, 'enorm': 2731, 'wherea': 2732, 'kurt': 2733, 'meaning': 2734, 'sensibl': 2735, 'spare': 2736, 'luca': 2737, 'mst3k': 2738, 'boot': 2739, 'lust': 2740, 'thug': 2741, 'dump': 2742, 'dane': 2743, 'threat': 2744, 'karloff': 2745, 'arnold': 2746, 'difficulti': 2747, 'dear': 2748, 'brand': 2749, 'fifti': 2750, 'caricatur': 2751, 'stress': 2752, 'butt': 2753, 'adequ': 2754, 'rap': 2755, 'bobbi': 2756, 'engin': 2757, 'polish': 2758, 'homeless': 2759, 'swing': 2760, 'arrog': 2761, 'ego': 2762, 'barri': 2763, 'secretari': 2764, 'fest': 2765, 'hamlet': 2766, 'journalist': 2767, 'ralph': 2768, 'flynn': 2769, 'elabor': 2770, 'spike': 2771, 'simpson': 2772, 'arrang': 2773, 'fanci': 2774, 'resort': 2775, 'conspiraci': 2776, 'induc': 2777, 'tool': 2778, 'unbear': 2779, 'grate': 2780, 'float': 2781, 'puppet': 2782, 'choreograph': 2783, 'basement': 2784, 'phillip': 2785, 'guilt': 2786, 'pig': 2787, 'muppet': 2788, 'cruis': 2789, 'tribut': 2790, 'exercis': 2791, 'boll': 2792, 'babe': 2793, 'editor': 2794, 'document': 2795, 'layer': 2796, 'tower': 2797, 'ward': 2798, 'medium': 2799, 'korean': 2800, 'toilet': 2801, 'slip': 2802, 'file': 2803, 'fianc': 2804, '24': 2805, 'item': 2806, 'puzzl': 2807, 'scarecrow': 2808, 'ham': 2809, 'stan': 2810, 'glover': 2811, 'denzel': 2812, 'persona': 2813, 'superfici': 2814, 'transit': 2815, 'catherin': 2816, 'philosoph': 2817, 'orient': 2818, 'slaughter': 2819, 'librari': 2820, 'inexplic': 2821, 'larger': 2822, 'territori': 2823, 'spark': 2824, 'portion': 2825, 'minim': 2826, 'assur': 2827, 'doc': 2828, 'financi': 2829, 'shi': 2830, 'walken': 2831, 'dorothi': 2832, 'jeremi': 2833, 'jet': 2834, 'sneak': 2835, 'boredom': 2836, 'pg': 2837, 'owe': 2838, 'curti': 2839, 'ban': 2840, 'wolf': 2841, 'cusack': 2842, 'ambigu': 2843, 'metaphor': 2844, 'hudson': 2845, 'profound': 2846, 'multi': 2847, 'eleph': 2848, 'backdrop': 2849, 'whale': 2850, 'implaus': 2851, 'birthday': 2852, 'notion': 2853, '2005': 2854, 'hack': 2855, 'elsewher': 2856, 'ultra': 2857, 'stiff': 2858, 'viru': 2859, 'union': 2860, 'rave': 2861, 'gadget': 2862, 'pad': 2863, 'hawk': 2864, 'slight': 2865, 'reader': 2866, 'eastwood': 2867, 'disc': 2868, 'squar': 2869, 'poison': 2870, 'distanc': 2871, 'eva': 2872, 'bibl': 2873, 'canada': 2874, 'afford': 2875, 'newspap': 2876, 'urg': 2877, 'deriv': 2878, '1st': 2879, 'lloyd': 2880, 'superhero': 2881, 'huh': 2882, 'essenc': 2883, 'restaur': 2884, 'button': 2885, 'montag': 2886, 'sadist': 2887, 'cure': 2888, 'health': 2889, 'spread': 2890, 'charisma': 2891, 'skit': 2892, 'drown': 2893, 'heston': 2894, 'gradual': 2895, 'estat': 2896, 'dealt': 2897, 'companion': 2898, 'fetch': 2899, 'invest': 2900, 'muslim': 2901, 'scoobi': 2902, 'maniac': 2903, 'peak': 2904, 'godfath': 2905, 'lab': 2906, 'subtleti': 2907, 'tea': 2908, 'countless': 2909, 'kane': 2910, 'servant': 2911, 'gothic': 2912, 'cup': 2913, 'miik': 2914, 'alli': 2915, 'ritter': 2916, 'electr': 2917, 'heroic': 2918, 'iii': 2919, 'briefli': 2920, 'salli': 2921, 'charismat': 2922, 'elect': 2923, 'toss': 2924, 'ingredi': 2925, 'reel': 2926, 'grandmoth': 2927, 'resourc': 2928, 'bud': 2929, 'admittedli': 2930, 'cole': 2931, 'nuanc': 2932, 'wannab': 2933, 'tender': 2934, 'neil': 2935, 'stood': 2936, 'dawson': 2937, 'mild': 2938, 'reev': 2939, 'gate': 2940, 'punk': 2941, 'stronger': 2942, 'kubrick': 2943, 'label': 2944, 'pit': 2945, 'shall': 2946, 'carrey': 2947, 'poverti': 2948, 'mafia': 2949, 'pauli': 2950, 'cox': 2951, 'smooth': 2952, 'fond': 2953, 'outcom': 2954, 'updat': 2955, 'burst': 2956, 'assault': 2957, 'ian': 2958, 'astair': 2959, 'useless': 2960, 'tag': 2961, 'terri': 2962, 'cardboard': 2963, 'smash': 2964, 'easier': 2965, 'bakshi': 2966, 'divers': 2967, '2002': 2968, 'increasingli': 2969, 'rex': 2970, 'samurai': 2971, 'resolv': 2972, 'fist': 2973, 'coincid': 2974, 'vulner': 2975, 'exchang': 2976, 'melodramat': 2977, 'sketch': 2978, 'qualifi': 2979, 'vari': 2980, 'be': 2981, 'tame': 2982, 'suspend': 2983, 'insert': 2984, 'luckili': 2985, 'reynold': 2986, 'blast': 2987, 'templ': 2988, 'brillianc': 2989, 'conveni': 2990, 'scratch': 2991, 'nuclear': 2992, 'fisher': 2993, 'farm': 2994, 'meat': 2995, 'strictli': 2996, 'matthew': 2997, 'coach': 2998, 'gotta': 2999, 'ambiti': 3000, 'pin': 3001, 'hamilton': 3002, 'jami': 3003, 'walker': 3004, 'soprano': 3005, 'seventi': 3006, 'cave': 3007, 'spooki': 3008, 'timeless': 3009, 'convolut': 3010, 'ninja': 3011, 'recreat': 3012, 'struck': 3013, 'empir': 3014, 'clock': 3015, 'eccentr': 3016, 'brosnan': 3017, 'grasp': 3018, 'kudo': 3019, 'worthless': 3020, 'joey': 3021, 'revers': 3022, 'butcher': 3023, 'monk': 3024, 'closet': 3025, 'instantli': 3026, 'discoveri': 3027, 'evok': 3028, 'fifteen': 3029, 'mitchel': 3030, 'importantli': 3031, 'communist': 3032, 'clown': 3033, 'pal': 3034, 'sloppi': 3035, 'selfish': 3036, 'inconsist': 3037, 'declar': 3038, 'miracl': 3039, 'norman': 3040, 'bleak': 3041, 'wipe': 3042, 'cliff': 3043, 'seller': 3044, 'sidekick': 3045, 'eighti': 3046, 'partli': 3047, 'gray': 3048, 'lifestyl': 3049, 'piano': 3050, 'australia': 3051, 'enthusiast': 3052, 'debat': 3053, 'websit': 3054, 'farc': 3055, 'seed': 3056, 'superbl': 3057, 'ho': 3058, 'cheek': 3059, '45': 3060, 'aforement': 3061, 'chew': 3062, 'psychiatrist': 3063, 'stoog': 3064, 'destin': 3065, 'flawless': 3066, 'slice': 3067, 'abc': 3068, 'directori': 3069, 'incompet': 3070, 'akshay': 3071, 'dash': 3072, 'pressur': 3073, 'splatter': 3074, 'soviet': 3075, 'wrestl': 3076, 'regardless': 3077, 'anni': 3078, 'wick': 3079, 'bash': 3080, 'drivel': 3081, 'dire': 3082, 'kitchen': 3083, 'emili': 3084, 'blob': 3085, 'curios': 3086, 'flower': 3087, 'beaten': 3088, 'suppli': 3089, 'lou': 3090, 'duo': 3091, 'mann': 3092, 'cameron': 3093, 'chapter': 3094, 'distant': 3095, 'cia': 3096, 'ken': 3097, 'glow': 3098, 'dave': 3099, 'seduc': 3100, 'pleasantli': 3101, 'artifici': 3102, 'prize': 3103, 'doo': 3104, 'cagney': 3105, 'increas': 3106, 'jar': 3107, 'recov': 3108, 'boil': 3109, 'helicopt': 3110, 'judi': 3111, 'goldberg': 3112, 'francisco': 3113, 'eleg': 3114, 'web': 3115, 'ranger': 3116, 'psychot': 3117, 'hop': 3118, 'drunken': 3119, 'panic': 3120, 'combat': 3121, 'ellen': 3122, 'glenn': 3123, 'craven': 3124, 'splendid': 3125, 'craig': 3126, 'favour': 3127, 'turner': 3128, 'perri': 3129, 'laurel': 3130, 'wizard': 3131, 'ruth': 3132, 'philosophi': 3133, 'plausibl': 3134, 'graduat': 3135, 'gandhi': 3136, 'rid': 3137, 'fx': 3138, 'gentl': 3139, 'min': 3140, 'greek': 3141, 'slightest': 3142, 'falk': 3143, 'flip': 3144, 'alexand': 3145, '20th': 3146, 'hatr': 3147, 'shortli': 3148, 'modesti': 3149, 'unpleas': 3150, 'dracula': 3151, 'fund': 3152, 'ocean': 3153, 'manhattan': 3154, 'preciou': 3155, 'lend': 3156, 'futurist': 3157, 'jealou': 3158, 'legal': 3159, 'holi': 3160, 'harm': 3161, 'felix': 3162, 'we': 3163, 'tall': 3164, 'knight': 3165, 'explicit': 3166, 'overdon': 3167, 'childish': 3168, 'scientif': 3169, 'mock': 3170, 'thread': 3171, 'tank': 3172, 'bless': 3173, 'digniti': 3174, 'reviv': 3175, 'ami': 3176, 'nod': 3177, 'giallo': 3178, 'forbidden': 3179, 'mel': 3180, 'margaret': 3181, 'pirat': 3182, 'unwatch': 3183, 'torment': 3184, 'verhoeven': 3185, 'fever': 3186, 'broad': 3187, 'thick': 3188, 'awaken': 3189, 'elderli': 3190, 'repeatedli': 3191, '2004': 3192, '99': 3193, 'eve': 3194, 'yesterday': 3195, 'nerv': 3196, 'awe': 3197, 'automat': 3198, 'romero': 3199, 'ah': 3200, 'politician': 3201, 'absenc': 3202, 'uniform': 3203, 'kay': 3204, 'bin': 3205, 'ambit': 3206, 'launch': 3207, 'acclaim': 3208, 'rivet': 3209, 'custom': 3210, 'stiller': 3211, 'roman': 3212, 'publish': 3213, 'lean': 3214, 'griffith': 3215, 'timothi': 3216, 'royal': 3217, 'eas': 3218, 'pulp': 3219, 'transport': 3220, 'crook': 3221, 'darker': 3222, 'purpl': 3223, 'gabriel': 3224, 'termin': 3225, 'phrase': 3226, 'pierc': 3227, 'homicid': 3228, 'stinker': 3229, 'warren': 3230, 'bathroom': 3231, 'sunshin': 3232, 'foul': 3233, 'antic': 3234, 'wallac': 3235, 'tomato': 3236, 'sixti': 3237, 'brazil': 3238, 'donna': 3239, 'album': 3240, 'q': 3241, 'contrari': 3242, '2003': 3243, 'choreographi': 3244, 'horrid': 3245, 'packag': 3246, 'juvenil': 3247, 'ought': 3248, 'rambo': 3249, 'hollow': 3250, 'viciou': 3251, 'karen': 3252, 'awak': 3253, 'prom': 3254, 'pray': 3255, 'evolv': 3256, 'coloni': 3257, 'marin': 3258, 'kenneth': 3259, 'revolutionari': 3260, 'li': 3261, 'eyr': 3262, 'saint': 3263, 'conserv': 3264, 'defi': 3265, 'dose': 3266, 'mummi': 3267, 'twelv': 3268, 'blade': 3269, 'overr': 3270, 'nerd': 3271, 'candid': 3272, 'beatti': 3273, 'stole': 3274, 'ramon': 3275, 'ireland': 3276, 'option': 3277, 'boast': 3278, 'mildr': 3279, 'kapoor': 3280, 'collabor': 3281, 'astonish': 3282, 'trio': 3283, 'global': 3284, 'jazz': 3285, 'funer': 3286, 'natali': 3287, 'kirk': 3288, 'detract': 3289, 'fulci': 3290, 'confirm': 3291, 'flame': 3292, 'protest': 3293, 'altman': 3294, 'delici': 3295, 'enterpris': 3296, 'mystic': 3297, 'whip': 3298, 'bottl': 3299, 'tommi': 3300, 'audio': 3301, 'destini': 3302, 'leap': 3303, 'nicholson': 3304, 'bull': 3305, 'yellow': 3306, 'spit': 3307, 'racial': 3308, 'shade': 3309, 'blake': 3310, 'pseudo': 3311, 'meaningless': 3312, 'fonda': 3313, 'neo': 3314, 'visibl': 3315, 'adolesc': 3316, 'bedroom': 3317, 'inherit': 3318, 'todd': 3319, 'merci': 3320, 'reunit': 3321, 'vivid': 3322, 'threw': 3323, 'enchant': 3324, 'staff': 3325, 'altogeth': 3326, 'harder': 3327, 'popcorn': 3328, 'swedish': 3329, 'moodi': 3330, 'leonard': 3331, 'respond': 3332, 'decor': 3333, 'bust': 3334, 'wire': 3335, 'await': 3336, 'fanat': 3337, 'exhibit': 3338, 'roommat': 3339, 'jew': 3340, 'synopsi': 3341, 'reserv': 3342, 'befriend': 3343, 'crocodil': 3344, 'ruthless': 3345, 'voight': 3346, 'kennedi': 3347, 'edi': 3348, 'lemmon': 3349, 'uneven': 3350, 'tip': 3351, 'atlanti': 3352, 'lawrenc': 3353, 'madonna': 3354, 'suspici': 3355, 'chao': 3356, 'bold': 3357, 'ventur': 3358, 'rural': 3359, 'carl': 3360, 'incident': 3361, 'centr': 3362, 'garner': 3363, 'clint': 3364, 'clumsi': 3365, 'voyag': 3366, 'dimens': 3367, 'bradi': 3368, 'unsettl': 3369, 'audit': 3370, 'holli': 3371, 'abysm': 3372, '2007': 3373, 'palma': 3374, 'bargain': 3375, 'tiger': 3376, 'wealth': 3377, 'poetic': 3378, 'hart': 3379, 'mall': 3380, 'neglect': 3381, 'humili': 3382, 'immigr': 3383, 'daddi': 3384, 'versu': 3385, 'cd': 3386, 'trail': 3387, 'characterist': 3388, '2nd': 3389, 'cari': 3390, 'nearbi': 3391, 'cuba': 3392, 'troop': 3393, 'elimin': 3394, 'lit': 3395, 'imperson': 3396, 'ant': 3397, 'echo': 3398, 'timon': 3399, 'acknowledg': 3400, 'paus': 3401, 'celluloid': 3402, 'mickey': 3403, 'repuls': 3404, 'marshal': 3405, 'domest': 3406, 'prejudic': 3407, 'homer': 3408, 'saga': 3409, 'pun': 3410, 'infect': 3411, 'solo': 3412, 'jeffrey': 3413, 'mistaken': 3414, 'collaps': 3415, 'tribe': 3416, 'assembl': 3417, 'gear': 3418, 'coffe': 3419, 'harvey': 3420, 'promin': 3421, '1996': 3422, 'ginger': 3423, 'interrupt': 3424, 'sore': 3425, 'pant': 3426, 'chest': 3427, 'coat': 3428, 'inappropri': 3429, 'apolog': 3430, 'olivi': 3431, 'hbo': 3432, 'equip': 3433, 'cake': 3434, 'undoubtedli': 3435, 'leon': 3436, 'milk': 3437, 'inan': 3438, 'maggi': 3439, 'primari': 3440, 'solut': 3441, 'exot': 3442, 'jenni': 3443, 'instant': 3444, 'vulgar': 3445, 'devast': 3446, 'brooklyn': 3447, 'embrac': 3448, 'florida': 3449, 'furthermor': 3450, 'retain': 3451, 'pen': 3452, 'trace': 3453, 'humbl': 3454, 'institut': 3455, 'colleagu': 3456, 'polanski': 3457, 'consum': 3458, 'aveng': 3459, 'airplan': 3460, 'highest': 3461, 'pot': 3462, 'colonel': 3463, 'seduct': 3464, 'strain': 3465, 'sale': 3466, 'rick': 3467, 'illog': 3468, 'descend': 3469, 'linda': 3470, 'disabl': 3471, 'outer': 3472, 'dutch': 3473, '3rd': 3474, 'wive': 3475, '1999': 3476, 'poke': 3477, 'smaller': 3478, 'ya': 3479, 'cope': 3480, 'principl': 3481, 'godzilla': 3482, 'bowl': 3483, 'gender': 3484, 'dian': 3485, 'yard': 3486, 'mixtur': 3487, 'gloriou': 3488, 'glamor': 3489, 'blatant': 3490, 'dive': 3491, 'hal': 3492, 'cue': 3493, 'dud': 3494, 'inferior': 3495, 'primarili': 3496, 'devoid': 3497, 'gundam': 3498, 'scope': 3499, 'secondli': 3500, 'lol': 3501, 'bubbl': 3502, 'beneath': 3503, 'rabbit': 3504, 'vast': 3505, 'predecessor': 3506, 'countrysid': 3507, 'arab': 3508, 'domino': 3509, 'talki': 3510, 'hideou': 3511, 'invas': 3512, 'simplist': 3513, 'aggress': 3514, 'alert': 3515, 'trademark': 3516, 'breed': 3517, 'pearl': 3518, 'disjoint': 3519, 'senseless': 3520, 'myer': 3521, 'grinch': 3522, 'streep': 3523, 'alfr': 3524, 'shelf': 3525, 'april': 3526, 'et': 3527, 'garbo': 3528, 'museum': 3529, 'casual': 3530, 'shirley': 3531, 'z': 3532, 'vanish': 3533, 'applaud': 3534, 'illeg': 3535, 'khan': 3536, 'oz': 3537, 'maci': 3538, 'rendit': 3539, 'acid': 3540, 'loyal': 3541, 'stir': 3542, 'mayor': 3543, 'hopeless': 3544, 'obtain': 3545, 'robinson': 3546, 'defens': 3547, 'boom': 3548, 'robberi': 3549, 'unhappi': 3550, 'sh': 3551, 'stellar': 3552, 'hardcor': 3553, 'mail': 3554, 'disgrac': 3555, 'stack': 3556, 'uwe': 3557, 'slide': 3558, 'experiment': 3559, 'craze': 3560, 'blew': 3561, 'amanda': 3562, 'span': 3563, 'soccer': 3564, 'grandfath': 3565, 'fri': 3566, 'tempt': 3567, 'spider': 3568, 'berlin': 3569, 'rifl': 3570, 'declin': 3571, 'dismiss': 3572, 'emphasi': 3573, 'tenant': 3574, 'recruit': 3575, 'incomprehens': 3576, 'counter': 3577, 'wont': 3578, 'psychic': 3579, 'topless': 3580, 'dicken': 3581, 'diana': 3582, 'hartley': 3583, 'scroog': 3584, 'ethnic': 3585, 'shaw': 3586, 'lumet': 3587, 'trashi': 3588, 'sibl': 3589, 'woo': 3590, 'revolt': 3591, 'intim': 3592, 'sympath': 3593, 'bitch': 3594, 'ration': 3595, 'resurrect': 3596, 'wet': 3597, 'niro': 3598, 'goer': 3599, 'faster': 3600, 'justin': 3601, 'shed': 3602, 'porno': 3603, 'parad': 3604, 'riot': 3605, 'wendi': 3606, 'region': 3607, 'slick': 3608, 'jonathan': 3609, 'hesit': 3610, 'commend': 3611, 'enlighten': 3612, 'eager': 3613, 'partial': 3614, 'unreal': 3615, 'hopper': 3616, 'farmer': 3617, 'feminist': 3618, 'dealer': 3619, 'steam': 3620, 'immort': 3621, 'nephew': 3622, 'ensur': 3623, '00': 3624, 'patriot': 3625, 'andr': 3626, 'choru': 3627, 'weakest': 3628, 'mario': 3629, 'honesti': 3630, 'wheel': 3631, 'biographi': 3632, 'ballet': 3633, 'gap': 3634, 'rider': 3635, 'lena': 3636, 'worm': 3637, 'properti': 3638, 'sappi': 3639, 'composit': 3640, 'repress': 3641, 'leo': 3642, 'mutant': 3643, 'macarthur': 3644, 'snap': 3645, 'psychopath': 3646, 'confin': 3647, 'prequel': 3648, 'wore': 3649, 'safeti': 3650, 'owen': 3651, 'vice': 3652, 'hung': 3653, 'nostalg': 3654, 'sandra': 3655, 'similarli': 3656, 'skull': 3657, 'util': 3658, 'victori': 3659, 'blunt': 3660, 'charlott': 3661, 'morri': 3662, 'kingdom': 3663, 'franco': 3664, 'whoopi': 3665, 'deed': 3666, 'latin': 3667, 'rocki': 3668, 'drum': 3669, 'pattern': 3670, 'campbel': 3671, 'hyde': 3672, 'tad': 3673, 'del': 3674, 'drain': 3675, 'emperor': 3676, 'tail': 3677, 'bow': 3678, 'miseri': 3679, 'strand': 3680, 'recycl': 3681, 'compens': 3682, 'rope': 3683, 'repli': 3684, '1972': 3685, 'bergman': 3686, 'exit': 3687, 'rambl': 3688, 'bumbl': 3689, 'valuabl': 3690, 'thru': 3691, 'snl': 3692, 'dalton': 3693, 'speci': 3694, 'dust': 3695, 'compass': 3696, 'heartbreak': 3697, 'acquir': 3698, 'bonu': 3699, 'nervou': 3700, 'kyle': 3701, 'farrel': 3702, 'montana': 3703, 'cg': 3704, 'despair': 3705, 'pour': 3706, 'mistress': 3707, 'roth': 3708, 'radic': 3709, 'bleed': 3710, 'contempl': 3711, 'airport': 3712, 'gimmick': 3713, 'tonight': 3714, 'orson': 3715, 'gal': 3716, 'chess': 3717, 'downhil': 3718, 'rotten': 3719, 'rapist': 3720, 'percept': 3721, 'slug': 3722, 'wacki': 3723, 'romp': 3724, 'da': 3725, 'olli': 3726, 'carradin': 3727, 'martian': 3728, 'oppress': 3729, '35': 3730, 'heal': 3731, '1983': 3732, 'melodi': 3733, 'belt': 3734, 'shelley': 3735, 'pursuit': 3736, 'paltrow': 3737, 'dazzl': 3738, 'edgar': 3739, 'attorney': 3740, 'pervers': 3741, 'arguabl': 3742, 'stilt': 3743, 'mislead': 3744, 'pervert': 3745, 'slash': 3746, 'tooth': 3747, 'taught': 3748, 'arc': 3749, 'unpredict': 3750, 'champion': 3751, 'programm': 3752, 'preach': 3753, 'banal': 3754, 'tackl': 3755, 'maid': 3756, 'plight': 3757, 'cleverli': 3758, 'mesmer': 3759, 'bela': 3760, 'closest': 3761, 'gambl': 3762, 'franki': 3763, 'raymond': 3764, 'duval': 3765, 'vocal': 3766, 'conneri': 3767, 'orang': 3768, 'uplift': 3769, 'rubi': 3770, 'graham': 3771, 'chicken': 3772, 'marti': 3773, 'passeng': 3774, 'employe': 3775, 'tiresom': 3776, 'sensat': 3777, 'virginia': 3778, 'poem': 3779, 'dixon': 3780, 'vengeanc': 3781, 'convincingli': 3782, 'outing': 3783, 'habit': 3784, 'profan': 3785, 'volum': 3786, 'quarter': 3787, 'suffic': 3788, 'clone': 3789, 'lundgren': 3790, 'whine': 3791, 'gerard': 3792, '1968': 3793, 'climact': 3794, 'calm': 3795, 'pokemon': 3796, 'numb': 3797, 'giggl': 3798, 'swallow': 3799, 'yawn': 3800, 'paranoia': 3801, 'engross': 3802, 'iran': 3803, 'secretli': 3804, 'bay': 3805, 'tube': 3806, 'scottish': 3807, 'extens': 3808, 'amitabh': 3809, 'abraham': 3810, 'mute': 3811, 'crystal': 3812, 'monologu': 3813, 'inject': 3814, 'sirk': 3815, 'profess': 3816, 'trend': 3817, 'bend': 3818, 'taxi': 3819, 'ethan': 3820, 'im': 3821, 'expand': 3822, 'abort': 3823, 'austen': 3824, 'plod': 3825, 'backward': 3826, 'septemb': 3827, 'nichola': 3828, 'chicago': 3829, 'dispos': 3830, 'meander': 3831, 'junior': 3832, 'frankenstein': 3833, 'earl': 3834, 'poetri': 3835, 'linger': 3836, 'grotesqu': 3837, 'fed': 3838, 'surpass': 3839, 'franci': 3840, 'richardson': 3841, 'spock': 3842, 'lowest': 3843, 'underst': 3844, 'lure': 3845, 'catchi': 3846, 'mundan': 3847, 'descent': 3848, 'der': 3849, 'greedi': 3850, 'literatur': 3851, 'rant': 3852, 'hum': 3853, 'econom': 3854, 'spoke': 3855, 'household': 3856, 'compliment': 3857, 'cannon': 3858, 'sue': 3859, 'myth': 3860, 'instrument': 3861, 'waitress': 3862, 'stallon': 3863, 'simplic': 3864, 'nostalgia': 3865, 'tourist': 3866, 'rubber': 3867, 'eugen': 3868, 'dysfunct': 3869, 'muddl': 3870, 'occupi': 3871, 'alongsid': 3872, 'june': 3873, 'carel': 3874, 'phantom': 3875, 'lang': 3876, 'irrelev': 3877, 'deaf': 3878, 'duck': 3879, 'equival': 3880, 'hello': 3881, 'molli': 3882, 'randi': 3883, 'firstli': 3884, 'stale': 3885, 'phoni': 3886, 'crucial': 3887, 'recognit': 3888, 'insur': 3889, 'coast': 3890, 'dement': 3891, 'sissi': 3892, 'map': 3893, 'eaten': 3894, 'recognis': 3895, 'mankind': 3896, 'mortal': 3897, 'furi': 3898, 'dictat': 3899, 'flee': 3900, 'louis': 3901, 'cent': 3902, 'bacal': 3903, 'damon': 3904, 'omen': 3905, 'twilight': 3906, 'antwon': 3907, 'buffalo': 3908, 'loyalti': 3909, 'reign': 3910, 'wisdom': 3911, 'newli': 3912, 'damm': 3913, 'rude': 3914, 'blackmail': 3915, 'cyborg': 3916, 'likewis': 3917, 'heel': 3918, 'bump': 3919, 'lengthi': 3920, 'dreari': 3921, '1973': 3922, 'freez': 3923, 'labor': 3924, 'distinguish': 3925, 'rooney': 3926, 'grayson': 3927, 'onlin': 3928, 'ashley': 3929, 'daisi': 3930, 'biko': 3931, 'bike': 3932, 'drake': 3933, 'boxer': 3934, 'worn': 3935, 'startl': 3936, 'emphas': 3937, 'attribut': 3938, 'tunnel': 3939, 'interior': 3940, 'unorigin': 3941, 'barrymor': 3942, 'approv': 3943, 'sailor': 3944, 'exposur': 3945, 'keith': 3946, 'incorpor': 3947, 'analysi': 3948, 'vein': 3949, 'baddi': 3950, 'proce': 3951, 'inher': 3952, 'nineti': 3953, 'basketbal': 3954, 'butler': 3955, 'prey': 3956, 'ridden': 3957, 'provoc': 3958, 'pink': 3959, 'chronicl': 3960, 'predat': 3961, 'robbin': 3962, 'indiffer': 3963, 'stalker': 3964, 'carla': 3965, 'unrel': 3966, 'undeni': 3967, 'meg': 3968, 'substitut': 3969, 'simmon': 3970, 'bunni': 3971, 'barrel': 3972, 'mighti': 3973, 'fleet': 3974, 'elm': 3975, 'hypnot': 3976, 'condemn': 3977, 'millionair': 3978, 'er': 3979, 'improvis': 3980, 'belushi': 3981, 'drift': 3982, 'nicol': 3983, 'meyer': 3984, 'underli': 3985, 'othello': 3986, 'walsh': 3987, 'mormon': 3988, 'degrad': 3989, 'julian': 3990, 'exquisit': 3991, 'vital': 3992, 'rukh': 3993, 'shove': 3994, 'dolph': 3995, 'disord': 3996, 'hay': 3997, 'lampoon': 3998, 'greed': 3999, 'firm': 4000, 'priceless': 4001, 'alison': 4002, 'unawar': 4003, 'mtv': 4004, 'nyc': 4005, 'edgi': 4006, 'palac': 4007, 'alarm': 4008, '3d': 4009, 'warmth': 4010, 'watson': 4011, 'roof': 4012, 'marion': 4013, 'enthusiasm': 4014, 'reid': 4015, 'agenda': 4016, 'novak': 4017, 'errol': 4018, 'preserv': 4019, 'spain': 4020, 'session': 4021, 'israel': 4022, 'minimum': 4023, 'crown': 4024, 'orlean': 4025, 'thompson': 4026, 'peck': 4027, 'pamela': 4028, 'simultan': 4029, 'profit': 4030, '13th': 4031, '1933': 4032, 'ponder': 4033, 'angela': 4034, 'what': 4035, 'testament': 4036, 'eastern': 4037, 'petti': 4038, 'distort': 4039, 'nun': 4040, 'iraq': 4041, 'glanc': 4042, 'championship': 4043, 'randomli': 4044, 'peril': 4045, 'sergeant': 4046, 'showdown': 4047, 'drip': 4048, 'unleash': 4049, 'cassidi': 4050, 'zizek': 4051, 'gestur': 4052, 'campaign': 4053, 'beatl': 4054, 'valentin': 4055, 'coup': 4056, 'rout': 4057, 'unimagin': 4058, 'calib': 4059, 'exposit': 4060, 'kurosawa': 4061, 'stroke': 4062, 'crawl': 4063, 'jan': 4064, 'shootout': 4065, 'cream': 4066, 'represent': 4067, 'climat': 4068, 'empathi': 4069, 'reson': 4070, 'perpetu': 4071, 'contradict': 4072, 'cooki': 4073, 'scotland': 4074, 'valley': 4075, 'stake': 4076, 'sabrina': 4077, 'han': 4078, '1984': 4079, 'crow': 4080, 'quinn': 4081, 'mon': 4082, 'gentleman': 4083, 'brenda': 4084, 'regist': 4085, 'realm': 4086, 'bro': 4087, 'restrain': 4088, 'wig': 4089, 'travesti': 4090, 'fido': 4091, 'buster': 4092, 'din': 4093, 'miyazaki': 4094, 'josh': 4095, 'geek': 4096, 'ustinov': 4097, 'pretens': 4098, 'traumat': 4099, 'soderbergh': 4100, 'spacey': 4101, 'businessman': 4102, '1997': 4103, 'mclaglen': 4104, 'distress': 4105, 'compromis': 4106, 'delic': 4107, 'shoddi': 4108, '1987': 4109, 'sammi': 4110, 'abomin': 4111, 'unsatisfi': 4112, 'absent': 4113, 'warrant': 4114, 'greg': 4115, 'unseen': 4116, 'censor': 4117, 'monoton': 4118, 'tacki': 4119, 'cloud': 4120, 'ross': 4121, 'sucker': 4122, 'derang': 4123, 'pole': 4124, 'dana': 4125, 'baldwin': 4126, 'meryl': 4127, 'painter': 4128, 'demis': 4129, 'wax': 4130, 'femm': 4131, 'perceiv': 4132, 'shaki': 4133, 'passabl': 4134, 'darren': 4135, 'crawford': 4136, 'stargat': 4137, 'fuller': 4138, 'click': 4139, 'sid': 4140, 'deniro': 4141, 'tech': 4142, 'expedit': 4143, 'jewel': 4144, 'dee': 4145, 'valid': 4146, '1993': 4147, 'judgment': 4148, 'kumar': 4149, 'seal': 4150, 'furiou': 4151, 'nathan': 4152, 'fog': 4153, 'reluct': 4154, 'accuraci': 4155, 'norm': 4156, 'tarantino': 4157, 'deceas': 4158, 'anchor': 4159, 'clash': 4160, 'austin': 4161, 'primit': 4162, 'polici': 4163, 'uncov': 4164, 'verbal': 4165, 'fenc': 4166, 'correctli': 4167, 'unravel': 4168, 'exclus': 4169, 'wholli': 4170, 'antonioni': 4171, 'darn': 4172, 'seldom': 4173, '1995': 4174, 'fart': 4175, 'roller': 4176, 'fought': 4177, 'dreck': 4178, '1971': 4179, 'mode': 4180, 'temper': 4181, 'hallucin': 4182, 'unfair': 4183, 'nicola': 4184, 'crippl': 4185, 'pocket': 4186, 'sunni': 4187, 'tax': 4188, 'trait': 4189, '3000': 4190, 'shanghai': 4191, 'wretch': 4192, 'fabric': 4193, 'debt': 4194, 'enforc': 4195, 'murray': 4196, 'clerk': 4197, 'alec': 4198, '2008': 4199, 'patienc': 4200, 'vanc': 4201, 'logan': 4202, 'bake': 4203, 'behold': 4204, 'slam': 4205, 'wang': 4206, 'conduct': 4207, 'joel': 4208, 'sustain': 4209, 'malon': 4210, 'sand': 4211, 'ritual': 4212, 'sheet': 4213, 'fundament': 4214, 'critiqu': 4215, 'outlin': 4216, 'conscious': 4217, 'tactic': 4218, 'phil': 4219, 'bridget': 4220, 'stark': 4221, 'rita': 4222, 'sweep': 4223, 'squad': 4224, 'pete': 4225, 'helpless': 4226, 'schedul': 4227, 'scriptwrit': 4228, 'bias': 4229, 'legaci': 4230, 'despis': 4231, 'soup': 4232, 'exhaust': 4233, 'penni': 4234, 'runner': 4235, 'guitar': 4236, 'grief': 4237, 'stuart': 4238, 'divid': 4239, 'technicolor': 4240, 'robber': 4241, 'preston': 4242, 'canyon': 4243, 'preposter': 4244, 'clau': 4245, 'shell': 4246, 'isabel': 4247, 'drove': 4248, 'passag': 4249, 'alicia': 4250, 'unexpectedli': 4251, 'culmin': 4252, 'delv': 4253, 'cigarett': 4254, 'propos': 4255, 'connor': 4256, 'gregori': 4257, 'inabl': 4258, 'downey': 4259, 'restrict': 4260, 'russia': 4261, 'agenc': 4262, 'consciou': 4263, 'lacklust': 4264, 'flair': 4265, 'implic': 4266, 'palanc': 4267, 'alley': 4268, 'newman': 4269, 'bloom': 4270, 'jodi': 4271, 'sugar': 4272, 'kansa': 4273, 'liberti': 4274, 'jacket': 4275, 'boyl': 4276, 'rear': 4277, 'vomit': 4278, 'sniper': 4279, 'rehash': 4280, 'invad': 4281, 'sentinel': 4282, 'marc': 4283, 'rod': 4284, 'karl': 4285, 'pale': 4286, 'aesthet': 4287, 'rampag': 4288, 'improb': 4289, 'vet': 4290, 'sharon': 4291, 'ladder': 4292, 'behaviour': 4293, 'feat': 4294, 'chainsaw': 4295, 'rehears': 4296, 'lush': 4297, 'horn': 4298, 'bacon': 4299, 'delet': 4300, 'tendenc': 4301, 'cap': 4302, 'tripe': 4303, 'wrench': 4304, '22': 4305, 'arrow': 4306, 'foxx': 4307, 'asylum': 4308, '1936': 4309, 'mccoy': 4310, 'awhil': 4311, 'yeti': 4312, 'kolchak': 4313, 'el': 4314, 'rhythm': 4315, 'weav': 4316, 'paradis': 4317, 'coaster': 4318, 'shortcom': 4319, 'minu': 4320, 'wildli': 4321, 'underneath': 4322, 'conscienc': 4323, 'lurk': 4324, 'basing': 4325, 'sung': 4326, 'hulk': 4327, 'suffici': 4328, 'loneli': 4329, '1988': 4330, 'globe': 4331, 'fright': 4332, 'tomorrow': 4333, 'paramount': 4334, 'scoop': 4335, 'aristocrat': 4336, 'filler': 4337, 'suspicion': 4338, 'hackney': 4339, 'prank': 4340, 'stream': 4341, 'elit': 4342, '1920': 4343, 'newcom': 4344, 'wagner': 4345, '1978': 4346, 'hungri': 4347, 'amazon': 4348, '19th': 4349, 'tasteless': 4350, 'visitor': 4351, 'spice': 4352, 'rumor': 4353, 'financ': 4354, 'thunderbird': 4355, 'dirt': 4356, 'lectur': 4357, 'recogniz': 4358, 'worship': 4359, 'iv': 4360, 'teas': 4361, 'choppi': 4362, '75': 4363, 'couch': 4364, 'curli': 4365, 'leigh': 4366, 'impos': 4367, 'chamberlain': 4368, 'straightforward': 4369, 'smell': 4370, 'rub': 4371, 'heist': 4372, 'literari': 4373, 'quietli': 4374, 'abrupt': 4375, 'immers': 4376, 'counterpart': 4377, 'standout': 4378, 'grudg': 4379, 'atroc': 4380, '1989': 4381, 'hopkin': 4382, 'ingeni': 4383, 'bread': 4384, 'beverli': 4385, 'brit': 4386, 'secondari': 4387, '1939': 4388, 'inmat': 4389, 'tierney': 4390, 'paxton': 4391, 'entranc': 4392, 'ram': 4393, 'naughti': 4394, 'cancer': 4395, 'en': 4396, 'posey': 4397, 'springer': 4398, 'minist': 4399, 'penn': 4400, 'wwe': 4401, 'chavez': 4402, 'ace': 4403, '1986': 4404, 'heartfelt': 4405, 'nolan': 4406, 'net': 4407, 'bernard': 4408, 'transcend': 4409, 'morbid': 4410, 'lindsay': 4411, 'missil': 4412, 'skeptic': 4413, 'nemesi': 4414, 'moreov': 4415, 'convert': 4416, 'sassi': 4417, 'enthral': 4418, 'yearn': 4419, 'laurenc': 4420, 'esther': 4421, 'variat': 4422, 'ratso': 4423, 'cattl': 4424, 'misguid': 4425, 'duel': 4426, 'injuri': 4427, 'entitl': 4428, 'policeman': 4429, 'watcher': 4430, 'sublim': 4431, 'clan': 4432, 'attenborough': 4433, 'quaid': 4434, 'geni': 4435, 'mytholog': 4436, 'uncut': 4437, 'youngest': 4438, 'spiral': 4439, 'reliabl': 4440, '1979': 4441, 'kitti': 4442, 'characteris': 4443, 'graini': 4444, 'carlito': 4445, 'facil': 4446, 'vader': 4447, 'steadi': 4448, 'rosemari': 4449, 'cruelti': 4450, 'unexplain': 4451, 'brood': 4452, 'bye': 4453, 'obstacl': 4454, 'out': 4455, 'dont': 4456, 'artsi': 4457, 'buzz': 4458, 'puppi': 4459, 'setup': 4460, 'grin': 4461, 'tyler': 4462, 'hk': 4463, 'poe': 4464, 'diari': 4465, 'moder': 4466, 'egg': 4467, 'enabl': 4468, 'hopelessli': 4469, 'bean': 4470, 'kidman': 4471, 'fuel': 4472, 'patricia': 4473, 'martha': 4474, 'oblig': 4475, 'underworld': 4476, 'sweat': 4477, 'clueless': 4478, 'despic': 4479, 'niec': 4480, 'heap': 4481, 'hammi': 4482, 'acquaint': 4483, 'christin': 4484, 'exterior': 4485, 'disastr': 4486, 'narrow': 4487, 'brendan': 4488, 'effici': 4489, 'baffl': 4490, 'spontan': 4491, 'decept': 4492, 'bounc': 4493, 'athlet': 4494, 'preming': 4495, 'bewar': 4496, 'hain': 4497, 'kline': 4498, 'bronson': 4499, 'gina': 4500, 'weather': 4501, '1969': 4502, 'gillian': 4503, 'scar': 4504, 'mayhem': 4505, 'angst': 4506, 'viewpoint': 4507, 'suprem': 4508, 'loi': 4509, 'candl': 4510, 'circu': 4511, 'trigger': 4512, 'injur': 4513, 'sooner': 4514, 'virtu': 4515, 'tick': 4516, 'enlist': 4517, 'harmless': 4518, 'analyz': 4519, 'lester': 4520, 'uh': 4521, '73': 4522, 'loath': 4523, 'insipid': 4524, 'hepburn': 4525, 'housewif': 4526, 'shatter': 4527, 'mermaid': 4528, 'astound': 4529, 'taboo': 4530, 'outlaw': 4531, 'rome': 4532, 'goof': 4533, '19': 4534, 'sleepwalk': 4535, 'fontain': 4536, 'biker': 4537, 'headach': 4538, 'renaiss': 4539, 'dilemma': 4540, 'preachi': 4541, 'dandi': 4542, 'hokey': 4543, 'idol': 4544, 'amor': 4545, 'whore': 4546, 'stair': 4547, 'hostag': 4548, 'steer': 4549, 'surgeri': 4550, 'overlong': 4551, 'dismal': 4552, 'slimi': 4553, 'dish': 4554, 'sox': 4555, 'boston': 4556, 'fluff': 4557, 'scorses': 4558, 'salt': 4559, 'immatur': 4560, 'intric': 4561, 'hooker': 4562, 'ebert': 4563, 'oldest': 4564, 'camcord': 4565, 'stimul': 4566, 'claustrophob': 4567, 'gere': 4568, 'glorifi': 4569, 'phenomenon': 4570, 'macho': 4571, 'filth': 4572, 'contempt': 4573, 'spade': 4574, 'tripl': 4575, 'redund': 4576, 'zoom': 4577, 'ariel': 4578, 'bent': 4579, 'cassavet': 4580, 'foolish': 4581, 'corbett': 4582, 'guin': 4583, 'joker': 4584, 'dwarf': 4585, '1981': 4586, 'naschi': 4587, 'cohen': 4588, 'astronaut': 4589, 'radiat': 4590, 'obligatori': 4591, 'spree': 4592, 'messi': 4593, 'assert': 4594, 'proport': 4595, 'transplant': 4596, 'flag': 4597, 'shred': 4598, 'harold': 4599, 'remad': 4600, 'nolt': 4601, 'beard': 4602, 'cow': 4603, 'frantic': 4604, 'gasp': 4605, 'flashi': 4606, 'rhyme': 4607, 'preced': 4608, 'flirt': 4609, '1976': 4610, 'keen': 4611, 'trivia': 4612, 'perman': 4613, 'mount': 4614, 'zane': 4615, 'strongest': 4616, 'cush': 4617, 'down': 4618, 'shield': 4619, 'margin': 4620, 'schlock': 4621, 'corman': 4622, 'spinal': 4623, 'muscl': 4624, 'antagonist': 4625, 'conquer': 4626, 'widescreen': 4627, 'mutual': 4628, 'fascist': 4629, 'faint': 4630, 'gabl': 4631, 'alvin': 4632, 'mobil': 4633, 'deer': 4634, 'info': 4635, 'repris': 4636, 'neurot': 4637, 'boob': 4638, 'inflict': 4639, '28': 4640, 'interestingli': 4641, 'barn': 4642, 'bachelor': 4643, 'flock': 4644, 'brush': 4645, 'wield': 4646, 'raj': 4647, 'bitten': 4648, 'aborigin': 4649, 'mol': 4650, 'ritchi': 4651, 'someday': 4652, 'scandal': 4653, 'off': 4654, 'triangl': 4655, 'persuad': 4656, '95': 4657, 'claud': 4658, 'divin': 4659, 'vaniti': 4660, 'resum': 4661, 'www': 4662, 'hara': 4663, '1945': 4664, 'fishburn': 4665, 'archiv': 4666, 'carey': 4667, 'discern': 4668, 'instruct': 4669, 'sensual': 4670, 'danish': 4671, 'departur': 4672, 'strive': 4673, 'undermin': 4674, 'ish': 4675, 'dim': 4676, 'pacif': 4677, 'recit': 4678, 'submit': 4679, 'banter': 4680, 'bate': 4681, 'earnest': 4682, 'helm': 4683, 'casino': 4684, 'hapless': 4685, 'harrison': 4686, 'timberlak': 4687, 'fragil': 4688, 'miracul': 4689, 'mobster': 4690, 'proclaim': 4691, 'kathryn': 4692, 'cliffhang': 4693, 'melissa': 4694, 'dylan': 4695, 'rot': 4696, 'hilar': 4697, 'pixar': 4698, 'cycl': 4699, 'axe': 4700, 'neill': 4701, 'wendigo': 4702, 'biblic': 4703, 'prophet': 4704, 'clad': 4705, 'luka': 4706, 'artwork': 4707, 'traffic': 4708, 'hug': 4709, 'cb': 4710, 'europa': 4711, 'carlo': 4712, 'anton': 4713, 'senior': 4714, 'jade': 4715, 'heartwarm': 4716, 'frontier': 4717, 'pickford': 4718, 'vibrant': 4719, 'dame': 4720, 'colin': 4721, 'cher': 4722, 'loretta': 4723, 'parson': 4724, 'antholog': 4725, 'electron': 4726, 'illus': 4727, 'rooki': 4728, 'wardrob': 4729, 'redneck': 4730, 'jordan': 4731, 'razor': 4732, 'blatantli': 4733, 'vile': 4734, 'foil': 4735, 'nope': 4736, 'jo': 4737, 'feast': 4738, 'holocaust': 4739, 'bondag': 4740, 'estrang': 4741, 'token': 4742, 'articl': 4743, 'marlon': 4744, 'cerebr': 4745, 'legitim': 4746, 'sicken': 4747, 'orphan': 4748, 'uma': 4749, 'winchest': 4750, 'seedi': 4751, 'shepherd': 4752, 'aris': 4753, 'lucil': 4754, 'northern': 4755, 'akin': 4756, 'trier': 4757, 'toronto': 4758, 'pc': 4759, 'static': 4760, 'breakfast': 4761, 'eli': 4762, 'bikini': 4763, 'flavor': 4764, 'choke': 4765, 'http': 4766, 'alexandr': 4767, 'mason': 4768, 'milo': 4769, 'misfortun': 4770, 'venom': 4771, 'isra': 4772, 'lui': 4773, 'vanessa': 4774, 'mathieu': 4775, 'nightclub': 4776, 'linear': 4777, 'highway': 4778, 'outdat': 4779, 'shorter': 4780, 'huston': 4781, 'knightley': 4782, 'abund': 4783, 'audrey': 4784, 'cartoonish': 4785, 'wrestler': 4786, 'ideolog': 4787, 'frog': 4788, 'deem': 4789, 'leather': 4790, 'magician': 4791, 'disregard': 4792, 'affleck': 4793, 'fifth': 4794, 'feminin': 4795, 'ceremoni': 4796, 'gilbert': 4797, 'retriev': 4798, 'smack': 4799, 'tack': 4800, 'dudley': 4801, 'boyer': 4802, 'peer': 4803, 'turd': 4804, 'swept': 4805, 'psych': 4806, 'charlton': 4807, 'oppon': 4808, 'glare': 4809, 'gunga': 4810, 'clinic': 4811, 'howl': 4812, 'styliz': 4813, 'comprehend': 4814, 'spine': 4815, 'newer': 4816, 'compris': 4817, '1991': 4818, 'uniformli': 4819, 'lavish': 4820, 'braveheart': 4821, 'goldsworthi': 4822, 'summar': 4823, 'monument': 4824, 'breakdown': 4825, '4th': 4826, 'phenomen': 4827, 'chip': 4828, 'senat': 4829, 'evolut': 4830, 'whack': 4831, 'potter': 4832, 'spawn': 4833, 'boo': 4834, 'corn': 4835, 'tara': 4836, 'client': 4837, 'collector': 4838, '1994': 4839, 'toe': 4840, 'lifeless': 4841, 'conrad': 4842, 'deliver': 4843, 'energet': 4844, 'btw': 4845, 'bogu': 4846, 'lighter': 4847, 'mitch': 4848, 'cuban': 4849, 'sleaz': 4850, 'plate': 4851, 'snatch': 4852, 'salman': 4853, 'bastard': 4854, 'cemeteri': 4855, 'greet': 4856, 'moe': 4857, 'einstein': 4858, 'durat': 4859, 'replay': 4860, 'spectacl': 4861, 'belli': 4862, 'bori': 4863, 'ol': 4864, 'firmli': 4865, 'judd': 4866, 'inaccuraci': 4867, 'creek': 4868, 'neatli': 4869, 'occup': 4870, '1974': 4871, 'constitut': 4872, 'jedi': 4873, 'embark': 4874, 'jare': 4875, 'undertak': 4876, 'healthi': 4877, 'bulk': 4878, 'randolph': 4879, 'cecil': 4880, 'trauma': 4881, 'fluid': 4882, 'wtf': 4883, 'alleg': 4884, 'jam': 4885, 'outright': 4886, 'mcqueen': 4887, 'kazan': 4888, 'eleven': 4889, 'armstrong': 4890, 'gilliam': 4891, 'liu': 4892, 'jule': 4893, 'undead': 4894, 'pronounc': 4895, 'sorrow': 4896, 'evelyn': 4897, 'kent': 4898, 'lex': 4899, 'signal': 4900, 'capot': 4901, 'historian': 4902, 'ie': 4903, 'nina': 4904, '1977': 4905, 'luxuri': 4906, 'clara': 4907, 'appl': 4908, 'inclus': 4909, 'carmen': 4910, 'antonio': 4911, 'decapit': 4912, 'paula': 4913, 'tokyo': 4914, 'rosario': 4915, 'pepper': 4916, 'conan': 4917, 'ash': 4918, 'truman': 4919, 'miami': 4920, 'knee': 4921, 'unattract': 4922, 'kiddi': 4923, 'bait': 4924, '1985': 4925, 'palm': 4926, 'cape': 4927, 'blur': 4928, 'aussi': 4929, 'porter': 4930, 'fruit': 4931, 'meal': 4932, 'curtain': 4933, 'comprehens': 4934, 'inaccur': 4935, 'congratul': 4936, 'sacrif': 4937, 'mum': 4938, 'relentless': 4939, 'groan': 4940, 'comb': 4941, 'poker': 4942, 'abound': 4943, 'vain': 4944, 'walt': 4945, 'vignett': 4946, 'id': 4947, 'sidewalk': 4948, 'propheci': 4949, 'goldblum': 4950, 'roar': 4951, 'basket': 4952, 'forgiven': 4953, 'unsuspect': 4954, 'lauren': 4955, 'subtli': 4956, 'spray': 4957, 'miniseri': 4958, 'lanc': 4959, 'genet': 4960, 'pioneer': 4961, 'galaxi': 4962, 'bsg': 4963, 'ghetto': 4964, 'hostil': 4965, 'omin': 4966, 'substanti': 4967, 'rapidli': 4968, 'bravo': 4969, 'verg': 4970, 'masterson': 4971, 'drone': 4972, 'playboy': 4973, 'sophi': 4974, 'asset': 4975, 'cypher': 4976, 'hackman': 4977, 'sparkl': 4978, 'assort': 4979, 'optimist': 4980, 'vastli': 4981, 'detach': 4982, 'incorrect': 4983, 'dubiou': 4984, 'modest': 4985, 'spill': 4986, 'evan': 4987, 'mice': 4988, 'orchestr': 4989, 'profil': 4990, 'handicap': 4991, 'bach': 4992, 'victorian': 4993, 'ingrid': 4994, 'macabr': 4995, 'weaker': 4996, '21st': 4997, 'frontal': 4998, 'scariest': 4999}\n"
     ]
    }
   ],
   "source": [
    "word_dict = build_dict(train_X)\n",
    "print(word_dict)"
   ]
  },
  {
   "cell_type": "markdown",
   "metadata": {},
   "source": [
    "**Question:** What are the five most frequently appearing (tokenized) words in the training set? Does it makes sense that these words appear frequently in the training set?"
   ]
  },
  {
   "cell_type": "markdown",
   "metadata": {},
   "source": [
    "**Answer:The first five most frequently appearing words are: 'movi', 'film', 'one', 'like', 'time'. Yes, it does make sense to see these as the most frequently used words. The first two words being movi and film, then having a comparing word such as like confirms that these words being the most frequent makes sense.**"
   ]
  },
  {
   "cell_type": "code",
   "execution_count": 14,
   "metadata": {},
   "outputs": [
    {
     "name": "stdout",
     "output_type": "stream",
     "text": [
      "movi 2\n",
      "film 3\n",
      "one 4\n",
      "like 5\n",
      "time 6\n"
     ]
    }
   ],
   "source": [
    "# TODO: Use this space to determine the five most frequently appearing words in the training set.\n",
    "\n",
    "i = 0\n",
    "for word, num in word_dict.items():\n",
    "    if i < 5:\n",
    "        print(word, num)\n",
    "        i += 1\n",
    "\n",
    "   \n",
    "        \n"
   ]
  },
  {
   "cell_type": "markdown",
   "metadata": {},
   "source": [
    "### Save `word_dict`\n",
    "\n",
    "Later on when we construct an endpoint which processes a submitted review we will need to make use of the `word_dict` which we have created. As such, we will save it to a file now for future use."
   ]
  },
  {
   "cell_type": "code",
   "execution_count": 15,
   "metadata": {},
   "outputs": [],
   "source": [
    "data_dir = '../data/pytorch' # The folder we will use for storing data\n",
    "if not os.path.exists(data_dir): # Make sure that the folder exists\n",
    "    os.makedirs(data_dir)"
   ]
  },
  {
   "cell_type": "code",
   "execution_count": 16,
   "metadata": {},
   "outputs": [],
   "source": [
    "with open(os.path.join(data_dir, 'word_dict.pkl'), \"wb\") as f:\n",
    "    pickle.dump(word_dict, f)"
   ]
  },
  {
   "cell_type": "markdown",
   "metadata": {},
   "source": [
    "### Transform the reviews\n",
    "\n",
    "Now that we have our word dictionary which allows us to transform the words appearing in the reviews into integers, it is time to make use of it and convert our reviews to their integer sequence representation, making sure to pad or truncate to a fixed length, which in our case is `500`."
   ]
  },
  {
   "cell_type": "code",
   "execution_count": 17,
   "metadata": {},
   "outputs": [],
   "source": [
    "def convert_and_pad(word_dict, sentence, pad=500):\n",
    "    NOWORD = 0 # We will use 0 to represent the 'no word' category\n",
    "    INFREQ = 1 # and we use 1 to represent the infrequent words, i.e., words not appearing in word_dict\n",
    "    \n",
    "    working_sentence = [NOWORD] * pad\n",
    "    \n",
    "    for word_index, word in enumerate(sentence[:pad]):\n",
    "        if word in word_dict:\n",
    "            working_sentence[word_index] = word_dict[word]\n",
    "        else:\n",
    "            working_sentence[word_index] = INFREQ\n",
    "            \n",
    "    return working_sentence, min(len(sentence), pad)\n",
    "\n",
    "def convert_and_pad_data(word_dict, data, pad=500):\n",
    "    result = []\n",
    "    lengths = []\n",
    "    \n",
    "    for sentence in data:\n",
    "        converted, leng = convert_and_pad(word_dict, sentence, pad)\n",
    "        result.append(converted)\n",
    "        lengths.append(leng)\n",
    "        \n",
    "    return np.array(result), np.array(lengths)"
   ]
  },
  {
   "cell_type": "code",
   "execution_count": 18,
   "metadata": {},
   "outputs": [],
   "source": [
    "train_X, train_X_len = convert_and_pad_data(word_dict, train_X)\n",
    "test_X, test_X_len = convert_and_pad_data(word_dict, test_X)"
   ]
  },
  {
   "cell_type": "markdown",
   "metadata": {},
   "source": [
    "As a quick check to make sure that things are working as intended, check to see what one of the reviews in the training set looks like after having been processeed. Does this look reasonable? What is the length of a review in the training set?"
   ]
  },
  {
   "cell_type": "code",
   "execution_count": 19,
   "metadata": {},
   "outputs": [
    {
     "name": "stdout",
     "output_type": "stream",
     "text": [
      "500\n",
      "[ 148  164  872  101  561  190 2245  190  618  313  190  221  112  124\n",
      " 4543  561   77    2   21  313  651  409  769  102  241  310  122   87\n",
      "  194   43  932   58  267  678    1  987    4   19  781   79    3  295\n",
      "   67    0    0    0    0    0    0    0    0    0    0    0    0    0\n",
      "    0    0    0    0    0    0    0    0    0    0    0    0    0    0\n",
      "    0    0    0    0    0    0    0    0    0    0    0    0    0    0\n",
      "    0    0    0    0    0    0    0    0    0    0    0    0    0    0\n",
      "    0    0    0    0    0    0    0    0    0    0    0    0    0    0\n",
      "    0    0    0    0    0    0    0    0    0    0    0    0    0    0\n",
      "    0    0    0    0    0    0    0    0    0    0    0    0    0    0\n",
      "    0    0    0    0    0    0    0    0    0    0    0    0    0    0\n",
      "    0    0    0    0    0    0    0    0    0    0    0    0    0    0\n",
      "    0    0    0    0    0    0    0    0    0    0    0    0    0    0\n",
      "    0    0    0    0    0    0    0    0    0    0    0    0    0    0\n",
      "    0    0    0    0    0    0    0    0    0    0    0    0    0    0\n",
      "    0    0    0    0    0    0    0    0    0    0    0    0    0    0\n",
      "    0    0    0    0    0    0    0    0    0    0    0    0    0    0\n",
      "    0    0    0    0    0    0    0    0    0    0    0    0    0    0\n",
      "    0    0    0    0    0    0    0    0    0    0    0    0    0    0\n",
      "    0    0    0    0    0    0    0    0    0    0    0    0    0    0\n",
      "    0    0    0    0    0    0    0    0    0    0    0    0    0    0\n",
      "    0    0    0    0    0    0    0    0    0    0    0    0    0    0\n",
      "    0    0    0    0    0    0    0    0    0    0    0    0    0    0\n",
      "    0    0    0    0    0    0    0    0    0    0    0    0    0    0\n",
      "    0    0    0    0    0    0    0    0    0    0    0    0    0    0\n",
      "    0    0    0    0    0    0    0    0    0    0    0    0    0    0\n",
      "    0    0    0    0    0    0    0    0    0    0    0    0    0    0\n",
      "    0    0    0    0    0    0    0    0    0    0    0    0    0    0\n",
      "    0    0    0    0    0    0    0    0    0    0    0    0    0    0\n",
      "    0    0    0    0    0    0    0    0    0    0    0    0    0    0\n",
      "    0    0    0    0    0    0    0    0    0    0    0    0    0    0\n",
      "    0    0    0    0    0    0    0    0    0    0    0    0    0    0\n",
      "    0    0    0    0    0    0    0    0    0    0    0    0    0    0\n",
      "    0    0    0    0    0    0    0    0    0    0    0    0    0    0\n",
      "    0    0    0    0    0    0    0    0    0    0    0    0    0    0\n",
      "    0    0    0    0    0    0    0    0    0    0]\n"
     ]
    }
   ],
   "source": [
    "# Use this cell to examine one of the processed reviews \n",
    "# to make sure everything is working as intended.\n",
    "print(len(train_X[1]))\n",
    "print(train_X[1])"
   ]
  },
  {
   "cell_type": "markdown",
   "metadata": {},
   "source": [
    "**Question:** In the cells above we use the `preprocess_data` and `convert_and_pad_data` methods to process both the training and testing set. Why or why not might this be a problem?"
   ]
  },
  {
   "cell_type": "markdown",
   "metadata": {},
   "source": [
    "**Answer:**"
   ]
  },
  {
   "cell_type": "markdown",
   "metadata": {},
   "source": [
    "## Step 3: Upload the data to S3\n",
    "\n",
    "As in the XGBoost notebook, we will need to upload the training dataset to S3 in order for our training code to access it. For now we will save it locally and we will upload to S3 later on.\n",
    "\n",
    "### Save the processed training dataset locally\n",
    "\n",
    "It is important to note the format of the data that we are saving as we will need to know it when we write the training code. In our case, each row of the dataset has the form `label`, `length`, `review[500]` where `review[500]` is a sequence of `500` integers representing the words in the review."
   ]
  },
  {
   "cell_type": "code",
   "execution_count": 20,
   "metadata": {},
   "outputs": [],
   "source": [
    "import pandas as pd\n",
    "    \n",
    "pd.concat([pd.DataFrame(train_y), pd.DataFrame(train_X_len), pd.DataFrame(train_X)], axis=1) \\\n",
    "        .to_csv(os.path.join(data_dir, 'train.csv'), header=False, index=False)"
   ]
  },
  {
   "cell_type": "markdown",
   "metadata": {},
   "source": [
    "### Uploading the training data\n",
    "\n",
    "\n",
    "Next, we need to upload the training data to the SageMaker default S3 bucket so that we can provide access to it while training our model."
   ]
  },
  {
   "cell_type": "code",
   "execution_count": 21,
   "metadata": {},
   "outputs": [],
   "source": [
    "import sagemaker\n",
    "\n",
    "sagemaker_session = sagemaker.Session()\n",
    "\n",
    "bucket = sagemaker_session.default_bucket()\n",
    "prefix = 'sagemaker/sentiment_rnn'\n",
    "\n",
    "role = sagemaker.get_execution_role()"
   ]
  },
  {
   "cell_type": "code",
   "execution_count": 22,
   "metadata": {},
   "outputs": [],
   "source": [
    "input_data = sagemaker_session.upload_data(path=data_dir, bucket=bucket, key_prefix=prefix)"
   ]
  },
  {
   "cell_type": "markdown",
   "metadata": {},
   "source": [
    "**NOTE:** The cell above uploads the entire contents of our data directory. This includes the `word_dict.pkl` file. This is fortunate as we will need this later on when we create an endpoint that accepts an arbitrary review. For now, we will just take note of the fact that it resides in the data directory (and so also in the S3 training bucket) and that we will need to make sure it gets saved in the model directory."
   ]
  },
  {
   "cell_type": "markdown",
   "metadata": {},
   "source": [
    "## Step 4: Build and Train the PyTorch Model\n",
    "\n",
    "In the XGBoost notebook we discussed what a model is in the SageMaker framework. In particular, a model comprises three objects\n",
    "\n",
    " - Model Artifacts,\n",
    " - Training Code, and\n",
    " - Inference Code,\n",
    " \n",
    "each of which interact with one another. In the XGBoost example we used training and inference code that was provided by Amazon. Here we will still be using containers provided by Amazon with the added benefit of being able to include our own custom code.\n",
    "\n",
    "We will start by implementing our own neural network in PyTorch along with a training script. For the purposes of this project we have provided the necessary model object in the `model.py` file, inside of the `train` folder. You can see the provided implementation by running the cell below."
   ]
  },
  {
   "cell_type": "code",
   "execution_count": 23,
   "metadata": {},
   "outputs": [
    {
     "name": "stdout",
     "output_type": "stream",
     "text": [
      "\u001b[34mimport\u001b[39;49;00m \u001b[04m\u001b[36mtorch.nn\u001b[39;49;00m \u001b[34mas\u001b[39;49;00m \u001b[04m\u001b[36mnn\u001b[39;49;00m\r\n",
      "\r\n",
      "\u001b[34mclass\u001b[39;49;00m \u001b[04m\u001b[32mLSTMClassifier\u001b[39;49;00m(nn.Module):\r\n",
      "    \u001b[33m\"\"\"\u001b[39;49;00m\r\n",
      "\u001b[33m    This is the simple RNN model we will be using to perform Sentiment Analysis.\u001b[39;49;00m\r\n",
      "\u001b[33m    \"\"\"\u001b[39;49;00m\r\n",
      "\r\n",
      "    \u001b[34mdef\u001b[39;49;00m \u001b[32m__init__\u001b[39;49;00m(\u001b[36mself\u001b[39;49;00m, embedding_dim, hidden_dim, vocab_size):\r\n",
      "        \u001b[33m\"\"\"\u001b[39;49;00m\r\n",
      "\u001b[33m        Initialize the model by settingg up the various layers.\u001b[39;49;00m\r\n",
      "\u001b[33m        \"\"\"\u001b[39;49;00m\r\n",
      "        \u001b[36msuper\u001b[39;49;00m(LSTMClassifier, \u001b[36mself\u001b[39;49;00m).\u001b[32m__init__\u001b[39;49;00m()\r\n",
      "\r\n",
      "        \u001b[36mself\u001b[39;49;00m.embedding = nn.Embedding(vocab_size, embedding_dim, padding_idx=\u001b[34m0\u001b[39;49;00m)\r\n",
      "        \u001b[36mself\u001b[39;49;00m.lstm = nn.LSTM(embedding_dim, hidden_dim)\r\n",
      "        \u001b[36mself\u001b[39;49;00m.dense = nn.Linear(in_features=hidden_dim, out_features=\u001b[34m1\u001b[39;49;00m)\r\n",
      "        \u001b[36mself\u001b[39;49;00m.sig = nn.Sigmoid()\r\n",
      "        \r\n",
      "        \u001b[36mself\u001b[39;49;00m.word_dict = \u001b[36mNone\u001b[39;49;00m\r\n",
      "\r\n",
      "    \u001b[34mdef\u001b[39;49;00m \u001b[32mforward\u001b[39;49;00m(\u001b[36mself\u001b[39;49;00m, x):\r\n",
      "        \u001b[33m\"\"\"\u001b[39;49;00m\r\n",
      "\u001b[33m        Perform a forward pass of our model on some input.\u001b[39;49;00m\r\n",
      "\u001b[33m        \"\"\"\u001b[39;49;00m\r\n",
      "        x = x.t()\r\n",
      "        lengths = x[\u001b[34m0\u001b[39;49;00m,:]\r\n",
      "        reviews = x[\u001b[34m1\u001b[39;49;00m:,:]\r\n",
      "        embeds = \u001b[36mself\u001b[39;49;00m.embedding(reviews)\r\n",
      "        lstm_out, _ = \u001b[36mself\u001b[39;49;00m.lstm(embeds)\r\n",
      "        out = \u001b[36mself\u001b[39;49;00m.dense(lstm_out)\r\n",
      "        out = out[lengths - \u001b[34m1\u001b[39;49;00m, \u001b[36mrange\u001b[39;49;00m(\u001b[36mlen\u001b[39;49;00m(lengths))]\r\n",
      "        \u001b[34mreturn\u001b[39;49;00m \u001b[36mself\u001b[39;49;00m.sig(out.squeeze())\r\n"
     ]
    }
   ],
   "source": [
    "!pygmentize train/model.py"
   ]
  },
  {
   "cell_type": "markdown",
   "metadata": {},
   "source": [
    "The important takeaway from the implementation provided is that there are three parameters that we may wish to tweak to improve the performance of our model. These are the embedding dimension, the hidden dimension and the size of the vocabulary. We will likely want to make these parameters configurable in the training script so that if we wish to modify them we do not need to modify the script itself. We will see how to do this later on. To start we will write some of the training code in the notebook so that we can more easily diagnose any issues that arise.\n",
    "\n",
    "First we will load a small portion of the training data set to use as a sample. It would be very time consuming to try and train the model completely in the notebook as we do not have access to a gpu and the compute instance that we are using is not particularly powerful. However, we can work on a small bit of the data to get a feel for how our training script is behaving."
   ]
  },
  {
   "cell_type": "code",
   "execution_count": 24,
   "metadata": {},
   "outputs": [],
   "source": [
    "import torch\n",
    "import torch.utils.data\n",
    "\n",
    "# Read in only the first 250 rows\n",
    "train_sample = pd.read_csv(os.path.join(data_dir, 'train.csv'), header=None, names=None, nrows=250)\n",
    "\n",
    "# Turn the input pandas dataframe into tensors\n",
    "train_sample_y = torch.from_numpy(train_sample[[0]].values).float().squeeze()\n",
    "train_sample_X = torch.from_numpy(train_sample.drop([0], axis=1).values).long()\n",
    "\n",
    "# Build the dataset\n",
    "train_sample_ds = torch.utils.data.TensorDataset(train_sample_X, train_sample_y)\n",
    "# Build the dataloader\n",
    "train_sample_dl = torch.utils.data.DataLoader(train_sample_ds, batch_size=50)"
   ]
  },
  {
   "cell_type": "markdown",
   "metadata": {},
   "source": [
    "### (TODO) Writing the training method\n",
    "\n",
    "Next we need to write the training code itself. This should be very similar to training methods that you have written before to train PyTorch models. We will leave any difficult aspects such as model saving / loading and parameter loading until a little later."
   ]
  },
  {
   "cell_type": "code",
   "execution_count": 25,
   "metadata": {},
   "outputs": [],
   "source": [
    "def train(model, train_loader, epochs, optimizer, loss_fn, device):\n",
    "    for epoch in range(1, epochs + 1):\n",
    "        model.train()\n",
    "        total_loss = 0\n",
    "        for batch in train_loader:         \n",
    "            batch_X, batch_y = batch\n",
    "            \n",
    "            batch_X = batch_X.to(device)\n",
    "            batch_y = batch_y.to(device)\n",
    "            \n",
    "            optimizer.zero_grad()\n",
    "            optimizer.step()\n",
    "            out = model.forward(batch_X)\n",
    "            loss = loss_fn(out, batch_y)\n",
    "            loss.backward()\n",
    "            \n",
    "           \n",
    "           \n",
    "            \n",
    "            total_loss += loss.data.item()\n",
    "        print(\"Epoch: {}, BCELoss: {}\".format(epoch, total_loss / len(train_loader)))"
   ]
  },
  {
   "cell_type": "markdown",
   "metadata": {},
   "source": [
    "Supposing we have the training method above, we will test that it is working by writing a bit of code in the notebook that executes our training method on the small sample training set that we loaded earlier. The reason for doing this in the notebook is so that we have an opportunity to fix any errors that arise early when they are easier to diagnose."
   ]
  },
  {
   "cell_type": "code",
   "execution_count": 26,
   "metadata": {},
   "outputs": [
    {
     "name": "stdout",
     "output_type": "stream",
     "text": [
      "Epoch: 1, BCELoss: 0.6946716427803039\n",
      "Epoch: 2, BCELoss: 0.6946716427803039\n",
      "Epoch: 3, BCELoss: 0.6946716427803039\n",
      "Epoch: 4, BCELoss: 0.6946716427803039\n",
      "Epoch: 5, BCELoss: 0.6946716427803039\n"
     ]
    }
   ],
   "source": [
    "import torch.optim as optim\n",
    "from train.model import LSTMClassifier\n",
    "\n",
    "device = torch.device(\"cuda\" if torch.cuda.is_available() else \"cpu\")\n",
    "model = LSTMClassifier(32, 100, 5000).to(device)\n",
    "optimizer = optim.Adam(model.parameters())\n",
    "loss_fn = torch.nn.BCELoss()\n",
    "\n",
    "train(model, train_sample_dl, 5, optimizer, loss_fn, device)"
   ]
  },
  {
   "cell_type": "markdown",
   "metadata": {},
   "source": [
    "In order to construct a PyTorch model using SageMaker we must provide SageMaker with a training script. We may optionally include a directory which will be copied to the container and from which our training code will be run. When the training container is executed it will check the uploaded directory (if there is one) for a `requirements.txt` file and install any required Python libraries, after which the training script will be run."
   ]
  },
  {
   "cell_type": "markdown",
   "metadata": {},
   "source": [
    "### (TODO) Training the model\n",
    "\n",
    "When a PyTorch model is constructed in SageMaker, an entry point must be specified. This is the Python file which will be executed when the model is trained. Inside of the `train` directory is a file called `train.py` which has been provided and which contains most of the necessary code to train our model. The only thing that is missing is the implementation of the `train()` method which you wrote earlier in this notebook.\n",
    "\n",
    "**TODO**: Copy the `train()` method written above and paste it into the `train/train.py` file where required.\n",
    "\n",
    "The way that SageMaker passes hyperparameters to the training script is by way of arguments. These arguments can then be parsed and used in the training script. To see how this is done take a look at the provided `train/train.py` file."
   ]
  },
  {
   "cell_type": "code",
   "execution_count": 27,
   "metadata": {},
   "outputs": [],
   "source": [
    "from sagemaker.pytorch import PyTorch\n",
    "\n",
    "estimator = PyTorch(entry_point=\"train.py\",\n",
    "                    source_dir=\"train\",\n",
    "                    role=role,\n",
    "                    framework_version='0.4.0',\n",
    "                    train_instance_count=1,\n",
    "                    train_instance_type='ml.p2.xlarge',\n",
    "                    hyperparameters={\n",
    "                        'epochs': 10,\n",
    "                        'hidden_dim': 200,\n",
    "                    })"
   ]
  },
  {
   "cell_type": "code",
   "execution_count": null,
   "metadata": {},
   "outputs": [
    {
     "name": "stdout",
     "output_type": "stream",
     "text": [
      "2019-10-02 12:39:38 Starting - Starting the training job...\n",
      "2019-10-02 12:39:40 Starting - Launching requested ML instances...\n",
      "2019-10-02 12:40:38 Starting - Preparing the instances for training.........\n",
      "2019-10-02 12:41:51 Downloading - Downloading input data...\n",
      "2019-10-02 12:42:21 Training - Downloading the training image...\n",
      "2019-10-02 12:42:55 Training - Training image download completed. Training in progress.\u001b[31mbash: cannot set terminal process group (-1): Inappropriate ioctl for device\u001b[0m\n",
      "\u001b[31mbash: no job control in this shell\u001b[0m\n",
      "\u001b[31m2019-10-02 12:42:55,615 sagemaker-containers INFO     Imported framework sagemaker_pytorch_container.training\u001b[0m\n",
      "\u001b[31m2019-10-02 12:42:55,639 sagemaker_pytorch_container.training INFO     Block until all host DNS lookups succeed.\u001b[0m\n",
      "\u001b[31m2019-10-02 12:42:55,643 sagemaker_pytorch_container.training INFO     Invoking user training script.\u001b[0m\n",
      "\u001b[31m2019-10-02 12:42:55,887 sagemaker-containers INFO     Module train does not provide a setup.py. \u001b[0m\n",
      "\u001b[31mGenerating setup.py\u001b[0m\n",
      "\u001b[31m2019-10-02 12:42:55,887 sagemaker-containers INFO     Generating setup.cfg\u001b[0m\n",
      "\u001b[31m2019-10-02 12:42:55,887 sagemaker-containers INFO     Generating MANIFEST.in\u001b[0m\n",
      "\u001b[31m2019-10-02 12:42:55,887 sagemaker-containers INFO     Installing module with the following command:\u001b[0m\n",
      "\u001b[31m/usr/bin/python -m pip install -U . -r requirements.txt\u001b[0m\n",
      "\u001b[31mProcessing /opt/ml/code\u001b[0m\n",
      "\u001b[31mCollecting pandas (from -r requirements.txt (line 1))\n",
      "  Downloading https://files.pythonhosted.org/packages/74/24/0cdbf8907e1e3bc5a8da03345c23cbed7044330bb8f73bb12e711a640a00/pandas-0.24.2-cp35-cp35m-manylinux1_x86_64.whl (10.0MB)\u001b[0m\n",
      "\u001b[31mCollecting numpy (from -r requirements.txt (line 2))\n",
      "  Downloading https://files.pythonhosted.org/packages/9b/21/2b18339d24a2f73dcefb2f10f48aff6182e16da83e3a612684443c6cfb29/numpy-1.17.2-cp35-cp35m-manylinux1_x86_64.whl (20.1MB)\u001b[0m\n",
      "\u001b[31mCollecting nltk (from -r requirements.txt (line 3))\n",
      "  Downloading https://files.pythonhosted.org/packages/f6/1d/d925cfb4f324ede997f6d47bea4d9babba51b49e87a767c170b77005889d/nltk-3.4.5.zip (1.5MB)\u001b[0m\n",
      "\u001b[31mCollecting beautifulsoup4 (from -r requirements.txt (line 4))\n",
      "  Downloading https://files.pythonhosted.org/packages/1a/b7/34eec2fe5a49718944e215fde81288eec1fa04638aa3fb57c1c6cd0f98c3/beautifulsoup4-4.8.0-py3-none-any.whl (97kB)\u001b[0m\n",
      "\u001b[31mCollecting html5lib (from -r requirements.txt (line 5))\n",
      "  Downloading https://files.pythonhosted.org/packages/a5/62/bbd2be0e7943ec8504b517e62bab011b4946e1258842bc159e5dfde15b96/html5lib-1.0.1-py2.py3-none-any.whl (117kB)\u001b[0m\n",
      "\u001b[31mRequirement already satisfied, skipping upgrade: python-dateutil>=2.5.0 in /usr/local/lib/python3.5/dist-packages (from pandas->-r requirements.txt (line 1)) (2.7.5)\u001b[0m\n",
      "\u001b[31mCollecting pytz>=2011k (from pandas->-r requirements.txt (line 1))\n",
      "  Downloading https://files.pythonhosted.org/packages/87/76/46d697698a143e05f77bec5a526bf4e56a0be61d63425b68f4ba553b51f2/pytz-2019.2-py2.py3-none-any.whl (508kB)\u001b[0m\n",
      "\u001b[31mRequirement already satisfied, skipping upgrade: six in /usr/local/lib/python3.5/dist-packages (from nltk->-r requirements.txt (line 3)) (1.11.0)\u001b[0m\n",
      "\u001b[31mCollecting soupsieve>=1.2 (from beautifulsoup4->-r requirements.txt (line 4))\n",
      "  Downloading https://files.pythonhosted.org/packages/5d/42/d821581cf568e9b7dfc5b415aa61952b0f5e3dede4f3cbd650e3a1082992/soupsieve-1.9.4-py2.py3-none-any.whl\u001b[0m\n",
      "\u001b[31mCollecting webencodings (from html5lib->-r requirements.txt (line 5))\n",
      "  Downloading https://files.pythonhosted.org/packages/f4/24/2a3e3df732393fed8b3ebf2ec078f05546de641fe1b667ee316ec1dcf3b7/webencodings-0.5.1-py2.py3-none-any.whl\u001b[0m\n",
      "\u001b[31mBuilding wheels for collected packages: nltk, train\n",
      "  Running setup.py bdist_wheel for nltk: started\u001b[0m\n",
      "\u001b[31m  Running setup.py bdist_wheel for nltk: finished with status 'done'\n",
      "  Stored in directory: /root/.cache/pip/wheels/96/86/f6/68ab24c23f207c0077381a5e3904b2815136b879538a24b483\n",
      "  Running setup.py bdist_wheel for train: started\n",
      "  Running setup.py bdist_wheel for train: finished with status 'done'\n",
      "  Stored in directory: /tmp/pip-ephem-wheel-cache-6upkbrwf/wheels/35/24/16/37574d11bf9bde50616c67372a334f94fa8356bc7164af8ca3\u001b[0m\n",
      "\u001b[31mSuccessfully built nltk train\u001b[0m\n",
      "\u001b[31mInstalling collected packages: pytz, numpy, pandas, nltk, soupsieve, beautifulsoup4, webencodings, html5lib, train\n",
      "  Found existing installation: numpy 1.15.4\n",
      "    Uninstalling numpy-1.15.4:\n",
      "      Successfully uninstalled numpy-1.15.4\u001b[0m\n",
      "\u001b[31mSuccessfully installed beautifulsoup4-4.8.0 html5lib-1.0.1 nltk-3.4.5 numpy-1.17.2 pandas-0.24.2 pytz-2019.2 soupsieve-1.9.4 train-1.0.0 webencodings-0.5.1\u001b[0m\n",
      "\u001b[31mYou are using pip version 18.1, however version 19.2.3 is available.\u001b[0m\n",
      "\u001b[31mYou should consider upgrading via the 'pip install --upgrade pip' command.\u001b[0m\n",
      "\u001b[31m2019-10-02 12:43:08,005 sagemaker-containers INFO     Invoking user script\n",
      "\u001b[0m\n",
      "\u001b[31mTraining Env:\n",
      "\u001b[0m\n",
      "\u001b[31m{\n",
      "    \"module_dir\": \"s3://sagemaker-eu-west-1-043743952755/sagemaker-pytorch-2019-10-02-12-39-33-434/source/sourcedir.tar.gz\",\n",
      "    \"framework_module\": \"sagemaker_pytorch_container.training:main\",\n",
      "    \"model_dir\": \"/opt/ml/model\",\n",
      "    \"network_interface_name\": \"eth0\",\n",
      "    \"log_level\": 20,\n",
      "    \"channel_input_dirs\": {\n",
      "        \"training\": \"/opt/ml/input/data/training\"\n",
      "    },\n",
      "    \"current_host\": \"algo-1\",\n",
      "    \"num_gpus\": 1,\n",
      "    \"output_dir\": \"/opt/ml/output\",\n",
      "    \"resource_config\": {\n",
      "        \"current_host\": \"algo-1\",\n",
      "        \"hosts\": [\n",
      "            \"algo-1\"\n",
      "        ],\n",
      "        \"network_interface_name\": \"eth0\"\n",
      "    },\n",
      "    \"output_data_dir\": \"/opt/ml/output/data\",\n",
      "    \"hosts\": [\n",
      "        \"algo-1\"\n",
      "    ],\n",
      "    \"user_entry_point\": \"train.py\",\n",
      "    \"module_name\": \"train\",\n",
      "    \"job_name\": \"sagemaker-pytorch-2019-10-02-12-39-33-434\",\n",
      "    \"output_intermediate_dir\": \"/opt/ml/output/intermediate\",\n",
      "    \"input_config_dir\": \"/opt/ml/input/config\",\n",
      "    \"input_dir\": \"/opt/ml/input\",\n",
      "    \"additional_framework_parameters\": {},\n",
      "    \"hyperparameters\": {\n",
      "        \"hidden_dim\": 200,\n",
      "        \"epochs\": 10\n",
      "    },\n",
      "    \"input_data_config\": {\n",
      "        \"training\": {\n",
      "            \"RecordWrapperType\": \"None\",\n",
      "            \"TrainingInputMode\": \"File\",\n",
      "            \"S3DistributionType\": \"FullyReplicated\"\n",
      "        }\n",
      "    },\n",
      "    \"num_cpus\": 4\u001b[0m\n",
      "\u001b[31m}\n",
      "\u001b[0m\n",
      "\u001b[31mEnvironment variables:\n",
      "\u001b[0m\n",
      "\u001b[31mSM_CURRENT_HOST=algo-1\u001b[0m\n",
      "\u001b[31mSM_OUTPUT_DATA_DIR=/opt/ml/output/data\u001b[0m\n",
      "\u001b[31mSM_MODULE_DIR=s3://sagemaker-eu-west-1-043743952755/sagemaker-pytorch-2019-10-02-12-39-33-434/source/sourcedir.tar.gz\u001b[0m\n",
      "\u001b[31mSM_CHANNEL_TRAINING=/opt/ml/input/data/training\u001b[0m\n",
      "\u001b[31mPYTHONPATH=/usr/local/bin:/usr/lib/python35.zip:/usr/lib/python3.5:/usr/lib/python3.5/plat-x86_64-linux-gnu:/usr/lib/python3.5/lib-dynload:/usr/local/lib/python3.5/dist-packages:/usr/lib/python3/dist-packages\u001b[0m\n",
      "\u001b[31mSM_HP_HIDDEN_DIM=200\u001b[0m\n",
      "\u001b[31mSM_NUM_GPUS=1\u001b[0m\n",
      "\u001b[31mSM_FRAMEWORK_PARAMS={}\u001b[0m\n",
      "\u001b[31mSM_OUTPUT_INTERMEDIATE_DIR=/opt/ml/output/intermediate\u001b[0m\n",
      "\u001b[31mSM_INPUT_CONFIG_DIR=/opt/ml/input/config\u001b[0m\n",
      "\u001b[31mSM_FRAMEWORK_MODULE=sagemaker_pytorch_container.training:main\u001b[0m\n",
      "\u001b[31mSM_OUTPUT_DIR=/opt/ml/output\u001b[0m\n",
      "\u001b[31mSM_HOSTS=[\"algo-1\"]\u001b[0m\n",
      "\u001b[31mSM_INPUT_DIR=/opt/ml/input\u001b[0m\n",
      "\u001b[31mSM_CHANNELS=[\"training\"]\u001b[0m\n",
      "\u001b[31mSM_NUM_CPUS=4\u001b[0m\n",
      "\u001b[31mSM_LOG_LEVEL=20\u001b[0m\n",
      "\u001b[31mSM_MODEL_DIR=/opt/ml/model\u001b[0m\n",
      "\u001b[31mSM_USER_ARGS=[\"--epochs\",\"10\",\"--hidden_dim\",\"200\"]\u001b[0m\n",
      "\u001b[31mSM_NETWORK_INTERFACE_NAME=eth0\u001b[0m\n",
      "\u001b[31mSM_MODULE_NAME=train\u001b[0m\n",
      "\u001b[31mSM_HPS={\"epochs\":10,\"hidden_dim\":200}\u001b[0m\n",
      "\u001b[31mSM_RESOURCE_CONFIG={\"current_host\":\"algo-1\",\"hosts\":[\"algo-1\"],\"network_interface_name\":\"eth0\"}\u001b[0m\n",
      "\u001b[31mSM_INPUT_DATA_CONFIG={\"training\":{\"RecordWrapperType\":\"None\",\"S3DistributionType\":\"FullyReplicated\",\"TrainingInputMode\":\"File\"}}\u001b[0m\n",
      "\u001b[31mSM_TRAINING_ENV={\"additional_framework_parameters\":{},\"channel_input_dirs\":{\"training\":\"/opt/ml/input/data/training\"},\"current_host\":\"algo-1\",\"framework_module\":\"sagemaker_pytorch_container.training:main\",\"hosts\":[\"algo-1\"],\"hyperparameters\":{\"epochs\":10,\"hidden_dim\":200},\"input_config_dir\":\"/opt/ml/input/config\",\"input_data_config\":{\"training\":{\"RecordWrapperType\":\"None\",\"S3DistributionType\":\"FullyReplicated\",\"TrainingInputMode\":\"File\"}},\"input_dir\":\"/opt/ml/input\",\"job_name\":\"sagemaker-pytorch-2019-10-02-12-39-33-434\",\"log_level\":20,\"model_dir\":\"/opt/ml/model\",\"module_dir\":\"s3://sagemaker-eu-west-1-043743952755/sagemaker-pytorch-2019-10-02-12-39-33-434/source/sourcedir.tar.gz\",\"module_name\":\"train\",\"network_interface_name\":\"eth0\",\"num_cpus\":4,\"num_gpus\":1,\"output_data_dir\":\"/opt/ml/output/data\",\"output_dir\":\"/opt/ml/output\",\"output_intermediate_dir\":\"/opt/ml/output/intermediate\",\"resource_config\":{\"current_host\":\"algo-1\",\"hosts\":[\"algo-1\"],\"network_interface_name\":\"eth0\"},\"user_entry_point\":\"train.py\"}\u001b[0m\n",
      "\u001b[31mSM_HP_EPOCHS=10\u001b[0m\n",
      "\u001b[31mSM_USER_ENTRY_POINT=train.py\n",
      "\u001b[0m\n",
      "\u001b[31mInvoking script with the following command:\n",
      "\u001b[0m\n",
      "\u001b[31m/usr/bin/python -m train --epochs 10 --hidden_dim 200\n",
      "\n",
      "\u001b[0m\n",
      "\u001b[31mUsing device cuda.\u001b[0m\n",
      "\u001b[31mGet train data loader.\u001b[0m\n"
     ]
    },
    {
     "name": "stdout",
     "output_type": "stream",
     "text": [
      "\u001b[31mModel loaded with embedding_dim 32, hidden_dim 200, vocab_size 5000.\u001b[0m\n",
      "\u001b[31mEpoch: 1, BCELoss: 0.6683671133858817\u001b[0m\n",
      "\u001b[31mEpoch: 2, BCELoss: 0.6009722522326878\u001b[0m\n",
      "\u001b[31mEpoch: 3, BCELoss: 0.5031469859638993\u001b[0m\n",
      "\u001b[31mEpoch: 4, BCELoss: 0.4414151335249142\u001b[0m\n",
      "\u001b[31mEpoch: 5, BCELoss: 0.40457988697655345\u001b[0m\n",
      "\u001b[31mEpoch: 6, BCELoss: 0.34911219501981927\u001b[0m\n",
      "\u001b[31mEpoch: 7, BCELoss: 0.3318741218167908\u001b[0m\n",
      "\u001b[31mEpoch: 8, BCELoss: 0.32028536468136065\u001b[0m\n",
      "\u001b[31mEpoch: 9, BCELoss: 0.29221676046750983\u001b[0m\n",
      "\n",
      "2019-10-02 12:46:12 Uploading - Uploading generated training model\u001b[31mEpoch: 10, BCELoss: 0.3924005134981506\u001b[0m\n",
      "\u001b[31m2019-10-02 12:46:07,449 sagemaker-containers INFO     Reporting training SUCCESS\u001b[0m\n"
     ]
    }
   ],
   "source": [
    "estimator.fit({'training': input_data})"
   ]
  },
  {
   "cell_type": "markdown",
   "metadata": {},
   "source": [
    "## Step 5: Testing the model\n",
    "\n",
    "As mentioned at the top of this notebook, we will be testing this model by first deploying it and then sending the testing data to the deployed endpoint. We will do this so that we can make sure that the deployed model is working correctly.\n",
    "\n",
    "## Step 6: Deploy the model for testing\n",
    "\n",
    "Now that we have trained our model, we would like to test it to see how it performs. Currently our model takes input of the form `review_length, review[500]` where `review[500]` is a sequence of `500` integers which describe the words present in the review, encoded using `word_dict`. Fortunately for us, SageMaker provides built-in inference code for models with simple inputs such as this.\n",
    "\n",
    "There is one thing that we need to provide, however, and that is a function which loads the saved model. This function must be called `model_fn()` and takes as its only parameter a path to the directory where the model artifacts are stored. This function must also be present in the python file which we specified as the entry point. In our case the model loading function has been provided and so no changes need to be made.\n",
    "\n",
    "**NOTE**: When the built-in inference code is run it must import the `model_fn()` method from the `train.py` file. This is why the training code is wrapped in a main guard ( ie, `if __name__ == '__main__':` )\n",
    "\n",
    "Since we don't need to change anything in the code that was uploaded during training, we can simply deploy the current model as-is.\n",
    "\n",
    "**NOTE:** When deploying a model you are asking SageMaker to launch an compute instance that will wait for data to be sent to it. As a result, this compute instance will continue to run until *you* shut it down. This is important to know since the cost of a deployed endpoint depends on how long it has been running for.\n",
    "\n",
    "In other words **If you are no longer using a deployed endpoint, shut it down!**\n",
    "\n",
    "**TODO:** Deploy the trained model."
   ]
  },
  {
   "cell_type": "code",
   "execution_count": null,
   "metadata": {},
   "outputs": [],
   "source": [
    "# TODO: Deploy the trained model\n",
    "predictor = estimator.deploy(initial_instance_count = 1, instance_type = 'ml.m4.xlarge')"
   ]
  },
  {
   "cell_type": "markdown",
   "metadata": {},
   "source": [
    "## Step 7 - Use the model for testing\n",
    "\n",
    "Once deployed, we can read in the test data and send it off to our deployed model to get some results. Once we collect all of the results we can determine how accurate our model is."
   ]
  },
  {
   "cell_type": "code",
   "execution_count": 72,
   "metadata": {},
   "outputs": [],
   "source": [
    "test_X = pd.concat([pd.DataFrame(test_X_len), pd.DataFrame(test_X)], axis=1)"
   ]
  },
  {
   "cell_type": "code",
   "execution_count": 73,
   "metadata": {},
   "outputs": [],
   "source": [
    "# We split the data into chunks and send each chunk seperately, accumulating the results.\n",
    "\n",
    "def predict(data, rows=512):\n",
    "    split_array = np.array_split(data, int(data.shape[0] / float(rows) + 1))\n",
    "    predictions = np.array([])\n",
    "    for array in split_array:\n",
    "        predictions = np.append(predictions, predictor.predict(array))\n",
    "    \n",
    "    return predictions"
   ]
  },
  {
   "cell_type": "code",
   "execution_count": 74,
   "metadata": {},
   "outputs": [],
   "source": [
    "predictions = predict(test_X.values)\n",
    "predictions = [round(num) for num in predictions]"
   ]
  },
  {
   "cell_type": "code",
   "execution_count": 76,
   "metadata": {},
   "outputs": [
    {
     "data": {
      "text/plain": [
       "0.50048"
      ]
     },
     "execution_count": 76,
     "metadata": {},
     "output_type": "execute_result"
    }
   ],
   "source": [
    "from sklearn.metrics import accuracy_score\n",
    "accuracy_score(test_y, predictions)"
   ]
  },
  {
   "cell_type": "markdown",
   "metadata": {},
   "source": [
    "**Question:** How does this model compare to the XGBoost model you created earlier? Why might these two models perform differently on this dataset? Which do *you* think is better for sentiment analysis?"
   ]
  },
  {
   "cell_type": "markdown",
   "metadata": {},
   "source": [
    "**Answer: After doing some model training on both this model and the XGBoost model, it appears that this model is slightly more accurate, returning a value of 0.50048 whereas the XGBoost returned a value of 0.50116.**"
   ]
  },
  {
   "cell_type": "markdown",
   "metadata": {},
   "source": [
    "### (TODO) More testing\n",
    "\n",
    "We now have a trained model which has been deployed and which we can send processed reviews to and which returns the predicted sentiment. However, ultimately we would like to be able to send our model an unprocessed review. That is, we would like to send the review itself as a string. For example, suppose we wish to send the following review to our model."
   ]
  },
  {
   "cell_type": "code",
   "execution_count": 85,
   "metadata": {},
   "outputs": [],
   "source": [
    "test_review = 'The simplest pleasures in life are the best, and this film is one of them. Combining a rather basic storyline of love and adventure this movie transcends the usual weekend fair with wit and unmitigated charm.'"
   ]
  },
  {
   "cell_type": "markdown",
   "metadata": {},
   "source": [
    "The question we now need to answer is, how do we send this review to our model?\n",
    "\n",
    "Recall in the first section of this notebook we did a bunch of data processing to the IMDb dataset. In particular, we did two specific things to the provided reviews.\n",
    " - Removed any html tags and stemmed the input\n",
    " - Encoded the review as a sequence of integers using `word_dict`\n",
    " \n",
    "In order process the review we will need to repeat these two steps.\n",
    "\n",
    "**TODO**: Using the `review_to_words` and `convert_and_pad` methods from section one, convert `test_review` into a numpy array `test_data` suitable to send to our model. Remember that our model expects input of the form `review_length, review[500]`."
   ]
  },
  {
   "cell_type": "code",
   "execution_count": 1,
   "metadata": {},
   "outputs": [
    {
     "ename": "NameError",
     "evalue": "name 'convert_and_pad' is not defined",
     "output_type": "error",
     "traceback": [
      "\u001b[0;31m---------------------------------------------------------------------------\u001b[0m",
      "\u001b[0;31mNameError\u001b[0m                                 Traceback (most recent call last)",
      "\u001b[0;32m<ipython-input-1-0d223741ae59>\u001b[0m in \u001b[0;36m<module>\u001b[0;34m()\u001b[0m\n\u001b[1;32m      4\u001b[0m \u001b[0;32mimport\u001b[0m \u001b[0mnumpy\u001b[0m \u001b[0;32mas\u001b[0m \u001b[0mnp\u001b[0m\u001b[0;34m\u001b[0m\u001b[0m\n\u001b[1;32m      5\u001b[0m \u001b[0;34m\u001b[0m\u001b[0m\n\u001b[0;32m----> 6\u001b[0;31m \u001b[0mtest_data\u001b[0m\u001b[0;34m=\u001b[0m\u001b[0;34m(\u001b[0m\u001b[0mconvert_and_pad\u001b[0m\u001b[0;34m(\u001b[0m\u001b[0mword_dict\u001b[0m\u001b[0;34m,\u001b[0m \u001b[0mreview_to_words\u001b[0m\u001b[0;34m(\u001b[0m\u001b[0mtest_review\u001b[0m\u001b[0;34m)\u001b[0m\u001b[0;34m)\u001b[0m\u001b[0;34m[\u001b[0m\u001b[0;36m0\u001b[0m\u001b[0;34m]\u001b[0m\u001b[0;34m)\u001b[0m\u001b[0;34m\u001b[0m\u001b[0m\n\u001b[0m\u001b[1;32m      7\u001b[0m \u001b[0;34m\u001b[0m\u001b[0m\n\u001b[1;32m      8\u001b[0m \u001b[0mprint\u001b[0m\u001b[0;34m(\u001b[0m\u001b[0mtest_data\u001b[0m\u001b[0;34m)\u001b[0m\u001b[0;34m\u001b[0m\u001b[0m\n",
      "\u001b[0;31mNameError\u001b[0m: name 'convert_and_pad' is not defined"
     ]
    }
   ],
   "source": [
    "# TODO: Convert test_review into a form usable by the model and save the results in test_data\n",
    "test_data = None\n",
    "\n",
    "import numpy as np\n",
    "\n",
    "test_data=(convert_and_pad(word_dict, review_to_words(test_review))[0])\n",
    "\n",
    "print(test_data)"
   ]
  },
  {
   "cell_type": "markdown",
   "metadata": {},
   "source": [
    "Now that we have processed the review, we can send the resulting array to our model to predict the sentiment of the review."
   ]
  },
  {
   "cell_type": "code",
   "execution_count": 110,
   "metadata": {},
   "outputs": [
    {
     "ename": "ModelError",
     "evalue": "An error occurred (ModelError) when calling the InvokeEndpoint operation: Received server error (500) from model with message \"<!DOCTYPE HTML PUBLIC \"-//W3C//DTD HTML 3.2 Final//EN\">\n<title>500 Internal Server Error</title>\n<h1>Internal Server Error</h1>\n<p>The server encountered an internal error and was unable to complete your request.  Either the server is overloaded or there is an error in the application.</p>\n\". See https://eu-west-1.console.aws.amazon.com/cloudwatch/home?region=eu-west-1#logEventViewer:group=/aws/sagemaker/Endpoints/sagemaker-pytorch-2019-09-30-15-37-04-194 in account 043743952755 for more information.",
     "output_type": "error",
     "traceback": [
      "\u001b[0;31m---------------------------------------------------------------------------\u001b[0m",
      "\u001b[0;31mModelError\u001b[0m                                Traceback (most recent call last)",
      "\u001b[0;32m<ipython-input-110-61ff0951d88d>\u001b[0m in \u001b[0;36m<module>\u001b[0;34m()\u001b[0m\n\u001b[0;32m----> 1\u001b[0;31m \u001b[0mpredictor\u001b[0m\u001b[0;34m.\u001b[0m\u001b[0mpredict\u001b[0m\u001b[0;34m(\u001b[0m\u001b[0mtest_data\u001b[0m\u001b[0;34m)\u001b[0m\u001b[0;34m\u001b[0m\u001b[0m\n\u001b[0m",
      "\u001b[0;32m~/anaconda3/envs/pytorch_p36/lib/python3.6/site-packages/sagemaker/predictor.py\u001b[0m in \u001b[0;36mpredict\u001b[0;34m(self, data, initial_args)\u001b[0m\n\u001b[1;32m     97\u001b[0m \u001b[0;34m\u001b[0m\u001b[0m\n\u001b[1;32m     98\u001b[0m         \u001b[0mrequest_args\u001b[0m \u001b[0;34m=\u001b[0m \u001b[0mself\u001b[0m\u001b[0;34m.\u001b[0m\u001b[0m_create_request_args\u001b[0m\u001b[0;34m(\u001b[0m\u001b[0mdata\u001b[0m\u001b[0;34m,\u001b[0m \u001b[0minitial_args\u001b[0m\u001b[0;34m)\u001b[0m\u001b[0;34m\u001b[0m\u001b[0m\n\u001b[0;32m---> 99\u001b[0;31m         \u001b[0mresponse\u001b[0m \u001b[0;34m=\u001b[0m \u001b[0mself\u001b[0m\u001b[0;34m.\u001b[0m\u001b[0msagemaker_session\u001b[0m\u001b[0;34m.\u001b[0m\u001b[0msagemaker_runtime_client\u001b[0m\u001b[0;34m.\u001b[0m\u001b[0minvoke_endpoint\u001b[0m\u001b[0;34m(\u001b[0m\u001b[0;34m**\u001b[0m\u001b[0mrequest_args\u001b[0m\u001b[0;34m)\u001b[0m\u001b[0;34m\u001b[0m\u001b[0m\n\u001b[0m\u001b[1;32m    100\u001b[0m         \u001b[0;32mreturn\u001b[0m \u001b[0mself\u001b[0m\u001b[0;34m.\u001b[0m\u001b[0m_handle_response\u001b[0m\u001b[0;34m(\u001b[0m\u001b[0mresponse\u001b[0m\u001b[0;34m)\u001b[0m\u001b[0;34m\u001b[0m\u001b[0m\n\u001b[1;32m    101\u001b[0m \u001b[0;34m\u001b[0m\u001b[0m\n",
      "\u001b[0;32m~/anaconda3/envs/pytorch_p36/lib/python3.6/site-packages/botocore/client.py\u001b[0m in \u001b[0;36m_api_call\u001b[0;34m(self, *args, **kwargs)\u001b[0m\n\u001b[1;32m    355\u001b[0m                     \"%s() only accepts keyword arguments.\" % py_operation_name)\n\u001b[1;32m    356\u001b[0m             \u001b[0;31m# The \"self\" in this scope is referring to the BaseClient.\u001b[0m\u001b[0;34m\u001b[0m\u001b[0;34m\u001b[0m\u001b[0m\n\u001b[0;32m--> 357\u001b[0;31m             \u001b[0;32mreturn\u001b[0m \u001b[0mself\u001b[0m\u001b[0;34m.\u001b[0m\u001b[0m_make_api_call\u001b[0m\u001b[0;34m(\u001b[0m\u001b[0moperation_name\u001b[0m\u001b[0;34m,\u001b[0m \u001b[0mkwargs\u001b[0m\u001b[0;34m)\u001b[0m\u001b[0;34m\u001b[0m\u001b[0m\n\u001b[0m\u001b[1;32m    358\u001b[0m \u001b[0;34m\u001b[0m\u001b[0m\n\u001b[1;32m    359\u001b[0m         \u001b[0m_api_call\u001b[0m\u001b[0;34m.\u001b[0m\u001b[0m__name__\u001b[0m \u001b[0;34m=\u001b[0m \u001b[0mstr\u001b[0m\u001b[0;34m(\u001b[0m\u001b[0mpy_operation_name\u001b[0m\u001b[0;34m)\u001b[0m\u001b[0;34m\u001b[0m\u001b[0m\n",
      "\u001b[0;32m~/anaconda3/envs/pytorch_p36/lib/python3.6/site-packages/botocore/client.py\u001b[0m in \u001b[0;36m_make_api_call\u001b[0;34m(self, operation_name, api_params)\u001b[0m\n\u001b[1;32m    659\u001b[0m             \u001b[0merror_code\u001b[0m \u001b[0;34m=\u001b[0m \u001b[0mparsed_response\u001b[0m\u001b[0;34m.\u001b[0m\u001b[0mget\u001b[0m\u001b[0;34m(\u001b[0m\u001b[0;34m\"Error\"\u001b[0m\u001b[0;34m,\u001b[0m \u001b[0;34m{\u001b[0m\u001b[0;34m}\u001b[0m\u001b[0;34m)\u001b[0m\u001b[0;34m.\u001b[0m\u001b[0mget\u001b[0m\u001b[0;34m(\u001b[0m\u001b[0;34m\"Code\"\u001b[0m\u001b[0;34m)\u001b[0m\u001b[0;34m\u001b[0m\u001b[0m\n\u001b[1;32m    660\u001b[0m             \u001b[0merror_class\u001b[0m \u001b[0;34m=\u001b[0m \u001b[0mself\u001b[0m\u001b[0;34m.\u001b[0m\u001b[0mexceptions\u001b[0m\u001b[0;34m.\u001b[0m\u001b[0mfrom_code\u001b[0m\u001b[0;34m(\u001b[0m\u001b[0merror_code\u001b[0m\u001b[0;34m)\u001b[0m\u001b[0;34m\u001b[0m\u001b[0m\n\u001b[0;32m--> 661\u001b[0;31m             \u001b[0;32mraise\u001b[0m \u001b[0merror_class\u001b[0m\u001b[0;34m(\u001b[0m\u001b[0mparsed_response\u001b[0m\u001b[0;34m,\u001b[0m \u001b[0moperation_name\u001b[0m\u001b[0;34m)\u001b[0m\u001b[0;34m\u001b[0m\u001b[0m\n\u001b[0m\u001b[1;32m    662\u001b[0m         \u001b[0;32melse\u001b[0m\u001b[0;34m:\u001b[0m\u001b[0;34m\u001b[0m\u001b[0m\n\u001b[1;32m    663\u001b[0m             \u001b[0;32mreturn\u001b[0m \u001b[0mparsed_response\u001b[0m\u001b[0;34m\u001b[0m\u001b[0m\n",
      "\u001b[0;31mModelError\u001b[0m: An error occurred (ModelError) when calling the InvokeEndpoint operation: Received server error (500) from model with message \"<!DOCTYPE HTML PUBLIC \"-//W3C//DTD HTML 3.2 Final//EN\">\n<title>500 Internal Server Error</title>\n<h1>Internal Server Error</h1>\n<p>The server encountered an internal error and was unable to complete your request.  Either the server is overloaded or there is an error in the application.</p>\n\". See https://eu-west-1.console.aws.amazon.com/cloudwatch/home?region=eu-west-1#logEventViewer:group=/aws/sagemaker/Endpoints/sagemaker-pytorch-2019-09-30-15-37-04-194 in account 043743952755 for more information."
     ]
    }
   ],
   "source": [
    "predictor.predict(test_data)"
   ]
  },
  {
   "cell_type": "markdown",
   "metadata": {},
   "source": [
    "Since the return value of our model is close to `1`, we can be certain that the review we submitted is positive."
   ]
  },
  {
   "cell_type": "markdown",
   "metadata": {},
   "source": [
    "### Delete the endpoint\n",
    "\n",
    "Of course, just like in the XGBoost notebook, once we've deployed an endpoint it continues to run until we tell it to shut down. Since we are done using our endpoint for now, we can delete it."
   ]
  },
  {
   "cell_type": "code",
   "execution_count": null,
   "metadata": {},
   "outputs": [],
   "source": [
    "estimator.delete_endpoint()"
   ]
  },
  {
   "cell_type": "markdown",
   "metadata": {},
   "source": [
    "## Step 6 (again) - Deploy the model for the web app\n",
    "\n",
    "Now that we know that our model is working, it's time to create some custom inference code so that we can send the model a review which has not been processed and have it determine the sentiment of the review.\n",
    "\n",
    "As we saw above, by default the estimator which we created, when deployed, will use the entry script and directory which we provided when creating the model. However, since we now wish to accept a string as input and our model expects a processed review, we need to write some custom inference code.\n",
    "\n",
    "We will store the code that we write in the `serve` directory. Provided in this directory is the `model.py` file that we used to construct our model, a `utils.py` file which contains the `review_to_words` and `convert_and_pad` pre-processing functions which we used during the initial data processing, and `predict.py`, the file which will contain our custom inference code. Note also that `requirements.txt` is present which will tell SageMaker what Python libraries are required by our custom inference code.\n",
    "\n",
    "When deploying a PyTorch model in SageMaker, you are expected to provide four functions which the SageMaker inference container will use.\n",
    " - `model_fn`: This function is the same function that we used in the training script and it tells SageMaker how to load our model.\n",
    " - `input_fn`: This function receives the raw serialized input that has been sent to the model's endpoint and its job is to de-serialize and make the input available for the inference code.\n",
    " - `output_fn`: This function takes the output of the inference code and its job is to serialize this output and return it to the caller of the model's endpoint.\n",
    " - `predict_fn`: The heart of the inference script, this is where the actual prediction is done and is the function which you will need to complete.\n",
    "\n",
    "For the simple website that we are constructing during this project, the `input_fn` and `output_fn` methods are relatively straightforward. We only require being able to accept a string as input and we expect to return a single value as output. You might imagine though that in a more complex application the input or output may be image data or some other binary data which would require some effort to serialize.\n",
    "\n",
    "### (TODO) Writing inference code\n",
    "\n",
    "Before writing our custom inference code, we will begin by taking a look at the code which has been provided."
   ]
  },
  {
   "cell_type": "code",
   "execution_count": null,
   "metadata": {},
   "outputs": [],
   "source": [
    "!pygmentize serve/predict.py"
   ]
  },
  {
   "cell_type": "markdown",
   "metadata": {},
   "source": [
    "As mentioned earlier, the `model_fn` method is the same as the one provided in the training code and the `input_fn` and `output_fn` methods are very simple and your task will be to complete the `predict_fn` method. Make sure that you save the completed file as `predict.py` in the `serve` directory.\n",
    "\n",
    "**TODO**: Complete the `predict_fn()` method in the `serve/predict.py` file."
   ]
  },
  {
   "cell_type": "markdown",
   "metadata": {},
   "source": [
    "### Deploying the model\n",
    "\n",
    "Now that the custom inference code has been written, we will create and deploy our model. To begin with, we need to construct a new PyTorchModel object which points to the model artifacts created during training and also points to the inference code that we wish to use. Then we can call the deploy method to launch the deployment container.\n",
    "\n",
    "**NOTE**: The default behaviour for a deployed PyTorch model is to assume that any input passed to the predictor is a `numpy` array. In our case we want to send a string so we need to construct a simple wrapper around the `RealTimePredictor` class to accomodate simple strings. In a more complicated situation you may want to provide a serialization object, for example if you wanted to sent image data."
   ]
  },
  {
   "cell_type": "code",
   "execution_count": null,
   "metadata": {},
   "outputs": [],
   "source": [
    "from sagemaker.predictor import RealTimePredictor\n",
    "from sagemaker.pytorch import PyTorchModel\n",
    "\n",
    "class StringPredictor(RealTimePredictor):\n",
    "    def __init__(self, endpoint_name, sagemaker_session):\n",
    "        super(StringPredictor, self).__init__(endpoint_name, sagemaker_session, content_type='text/plain')\n",
    "\n",
    "model = PyTorchModel(model_data=estimator.model_data,\n",
    "                     role = role,\n",
    "                     framework_version='0.4.0',\n",
    "                     entry_point='predict.py',\n",
    "                     source_dir='serve',\n",
    "                     predictor_cls=StringPredictor)\n",
    "predictor = model.deploy(initial_instance_count=1, instance_type='ml.m4.xlarge')"
   ]
  },
  {
   "cell_type": "markdown",
   "metadata": {},
   "source": [
    "### Testing the model\n",
    "\n",
    "Now that we have deployed our model with the custom inference code, we should test to see if everything is working. Here we test our model by loading the first `250` positive and negative reviews and send them to the endpoint, then collect the results. The reason for only sending some of the data is that the amount of time it takes for our model to process the input and then perform inference is quite long and so testing the entire data set would be prohibitive."
   ]
  },
  {
   "cell_type": "code",
   "execution_count": null,
   "metadata": {},
   "outputs": [],
   "source": [
    "import glob\n",
    "\n",
    "def test_reviews(data_dir='../data/aclImdb', stop=250):\n",
    "    \n",
    "    results = []\n",
    "    ground = []\n",
    "    \n",
    "    # We make sure to test both positive and negative reviews    \n",
    "    for sentiment in ['pos', 'neg']:\n",
    "        \n",
    "        path = os.path.join(data_dir, 'test', sentiment, '*.txt')\n",
    "        files = glob.glob(path)\n",
    "        \n",
    "        files_read = 0\n",
    "        \n",
    "        print('Starting ', sentiment, ' files')\n",
    "        \n",
    "        # Iterate through the files and send them to the predictor\n",
    "        for f in files:\n",
    "            with open(f) as review:\n",
    "                # First, we store the ground truth (was the review positive or negative)\n",
    "                if sentiment == 'pos':\n",
    "                    ground.append(1)\n",
    "                else:\n",
    "                    ground.append(0)\n",
    "                # Read in the review and convert to 'utf-8' for transmission via HTTP\n",
    "                review_input = review.read().encode('utf-8')\n",
    "                # Send the review to the predictor and store the results\n",
    "                results.append(int(predictor.predict(review_input)))\n",
    "                \n",
    "            # Sending reviews to our endpoint one at a time takes a while so we\n",
    "            # only send a small number of reviews\n",
    "            files_read += 1\n",
    "            if files_read == stop:\n",
    "                break\n",
    "            \n",
    "    return ground, results"
   ]
  },
  {
   "cell_type": "code",
   "execution_count": null,
   "metadata": {},
   "outputs": [],
   "source": [
    "ground, results = test_reviews()"
   ]
  },
  {
   "cell_type": "code",
   "execution_count": null,
   "metadata": {},
   "outputs": [],
   "source": [
    "from sklearn.metrics import accuracy_score\n",
    "accuracy_score(ground, results)"
   ]
  },
  {
   "cell_type": "markdown",
   "metadata": {},
   "source": [
    "As an additional test, we can try sending the `test_review` that we looked at earlier."
   ]
  },
  {
   "cell_type": "code",
   "execution_count": null,
   "metadata": {},
   "outputs": [],
   "source": [
    "predictor.predict(test_review)"
   ]
  },
  {
   "cell_type": "markdown",
   "metadata": {},
   "source": [
    "Now that we know our endpoint is working as expected, we can set up the web page that will interact with it. If you don't have time to finish the project now, make sure to skip down to the end of this notebook and shut down your endpoint. You can deploy it again when you come back."
   ]
  },
  {
   "cell_type": "markdown",
   "metadata": {},
   "source": [
    "## Step 7 (again): Use the model for the web app\n",
    "\n",
    "> **TODO:** This entire section and the next contain tasks for you to complete, mostly using the AWS console.\n",
    "\n",
    "So far we have been accessing our model endpoint by constructing a predictor object which uses the endpoint and then just using the predictor object to perform inference. What if we wanted to create a web app which accessed our model? The way things are set up currently makes that not possible since in order to access a SageMaker endpoint the app would first have to authenticate with AWS using an IAM role which included access to SageMaker endpoints. However, there is an easier way! We just need to use some additional AWS services.\n",
    "\n",
    "<img src=\"Web App Diagram.svg\">\n",
    "\n",
    "The diagram above gives an overview of how the various services will work together. On the far right is the model which we trained above and which is deployed using SageMaker. On the far left is our web app that collects a user's movie review, sends it off and expects a positive or negative sentiment in return.\n",
    "\n",
    "In the middle is where some of the magic happens. We will construct a Lambda function, which you can think of as a straightforward Python function that can be executed whenever a specified event occurs. We will give this function permission to send and recieve data from a SageMaker endpoint.\n",
    "\n",
    "Lastly, the method we will use to execute the Lambda function is a new endpoint that we will create using API Gateway. This endpoint will be a url that listens for data to be sent to it. Once it gets some data it will pass that data on to the Lambda function and then return whatever the Lambda function returns. Essentially it will act as an interface that lets our web app communicate with the Lambda function.\n",
    "\n",
    "### Setting up a Lambda function\n",
    "\n",
    "The first thing we are going to do is set up a Lambda function. This Lambda function will be executed whenever our public API has data sent to it. When it is executed it will receive the data, perform any sort of processing that is required, send the data (the review) to the SageMaker endpoint we've created and then return the result.\n",
    "\n",
    "#### Part A: Create an IAM Role for the Lambda function\n",
    "\n",
    "Since we want the Lambda function to call a SageMaker endpoint, we need to make sure that it has permission to do so. To do this, we will construct a role that we can later give the Lambda function.\n",
    "\n",
    "Using the AWS Console, navigate to the **IAM** page and click on **Roles**. Then, click on **Create role**. Make sure that the **AWS service** is the type of trusted entity selected and choose **Lambda** as the service that will use this role, then click **Next: Permissions**.\n",
    "\n",
    "In the search box type `sagemaker` and select the check box next to the **AmazonSageMakerFullAccess** policy. Then, click on **Next: Review**.\n",
    "\n",
    "Lastly, give this role a name. Make sure you use a name that you will remember later on, for example `LambdaSageMakerRole`. Then, click on **Create role**.\n",
    "\n",
    "#### Part B: Create a Lambda function\n",
    "\n",
    "Now it is time to actually create the Lambda function.\n",
    "\n",
    "Using the AWS Console, navigate to the AWS Lambda page and click on **Create a function**. When you get to the next page, make sure that **Author from scratch** is selected. Now, name your Lambda function, using a name that you will remember later on, for example `sentiment_analysis_func`. Make sure that the **Python 3.6** runtime is selected and then choose the role that you created in the previous part. Then, click on **Create Function**.\n",
    "\n",
    "On the next page you will see some information about the Lambda function you've just created. If you scroll down you should see an editor in which you can write the code that will be executed when your Lambda function is triggered. In our example, we will use the code below. \n",
    "\n",
    "```python\n",
    "# We need to use the low-level library to interact with SageMaker since the SageMaker API\n",
    "# is not available natively through Lambda.\n",
    "import boto3\n",
    "\n",
    "def lambda_handler(event, context):\n",
    "\n",
    "    # The SageMaker runtime is what allows us to invoke the endpoint that we've created.\n",
    "    runtime = boto3.Session().client('sagemaker-runtime')\n",
    "\n",
    "    # Now we use the SageMaker runtime to invoke our endpoint, sending the review we were given\n",
    "    response = runtime.invoke_endpoint(EndpointName = '**ENDPOINT NAME HERE**',    # The name of the endpoint we created\n",
    "                                       ContentType = 'text/plain',                 # The data format that is expected\n",
    "                                       Body = event['body'])                       # The actual review\n",
    "\n",
    "    # The response is an HTTP response whose body contains the result of our inference\n",
    "    result = response['Body'].read().decode('utf-8')\n",
    "\n",
    "    return {\n",
    "        'statusCode' : 200,\n",
    "        'headers' : { 'Content-Type' : 'text/plain', 'Access-Control-Allow-Origin' : '*' },\n",
    "        'body' : result\n",
    "    }\n",
    "```\n",
    "\n",
    "Once you have copy and pasted the code above into the Lambda code editor, replace the `**ENDPOINT NAME HERE**` portion with the name of the endpoint that we deployed earlier. You can determine the name of the endpoint using the code cell below."
   ]
  },
  {
   "cell_type": "code",
   "execution_count": null,
   "metadata": {},
   "outputs": [],
   "source": [
    "predictor.endpoint"
   ]
  },
  {
   "cell_type": "markdown",
   "metadata": {},
   "source": [
    "Once you have added the endpoint name to the Lambda function, click on **Save**. Your Lambda function is now up and running. Next we need to create a way for our web app to execute the Lambda function.\n",
    "\n",
    "### Setting up API Gateway\n",
    "\n",
    "Now that our Lambda function is set up, it is time to create a new API using API Gateway that will trigger the Lambda function we have just created.\n",
    "\n",
    "Using AWS Console, navigate to **Amazon API Gateway** and then click on **Get started**.\n",
    "\n",
    "On the next page, make sure that **New API** is selected and give the new api a name, for example, `sentiment_analysis_api`. Then, click on **Create API**.\n",
    "\n",
    "Now we have created an API, however it doesn't currently do anything. What we want it to do is to trigger the Lambda function that we created earlier.\n",
    "\n",
    "Select the **Actions** dropdown menu and click **Create Method**. A new blank method will be created, select its dropdown menu and select **POST**, then click on the check mark beside it.\n",
    "\n",
    "For the integration point, make sure that **Lambda Function** is selected and click on the **Use Lambda Proxy integration**. This option makes sure that the data that is sent to the API is then sent directly to the Lambda function with no processing. It also means that the return value must be a proper response object as it will also not be processed by API Gateway.\n",
    "\n",
    "Type the name of the Lambda function you created earlier into the **Lambda Function** text entry box and then click on **Save**. Click on **OK** in the pop-up box that then appears, giving permission to API Gateway to invoke the Lambda function you created.\n",
    "\n",
    "The last step in creating the API Gateway is to select the **Actions** dropdown and click on **Deploy API**. You will need to create a new Deployment stage and name it anything you like, for example `prod`.\n",
    "\n",
    "You have now successfully set up a public API to access your SageMaker model. Make sure to copy or write down the URL provided to invoke your newly created public API as this will be needed in the next step. This URL can be found at the top of the page, highlighted in blue next to the text **Invoke URL**."
   ]
  },
  {
   "cell_type": "markdown",
   "metadata": {},
   "source": [
    "## Step 4: Deploying our web app\n",
    "\n",
    "Now that we have a publicly available API, we can start using it in a web app. For our purposes, we have provided a simple static html file which can make use of the public api you created earlier.\n",
    "\n",
    "In the `website` folder there should be a file called `index.html`. Download the file to your computer and open that file up in a text editor of your choice. There should be a line which contains **\\*\\*REPLACE WITH PUBLIC API URL\\*\\***. Replace this string with the url that you wrote down in the last step and then save the file.\n",
    "\n",
    "Now, if you open `index.html` on your local computer, your browser will behave as a local web server and you can use the provided site to interact with your SageMaker model.\n",
    "\n",
    "If you'd like to go further, you can host this html file anywhere you'd like, for example using github or hosting a static site on Amazon's S3. Once you have done this you can share the link with anyone you'd like and have them play with it too!\n",
    "\n",
    "> **Important Note** In order for the web app to communicate with the SageMaker endpoint, the endpoint has to actually be deployed and running. This means that you are paying for it. Make sure that the endpoint is running when you want to use the web app but that you shut it down when you don't need it, otherwise you will end up with a surprisingly large AWS bill.\n",
    "\n",
    "**TODO:** Make sure that you include the edited `index.html` file in your project submission."
   ]
  },
  {
   "cell_type": "markdown",
   "metadata": {},
   "source": [
    "Now that your web app is working, trying playing around with it and see how well it works.\n",
    "\n",
    "**Question**: Give an example of a review that you entered into your web app. What was the predicted sentiment of your example review?"
   ]
  },
  {
   "cell_type": "markdown",
   "metadata": {},
   "source": [
    "**Answer:**"
   ]
  },
  {
   "cell_type": "markdown",
   "metadata": {},
   "source": [
    "### Delete the endpoint\n",
    "\n",
    "Remember to always shut down your endpoint if you are no longer using it. You are charged for the length of time that the endpoint is running so if you forget and leave it on you could end up with an unexpectedly large bill."
   ]
  },
  {
   "cell_type": "code",
   "execution_count": null,
   "metadata": {},
   "outputs": [],
   "source": [
    "predictor.delete_endpoint()"
   ]
  },
  {
   "cell_type": "code",
   "execution_count": null,
   "metadata": {},
   "outputs": [],
   "source": []
  }
 ],
 "metadata": {
  "kernelspec": {
   "display_name": "conda_pytorch_p36",
   "language": "python",
   "name": "conda_pytorch_p36"
  },
  "language_info": {
   "codemirror_mode": {
    "name": "ipython",
    "version": 3
   },
   "file_extension": ".py",
   "mimetype": "text/x-python",
   "name": "python",
   "nbconvert_exporter": "python",
   "pygments_lexer": "ipython3",
   "version": "3.6.5"
  }
 },
 "nbformat": 4,
 "nbformat_minor": 4
}
